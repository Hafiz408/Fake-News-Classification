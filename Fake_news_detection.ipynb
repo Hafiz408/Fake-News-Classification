{
  "cells": [
    {
      "cell_type": "markdown",
      "metadata": {
        "id": "z8fmuELiiV5F"
      },
      "source": [
        "## **IMPORTING THE LIBRARIES**"
      ]
    },
    {
      "cell_type": "code",
      "execution_count": null,
      "metadata": {
        "id": "kC6uaLIqOXW1"
      },
      "outputs": [],
      "source": [
        "import pandas as pd\n",
        "import numpy as np\n",
        "import matplotlib.pyplot as plt\n",
        "import seaborn as sns\n",
        "from sklearn.feature_extraction.text import CountVectorizer\n",
        "from sklearn.feature_extraction.text import TfidfTransformer\n",
        "from sklearn import feature_extraction, linear_model, model_selection, preprocessing\n",
        "from sklearn.metrics import accuracy_score,classification_report,roc_curve,roc_auc_score\n",
        "from sklearn.model_selection import train_test_split\n",
        "from sklearn.pipeline import Pipeline"
      ]
    },
    {
      "cell_type": "markdown",
      "metadata": {
        "id": "Rd-fy1iqigy9"
      },
      "source": [
        "# **READ DATASETS**"
      ]
    },
    {
      "cell_type": "code",
      "execution_count": null,
      "metadata": {
        "id": "EgDSlJrUPgOV",
        "colab": {
          "base_uri": "https://localhost:8080/"
        },
        "outputId": "edea1aa5-8ff7-4184-a706-0887006af81f"
      },
      "outputs": [
        {
          "output_type": "stream",
          "name": "stdout",
          "text": [
            "Drive already mounted at /content/drive; to attempt to forcibly remount, call drive.mount(\"/content/drive\", force_remount=True).\n"
          ]
        }
      ],
      "source": [
        "from google.colab import drive\n",
        "drive.mount('/content/drive')"
      ]
    },
    {
      "cell_type": "code",
      "execution_count": null,
      "metadata": {
        "id": "fCe-KOD3QOWo"
      },
      "outputs": [],
      "source": [
        "fake = pd.read_csv(\"/content/drive/MyDrive/Dataset/fake news detection/Fake.csv\")\n",
        "true = pd.read_csv(\"/content/drive/MyDrive/Dataset/fake news detection/True.csv\")"
      ]
    },
    {
      "cell_type": "code",
      "execution_count": null,
      "metadata": {
        "id": "LFCC5UCkj6pZ",
        "colab": {
          "base_uri": "https://localhost:8080/"
        },
        "outputId": "677a9589-e902-4565-fc60-3d7ad081ff4d"
      },
      "outputs": [
        {
          "output_type": "execute_result",
          "data": {
            "text/plain": [
              "(23481, 4)"
            ]
          },
          "metadata": {},
          "execution_count": 4
        }
      ],
      "source": [
        "fake.shape"
      ]
    },
    {
      "cell_type": "code",
      "execution_count": null,
      "metadata": {
        "id": "r3CTKGKbkFb4",
        "colab": {
          "base_uri": "https://localhost:8080/"
        },
        "outputId": "230391e8-5acf-4cb8-fd0c-378d799476f6"
      },
      "outputs": [
        {
          "output_type": "execute_result",
          "data": {
            "text/plain": [
              "(21417, 4)"
            ]
          },
          "metadata": {},
          "execution_count": 5
        }
      ],
      "source": [
        "true.shape"
      ]
    },
    {
      "cell_type": "markdown",
      "metadata": {
        "id": "GOGa9LK2ipMw"
      },
      "source": [
        "# **DATA CLEANING AND PREPARATION**"
      ]
    },
    {
      "cell_type": "code",
      "execution_count": null,
      "metadata": {
        "id": "qDVEo2GmdGOz"
      },
      "outputs": [],
      "source": [
        "fake['target'] = 0\n",
        "true['target'] = 1"
      ]
    },
    {
      "cell_type": "code",
      "execution_count": null,
      "metadata": {
        "id": "SyIbFuYmdQy3",
        "colab": {
          "base_uri": "https://localhost:8080/",
          "height": 206
        },
        "outputId": "292b75d2-a820-448b-e515-c4f2b3b4575e"
      },
      "outputs": [
        {
          "output_type": "execute_result",
          "data": {
            "text/plain": [
              "                                               title  \\\n",
              "0   Donald Trump Sends Out Embarrassing New Year’...   \n",
              "1   Drunk Bragging Trump Staffer Started Russian ...   \n",
              "2   Sheriff David Clarke Becomes An Internet Joke...   \n",
              "3   Trump Is So Obsessed He Even Has Obama’s Name...   \n",
              "4   Pope Francis Just Called Out Donald Trump Dur...   \n",
              "\n",
              "                                                text subject  \\\n",
              "0  Donald Trump just couldn t wish all Americans ...    News   \n",
              "1  House Intelligence Committee Chairman Devin Nu...    News   \n",
              "2  On Friday, it was revealed that former Milwauk...    News   \n",
              "3  On Christmas day, Donald Trump announced that ...    News   \n",
              "4  Pope Francis used his annual Christmas Day mes...    News   \n",
              "\n",
              "                date  target  \n",
              "0  December 31, 2017       0  \n",
              "1  December 31, 2017       0  \n",
              "2  December 30, 2017       0  \n",
              "3  December 29, 2017       0  \n",
              "4  December 25, 2017       0  "
            ],
            "text/html": [
              "\n",
              "  <div id=\"df-8f86522d-a481-44fd-82dd-8150d2f3ceaa\">\n",
              "    <div class=\"colab-df-container\">\n",
              "      <div>\n",
              "<style scoped>\n",
              "    .dataframe tbody tr th:only-of-type {\n",
              "        vertical-align: middle;\n",
              "    }\n",
              "\n",
              "    .dataframe tbody tr th {\n",
              "        vertical-align: top;\n",
              "    }\n",
              "\n",
              "    .dataframe thead th {\n",
              "        text-align: right;\n",
              "    }\n",
              "</style>\n",
              "<table border=\"1\" class=\"dataframe\">\n",
              "  <thead>\n",
              "    <tr style=\"text-align: right;\">\n",
              "      <th></th>\n",
              "      <th>title</th>\n",
              "      <th>text</th>\n",
              "      <th>subject</th>\n",
              "      <th>date</th>\n",
              "      <th>target</th>\n",
              "    </tr>\n",
              "  </thead>\n",
              "  <tbody>\n",
              "    <tr>\n",
              "      <th>0</th>\n",
              "      <td>Donald Trump Sends Out Embarrassing New Year’...</td>\n",
              "      <td>Donald Trump just couldn t wish all Americans ...</td>\n",
              "      <td>News</td>\n",
              "      <td>December 31, 2017</td>\n",
              "      <td>0</td>\n",
              "    </tr>\n",
              "    <tr>\n",
              "      <th>1</th>\n",
              "      <td>Drunk Bragging Trump Staffer Started Russian ...</td>\n",
              "      <td>House Intelligence Committee Chairman Devin Nu...</td>\n",
              "      <td>News</td>\n",
              "      <td>December 31, 2017</td>\n",
              "      <td>0</td>\n",
              "    </tr>\n",
              "    <tr>\n",
              "      <th>2</th>\n",
              "      <td>Sheriff David Clarke Becomes An Internet Joke...</td>\n",
              "      <td>On Friday, it was revealed that former Milwauk...</td>\n",
              "      <td>News</td>\n",
              "      <td>December 30, 2017</td>\n",
              "      <td>0</td>\n",
              "    </tr>\n",
              "    <tr>\n",
              "      <th>3</th>\n",
              "      <td>Trump Is So Obsessed He Even Has Obama’s Name...</td>\n",
              "      <td>On Christmas day, Donald Trump announced that ...</td>\n",
              "      <td>News</td>\n",
              "      <td>December 29, 2017</td>\n",
              "      <td>0</td>\n",
              "    </tr>\n",
              "    <tr>\n",
              "      <th>4</th>\n",
              "      <td>Pope Francis Just Called Out Donald Trump Dur...</td>\n",
              "      <td>Pope Francis used his annual Christmas Day mes...</td>\n",
              "      <td>News</td>\n",
              "      <td>December 25, 2017</td>\n",
              "      <td>0</td>\n",
              "    </tr>\n",
              "  </tbody>\n",
              "</table>\n",
              "</div>\n",
              "      <button class=\"colab-df-convert\" onclick=\"convertToInteractive('df-8f86522d-a481-44fd-82dd-8150d2f3ceaa')\"\n",
              "              title=\"Convert this dataframe to an interactive table.\"\n",
              "              style=\"display:none;\">\n",
              "        \n",
              "  <svg xmlns=\"http://www.w3.org/2000/svg\" height=\"24px\"viewBox=\"0 0 24 24\"\n",
              "       width=\"24px\">\n",
              "    <path d=\"M0 0h24v24H0V0z\" fill=\"none\"/>\n",
              "    <path d=\"M18.56 5.44l.94 2.06.94-2.06 2.06-.94-2.06-.94-.94-2.06-.94 2.06-2.06.94zm-11 1L8.5 8.5l.94-2.06 2.06-.94-2.06-.94L8.5 2.5l-.94 2.06-2.06.94zm10 10l.94 2.06.94-2.06 2.06-.94-2.06-.94-.94-2.06-.94 2.06-2.06.94z\"/><path d=\"M17.41 7.96l-1.37-1.37c-.4-.4-.92-.59-1.43-.59-.52 0-1.04.2-1.43.59L10.3 9.45l-7.72 7.72c-.78.78-.78 2.05 0 2.83L4 21.41c.39.39.9.59 1.41.59.51 0 1.02-.2 1.41-.59l7.78-7.78 2.81-2.81c.8-.78.8-2.07 0-2.86zM5.41 20L4 18.59l7.72-7.72 1.47 1.35L5.41 20z\"/>\n",
              "  </svg>\n",
              "      </button>\n",
              "      \n",
              "  <style>\n",
              "    .colab-df-container {\n",
              "      display:flex;\n",
              "      flex-wrap:wrap;\n",
              "      gap: 12px;\n",
              "    }\n",
              "\n",
              "    .colab-df-convert {\n",
              "      background-color: #E8F0FE;\n",
              "      border: none;\n",
              "      border-radius: 50%;\n",
              "      cursor: pointer;\n",
              "      display: none;\n",
              "      fill: #1967D2;\n",
              "      height: 32px;\n",
              "      padding: 0 0 0 0;\n",
              "      width: 32px;\n",
              "    }\n",
              "\n",
              "    .colab-df-convert:hover {\n",
              "      background-color: #E2EBFA;\n",
              "      box-shadow: 0px 1px 2px rgba(60, 64, 67, 0.3), 0px 1px 3px 1px rgba(60, 64, 67, 0.15);\n",
              "      fill: #174EA6;\n",
              "    }\n",
              "\n",
              "    [theme=dark] .colab-df-convert {\n",
              "      background-color: #3B4455;\n",
              "      fill: #D2E3FC;\n",
              "    }\n",
              "\n",
              "    [theme=dark] .colab-df-convert:hover {\n",
              "      background-color: #434B5C;\n",
              "      box-shadow: 0px 1px 3px 1px rgba(0, 0, 0, 0.15);\n",
              "      filter: drop-shadow(0px 1px 2px rgba(0, 0, 0, 0.3));\n",
              "      fill: #FFFFFF;\n",
              "    }\n",
              "  </style>\n",
              "\n",
              "      <script>\n",
              "        const buttonEl =\n",
              "          document.querySelector('#df-8f86522d-a481-44fd-82dd-8150d2f3ceaa button.colab-df-convert');\n",
              "        buttonEl.style.display =\n",
              "          google.colab.kernel.accessAllowed ? 'block' : 'none';\n",
              "\n",
              "        async function convertToInteractive(key) {\n",
              "          const element = document.querySelector('#df-8f86522d-a481-44fd-82dd-8150d2f3ceaa');\n",
              "          const dataTable =\n",
              "            await google.colab.kernel.invokeFunction('convertToInteractive',\n",
              "                                                     [key], {});\n",
              "          if (!dataTable) return;\n",
              "\n",
              "          const docLinkHtml = 'Like what you see? Visit the ' +\n",
              "            '<a target=\"_blank\" href=https://colab.research.google.com/notebooks/data_table.ipynb>data table notebook</a>'\n",
              "            + ' to learn more about interactive tables.';\n",
              "          element.innerHTML = '';\n",
              "          dataTable['output_type'] = 'display_data';\n",
              "          await google.colab.output.renderOutput(dataTable, element);\n",
              "          const docLink = document.createElement('div');\n",
              "          docLink.innerHTML = docLinkHtml;\n",
              "          element.appendChild(docLink);\n",
              "        }\n",
              "      </script>\n",
              "    </div>\n",
              "  </div>\n",
              "  "
            ]
          },
          "metadata": {},
          "execution_count": 7
        }
      ],
      "source": [
        "fake.head()"
      ]
    },
    {
      "cell_type": "code",
      "execution_count": null,
      "metadata": {
        "id": "LzKfE_CqdSOO",
        "colab": {
          "base_uri": "https://localhost:8080/",
          "height": 206
        },
        "outputId": "12b97dd2-f179-4a81-c1a1-fe39c7b49e50"
      },
      "outputs": [
        {
          "output_type": "execute_result",
          "data": {
            "text/plain": [
              "                                               title  \\\n",
              "0  As U.S. budget fight looms, Republicans flip t...   \n",
              "1  U.S. military to accept transgender recruits o...   \n",
              "2  Senior U.S. Republican senator: 'Let Mr. Muell...   \n",
              "3  FBI Russia probe helped by Australian diplomat...   \n",
              "4  Trump wants Postal Service to charge 'much mor...   \n",
              "\n",
              "                                                text       subject  \\\n",
              "0  WASHINGTON (Reuters) - The head of a conservat...  politicsNews   \n",
              "1  WASHINGTON (Reuters) - Transgender people will...  politicsNews   \n",
              "2  WASHINGTON (Reuters) - The special counsel inv...  politicsNews   \n",
              "3  WASHINGTON (Reuters) - Trump campaign adviser ...  politicsNews   \n",
              "4  SEATTLE/WASHINGTON (Reuters) - President Donal...  politicsNews   \n",
              "\n",
              "                 date  target  \n",
              "0  December 31, 2017        1  \n",
              "1  December 29, 2017        1  \n",
              "2  December 31, 2017        1  \n",
              "3  December 30, 2017        1  \n",
              "4  December 29, 2017        1  "
            ],
            "text/html": [
              "\n",
              "  <div id=\"df-14bcb0ff-c9f6-4dbe-8769-af8c0c0af38c\">\n",
              "    <div class=\"colab-df-container\">\n",
              "      <div>\n",
              "<style scoped>\n",
              "    .dataframe tbody tr th:only-of-type {\n",
              "        vertical-align: middle;\n",
              "    }\n",
              "\n",
              "    .dataframe tbody tr th {\n",
              "        vertical-align: top;\n",
              "    }\n",
              "\n",
              "    .dataframe thead th {\n",
              "        text-align: right;\n",
              "    }\n",
              "</style>\n",
              "<table border=\"1\" class=\"dataframe\">\n",
              "  <thead>\n",
              "    <tr style=\"text-align: right;\">\n",
              "      <th></th>\n",
              "      <th>title</th>\n",
              "      <th>text</th>\n",
              "      <th>subject</th>\n",
              "      <th>date</th>\n",
              "      <th>target</th>\n",
              "    </tr>\n",
              "  </thead>\n",
              "  <tbody>\n",
              "    <tr>\n",
              "      <th>0</th>\n",
              "      <td>As U.S. budget fight looms, Republicans flip t...</td>\n",
              "      <td>WASHINGTON (Reuters) - The head of a conservat...</td>\n",
              "      <td>politicsNews</td>\n",
              "      <td>December 31, 2017</td>\n",
              "      <td>1</td>\n",
              "    </tr>\n",
              "    <tr>\n",
              "      <th>1</th>\n",
              "      <td>U.S. military to accept transgender recruits o...</td>\n",
              "      <td>WASHINGTON (Reuters) - Transgender people will...</td>\n",
              "      <td>politicsNews</td>\n",
              "      <td>December 29, 2017</td>\n",
              "      <td>1</td>\n",
              "    </tr>\n",
              "    <tr>\n",
              "      <th>2</th>\n",
              "      <td>Senior U.S. Republican senator: 'Let Mr. Muell...</td>\n",
              "      <td>WASHINGTON (Reuters) - The special counsel inv...</td>\n",
              "      <td>politicsNews</td>\n",
              "      <td>December 31, 2017</td>\n",
              "      <td>1</td>\n",
              "    </tr>\n",
              "    <tr>\n",
              "      <th>3</th>\n",
              "      <td>FBI Russia probe helped by Australian diplomat...</td>\n",
              "      <td>WASHINGTON (Reuters) - Trump campaign adviser ...</td>\n",
              "      <td>politicsNews</td>\n",
              "      <td>December 30, 2017</td>\n",
              "      <td>1</td>\n",
              "    </tr>\n",
              "    <tr>\n",
              "      <th>4</th>\n",
              "      <td>Trump wants Postal Service to charge 'much mor...</td>\n",
              "      <td>SEATTLE/WASHINGTON (Reuters) - President Donal...</td>\n",
              "      <td>politicsNews</td>\n",
              "      <td>December 29, 2017</td>\n",
              "      <td>1</td>\n",
              "    </tr>\n",
              "  </tbody>\n",
              "</table>\n",
              "</div>\n",
              "      <button class=\"colab-df-convert\" onclick=\"convertToInteractive('df-14bcb0ff-c9f6-4dbe-8769-af8c0c0af38c')\"\n",
              "              title=\"Convert this dataframe to an interactive table.\"\n",
              "              style=\"display:none;\">\n",
              "        \n",
              "  <svg xmlns=\"http://www.w3.org/2000/svg\" height=\"24px\"viewBox=\"0 0 24 24\"\n",
              "       width=\"24px\">\n",
              "    <path d=\"M0 0h24v24H0V0z\" fill=\"none\"/>\n",
              "    <path d=\"M18.56 5.44l.94 2.06.94-2.06 2.06-.94-2.06-.94-.94-2.06-.94 2.06-2.06.94zm-11 1L8.5 8.5l.94-2.06 2.06-.94-2.06-.94L8.5 2.5l-.94 2.06-2.06.94zm10 10l.94 2.06.94-2.06 2.06-.94-2.06-.94-.94-2.06-.94 2.06-2.06.94z\"/><path d=\"M17.41 7.96l-1.37-1.37c-.4-.4-.92-.59-1.43-.59-.52 0-1.04.2-1.43.59L10.3 9.45l-7.72 7.72c-.78.78-.78 2.05 0 2.83L4 21.41c.39.39.9.59 1.41.59.51 0 1.02-.2 1.41-.59l7.78-7.78 2.81-2.81c.8-.78.8-2.07 0-2.86zM5.41 20L4 18.59l7.72-7.72 1.47 1.35L5.41 20z\"/>\n",
              "  </svg>\n",
              "      </button>\n",
              "      \n",
              "  <style>\n",
              "    .colab-df-container {\n",
              "      display:flex;\n",
              "      flex-wrap:wrap;\n",
              "      gap: 12px;\n",
              "    }\n",
              "\n",
              "    .colab-df-convert {\n",
              "      background-color: #E8F0FE;\n",
              "      border: none;\n",
              "      border-radius: 50%;\n",
              "      cursor: pointer;\n",
              "      display: none;\n",
              "      fill: #1967D2;\n",
              "      height: 32px;\n",
              "      padding: 0 0 0 0;\n",
              "      width: 32px;\n",
              "    }\n",
              "\n",
              "    .colab-df-convert:hover {\n",
              "      background-color: #E2EBFA;\n",
              "      box-shadow: 0px 1px 2px rgba(60, 64, 67, 0.3), 0px 1px 3px 1px rgba(60, 64, 67, 0.15);\n",
              "      fill: #174EA6;\n",
              "    }\n",
              "\n",
              "    [theme=dark] .colab-df-convert {\n",
              "      background-color: #3B4455;\n",
              "      fill: #D2E3FC;\n",
              "    }\n",
              "\n",
              "    [theme=dark] .colab-df-convert:hover {\n",
              "      background-color: #434B5C;\n",
              "      box-shadow: 0px 1px 3px 1px rgba(0, 0, 0, 0.15);\n",
              "      filter: drop-shadow(0px 1px 2px rgba(0, 0, 0, 0.3));\n",
              "      fill: #FFFFFF;\n",
              "    }\n",
              "  </style>\n",
              "\n",
              "      <script>\n",
              "        const buttonEl =\n",
              "          document.querySelector('#df-14bcb0ff-c9f6-4dbe-8769-af8c0c0af38c button.colab-df-convert');\n",
              "        buttonEl.style.display =\n",
              "          google.colab.kernel.accessAllowed ? 'block' : 'none';\n",
              "\n",
              "        async function convertToInteractive(key) {\n",
              "          const element = document.querySelector('#df-14bcb0ff-c9f6-4dbe-8769-af8c0c0af38c');\n",
              "          const dataTable =\n",
              "            await google.colab.kernel.invokeFunction('convertToInteractive',\n",
              "                                                     [key], {});\n",
              "          if (!dataTable) return;\n",
              "\n",
              "          const docLinkHtml = 'Like what you see? Visit the ' +\n",
              "            '<a target=\"_blank\" href=https://colab.research.google.com/notebooks/data_table.ipynb>data table notebook</a>'\n",
              "            + ' to learn more about interactive tables.';\n",
              "          element.innerHTML = '';\n",
              "          dataTable['output_type'] = 'display_data';\n",
              "          await google.colab.output.renderOutput(dataTable, element);\n",
              "          const docLink = document.createElement('div');\n",
              "          docLink.innerHTML = docLinkHtml;\n",
              "          element.appendChild(docLink);\n",
              "        }\n",
              "      </script>\n",
              "    </div>\n",
              "  </div>\n",
              "  "
            ]
          },
          "metadata": {},
          "execution_count": 8
        }
      ],
      "source": [
        "true.head()"
      ]
    },
    {
      "cell_type": "code",
      "execution_count": null,
      "metadata": {
        "id": "jxrqPm1cdY_y",
        "colab": {
          "base_uri": "https://localhost:8080/"
        },
        "outputId": "88aa1b61-a758-40b3-dd08-313504aa3c31"
      },
      "outputs": [
        {
          "output_type": "execute_result",
          "data": {
            "text/plain": [
              "(44898, 5)"
            ]
          },
          "metadata": {},
          "execution_count": 9
        }
      ],
      "source": [
        "data = pd.concat([fake,true]).reset_index(drop = True)\n",
        "data.shape"
      ]
    },
    {
      "cell_type": "code",
      "execution_count": null,
      "metadata": {
        "id": "Wdcu5aWQdlkB",
        "colab": {
          "base_uri": "https://localhost:8080/",
          "height": 206
        },
        "outputId": "2150b854-4cc3-474c-94fa-7eea0bee6d19"
      },
      "outputs": [
        {
          "output_type": "execute_result",
          "data": {
            "text/plain": [
              "                                               title  \\\n",
              "0   Donald Trump Sends Out Embarrassing New Year’...   \n",
              "1   Drunk Bragging Trump Staffer Started Russian ...   \n",
              "2   Sheriff David Clarke Becomes An Internet Joke...   \n",
              "3   Trump Is So Obsessed He Even Has Obama’s Name...   \n",
              "4   Pope Francis Just Called Out Donald Trump Dur...   \n",
              "\n",
              "                                                text subject  \\\n",
              "0  Donald Trump just couldn t wish all Americans ...    News   \n",
              "1  House Intelligence Committee Chairman Devin Nu...    News   \n",
              "2  On Friday, it was revealed that former Milwauk...    News   \n",
              "3  On Christmas day, Donald Trump announced that ...    News   \n",
              "4  Pope Francis used his annual Christmas Day mes...    News   \n",
              "\n",
              "                date  target  \n",
              "0  December 31, 2017       0  \n",
              "1  December 31, 2017       0  \n",
              "2  December 30, 2017       0  \n",
              "3  December 29, 2017       0  \n",
              "4  December 25, 2017       0  "
            ],
            "text/html": [
              "\n",
              "  <div id=\"df-11f5e6ad-13f4-4cd7-a798-fae8a303d6b5\">\n",
              "    <div class=\"colab-df-container\">\n",
              "      <div>\n",
              "<style scoped>\n",
              "    .dataframe tbody tr th:only-of-type {\n",
              "        vertical-align: middle;\n",
              "    }\n",
              "\n",
              "    .dataframe tbody tr th {\n",
              "        vertical-align: top;\n",
              "    }\n",
              "\n",
              "    .dataframe thead th {\n",
              "        text-align: right;\n",
              "    }\n",
              "</style>\n",
              "<table border=\"1\" class=\"dataframe\">\n",
              "  <thead>\n",
              "    <tr style=\"text-align: right;\">\n",
              "      <th></th>\n",
              "      <th>title</th>\n",
              "      <th>text</th>\n",
              "      <th>subject</th>\n",
              "      <th>date</th>\n",
              "      <th>target</th>\n",
              "    </tr>\n",
              "  </thead>\n",
              "  <tbody>\n",
              "    <tr>\n",
              "      <th>0</th>\n",
              "      <td>Donald Trump Sends Out Embarrassing New Year’...</td>\n",
              "      <td>Donald Trump just couldn t wish all Americans ...</td>\n",
              "      <td>News</td>\n",
              "      <td>December 31, 2017</td>\n",
              "      <td>0</td>\n",
              "    </tr>\n",
              "    <tr>\n",
              "      <th>1</th>\n",
              "      <td>Drunk Bragging Trump Staffer Started Russian ...</td>\n",
              "      <td>House Intelligence Committee Chairman Devin Nu...</td>\n",
              "      <td>News</td>\n",
              "      <td>December 31, 2017</td>\n",
              "      <td>0</td>\n",
              "    </tr>\n",
              "    <tr>\n",
              "      <th>2</th>\n",
              "      <td>Sheriff David Clarke Becomes An Internet Joke...</td>\n",
              "      <td>On Friday, it was revealed that former Milwauk...</td>\n",
              "      <td>News</td>\n",
              "      <td>December 30, 2017</td>\n",
              "      <td>0</td>\n",
              "    </tr>\n",
              "    <tr>\n",
              "      <th>3</th>\n",
              "      <td>Trump Is So Obsessed He Even Has Obama’s Name...</td>\n",
              "      <td>On Christmas day, Donald Trump announced that ...</td>\n",
              "      <td>News</td>\n",
              "      <td>December 29, 2017</td>\n",
              "      <td>0</td>\n",
              "    </tr>\n",
              "    <tr>\n",
              "      <th>4</th>\n",
              "      <td>Pope Francis Just Called Out Donald Trump Dur...</td>\n",
              "      <td>Pope Francis used his annual Christmas Day mes...</td>\n",
              "      <td>News</td>\n",
              "      <td>December 25, 2017</td>\n",
              "      <td>0</td>\n",
              "    </tr>\n",
              "  </tbody>\n",
              "</table>\n",
              "</div>\n",
              "      <button class=\"colab-df-convert\" onclick=\"convertToInteractive('df-11f5e6ad-13f4-4cd7-a798-fae8a303d6b5')\"\n",
              "              title=\"Convert this dataframe to an interactive table.\"\n",
              "              style=\"display:none;\">\n",
              "        \n",
              "  <svg xmlns=\"http://www.w3.org/2000/svg\" height=\"24px\"viewBox=\"0 0 24 24\"\n",
              "       width=\"24px\">\n",
              "    <path d=\"M0 0h24v24H0V0z\" fill=\"none\"/>\n",
              "    <path d=\"M18.56 5.44l.94 2.06.94-2.06 2.06-.94-2.06-.94-.94-2.06-.94 2.06-2.06.94zm-11 1L8.5 8.5l.94-2.06 2.06-.94-2.06-.94L8.5 2.5l-.94 2.06-2.06.94zm10 10l.94 2.06.94-2.06 2.06-.94-2.06-.94-.94-2.06-.94 2.06-2.06.94z\"/><path d=\"M17.41 7.96l-1.37-1.37c-.4-.4-.92-.59-1.43-.59-.52 0-1.04.2-1.43.59L10.3 9.45l-7.72 7.72c-.78.78-.78 2.05 0 2.83L4 21.41c.39.39.9.59 1.41.59.51 0 1.02-.2 1.41-.59l7.78-7.78 2.81-2.81c.8-.78.8-2.07 0-2.86zM5.41 20L4 18.59l7.72-7.72 1.47 1.35L5.41 20z\"/>\n",
              "  </svg>\n",
              "      </button>\n",
              "      \n",
              "  <style>\n",
              "    .colab-df-container {\n",
              "      display:flex;\n",
              "      flex-wrap:wrap;\n",
              "      gap: 12px;\n",
              "    }\n",
              "\n",
              "    .colab-df-convert {\n",
              "      background-color: #E8F0FE;\n",
              "      border: none;\n",
              "      border-radius: 50%;\n",
              "      cursor: pointer;\n",
              "      display: none;\n",
              "      fill: #1967D2;\n",
              "      height: 32px;\n",
              "      padding: 0 0 0 0;\n",
              "      width: 32px;\n",
              "    }\n",
              "\n",
              "    .colab-df-convert:hover {\n",
              "      background-color: #E2EBFA;\n",
              "      box-shadow: 0px 1px 2px rgba(60, 64, 67, 0.3), 0px 1px 3px 1px rgba(60, 64, 67, 0.15);\n",
              "      fill: #174EA6;\n",
              "    }\n",
              "\n",
              "    [theme=dark] .colab-df-convert {\n",
              "      background-color: #3B4455;\n",
              "      fill: #D2E3FC;\n",
              "    }\n",
              "\n",
              "    [theme=dark] .colab-df-convert:hover {\n",
              "      background-color: #434B5C;\n",
              "      box-shadow: 0px 1px 3px 1px rgba(0, 0, 0, 0.15);\n",
              "      filter: drop-shadow(0px 1px 2px rgba(0, 0, 0, 0.3));\n",
              "      fill: #FFFFFF;\n",
              "    }\n",
              "  </style>\n",
              "\n",
              "      <script>\n",
              "        const buttonEl =\n",
              "          document.querySelector('#df-11f5e6ad-13f4-4cd7-a798-fae8a303d6b5 button.colab-df-convert');\n",
              "        buttonEl.style.display =\n",
              "          google.colab.kernel.accessAllowed ? 'block' : 'none';\n",
              "\n",
              "        async function convertToInteractive(key) {\n",
              "          const element = document.querySelector('#df-11f5e6ad-13f4-4cd7-a798-fae8a303d6b5');\n",
              "          const dataTable =\n",
              "            await google.colab.kernel.invokeFunction('convertToInteractive',\n",
              "                                                     [key], {});\n",
              "          if (!dataTable) return;\n",
              "\n",
              "          const docLinkHtml = 'Like what you see? Visit the ' +\n",
              "            '<a target=\"_blank\" href=https://colab.research.google.com/notebooks/data_table.ipynb>data table notebook</a>'\n",
              "            + ' to learn more about interactive tables.';\n",
              "          element.innerHTML = '';\n",
              "          dataTable['output_type'] = 'display_data';\n",
              "          await google.colab.output.renderOutput(dataTable, element);\n",
              "          const docLink = document.createElement('div');\n",
              "          docLink.innerHTML = docLinkHtml;\n",
              "          element.appendChild(docLink);\n",
              "        }\n",
              "      </script>\n",
              "    </div>\n",
              "  </div>\n",
              "  "
            ]
          },
          "metadata": {},
          "execution_count": 10
        }
      ],
      "source": [
        "data.head(5)"
      ]
    },
    {
      "cell_type": "code",
      "execution_count": null,
      "metadata": {
        "id": "gBeagstxfNGR",
        "colab": {
          "base_uri": "https://localhost:8080/",
          "height": 206
        },
        "outputId": "fc3b7941-2460-4f7d-d7c4-260fce184868"
      },
      "outputs": [
        {
          "output_type": "execute_result",
          "data": {
            "text/plain": [
              "                                                   title  \\\n",
              "44893  'Fully committed' NATO backs new U.S. approach...   \n",
              "44894  LexisNexis withdrew two products from Chinese ...   \n",
              "44895  Minsk cultural hub becomes haven from authorities   \n",
              "44896  Vatican upbeat on possibility of Pope Francis ...   \n",
              "44897  Indonesia to buy $1.14 billion worth of Russia...   \n",
              "\n",
              "                                                    text    subject  \\\n",
              "44893  BRUSSELS (Reuters) - NATO allies on Tuesday we...  worldnews   \n",
              "44894  LONDON (Reuters) - LexisNexis, a provider of l...  worldnews   \n",
              "44895  MINSK (Reuters) - In the shadow of disused Sov...  worldnews   \n",
              "44896  MOSCOW (Reuters) - Vatican Secretary of State ...  worldnews   \n",
              "44897  JAKARTA (Reuters) - Indonesia will buy 11 Sukh...  worldnews   \n",
              "\n",
              "                   date  target  \n",
              "44893  August 22, 2017        1  \n",
              "44894  August 22, 2017        1  \n",
              "44895  August 22, 2017        1  \n",
              "44896  August 22, 2017        1  \n",
              "44897  August 22, 2017        1  "
            ],
            "text/html": [
              "\n",
              "  <div id=\"df-66860f67-a38b-434f-baa8-aa53e9e91e12\">\n",
              "    <div class=\"colab-df-container\">\n",
              "      <div>\n",
              "<style scoped>\n",
              "    .dataframe tbody tr th:only-of-type {\n",
              "        vertical-align: middle;\n",
              "    }\n",
              "\n",
              "    .dataframe tbody tr th {\n",
              "        vertical-align: top;\n",
              "    }\n",
              "\n",
              "    .dataframe thead th {\n",
              "        text-align: right;\n",
              "    }\n",
              "</style>\n",
              "<table border=\"1\" class=\"dataframe\">\n",
              "  <thead>\n",
              "    <tr style=\"text-align: right;\">\n",
              "      <th></th>\n",
              "      <th>title</th>\n",
              "      <th>text</th>\n",
              "      <th>subject</th>\n",
              "      <th>date</th>\n",
              "      <th>target</th>\n",
              "    </tr>\n",
              "  </thead>\n",
              "  <tbody>\n",
              "    <tr>\n",
              "      <th>44893</th>\n",
              "      <td>'Fully committed' NATO backs new U.S. approach...</td>\n",
              "      <td>BRUSSELS (Reuters) - NATO allies on Tuesday we...</td>\n",
              "      <td>worldnews</td>\n",
              "      <td>August 22, 2017</td>\n",
              "      <td>1</td>\n",
              "    </tr>\n",
              "    <tr>\n",
              "      <th>44894</th>\n",
              "      <td>LexisNexis withdrew two products from Chinese ...</td>\n",
              "      <td>LONDON (Reuters) - LexisNexis, a provider of l...</td>\n",
              "      <td>worldnews</td>\n",
              "      <td>August 22, 2017</td>\n",
              "      <td>1</td>\n",
              "    </tr>\n",
              "    <tr>\n",
              "      <th>44895</th>\n",
              "      <td>Minsk cultural hub becomes haven from authorities</td>\n",
              "      <td>MINSK (Reuters) - In the shadow of disused Sov...</td>\n",
              "      <td>worldnews</td>\n",
              "      <td>August 22, 2017</td>\n",
              "      <td>1</td>\n",
              "    </tr>\n",
              "    <tr>\n",
              "      <th>44896</th>\n",
              "      <td>Vatican upbeat on possibility of Pope Francis ...</td>\n",
              "      <td>MOSCOW (Reuters) - Vatican Secretary of State ...</td>\n",
              "      <td>worldnews</td>\n",
              "      <td>August 22, 2017</td>\n",
              "      <td>1</td>\n",
              "    </tr>\n",
              "    <tr>\n",
              "      <th>44897</th>\n",
              "      <td>Indonesia to buy $1.14 billion worth of Russia...</td>\n",
              "      <td>JAKARTA (Reuters) - Indonesia will buy 11 Sukh...</td>\n",
              "      <td>worldnews</td>\n",
              "      <td>August 22, 2017</td>\n",
              "      <td>1</td>\n",
              "    </tr>\n",
              "  </tbody>\n",
              "</table>\n",
              "</div>\n",
              "      <button class=\"colab-df-convert\" onclick=\"convertToInteractive('df-66860f67-a38b-434f-baa8-aa53e9e91e12')\"\n",
              "              title=\"Convert this dataframe to an interactive table.\"\n",
              "              style=\"display:none;\">\n",
              "        \n",
              "  <svg xmlns=\"http://www.w3.org/2000/svg\" height=\"24px\"viewBox=\"0 0 24 24\"\n",
              "       width=\"24px\">\n",
              "    <path d=\"M0 0h24v24H0V0z\" fill=\"none\"/>\n",
              "    <path d=\"M18.56 5.44l.94 2.06.94-2.06 2.06-.94-2.06-.94-.94-2.06-.94 2.06-2.06.94zm-11 1L8.5 8.5l.94-2.06 2.06-.94-2.06-.94L8.5 2.5l-.94 2.06-2.06.94zm10 10l.94 2.06.94-2.06 2.06-.94-2.06-.94-.94-2.06-.94 2.06-2.06.94z\"/><path d=\"M17.41 7.96l-1.37-1.37c-.4-.4-.92-.59-1.43-.59-.52 0-1.04.2-1.43.59L10.3 9.45l-7.72 7.72c-.78.78-.78 2.05 0 2.83L4 21.41c.39.39.9.59 1.41.59.51 0 1.02-.2 1.41-.59l7.78-7.78 2.81-2.81c.8-.78.8-2.07 0-2.86zM5.41 20L4 18.59l7.72-7.72 1.47 1.35L5.41 20z\"/>\n",
              "  </svg>\n",
              "      </button>\n",
              "      \n",
              "  <style>\n",
              "    .colab-df-container {\n",
              "      display:flex;\n",
              "      flex-wrap:wrap;\n",
              "      gap: 12px;\n",
              "    }\n",
              "\n",
              "    .colab-df-convert {\n",
              "      background-color: #E8F0FE;\n",
              "      border: none;\n",
              "      border-radius: 50%;\n",
              "      cursor: pointer;\n",
              "      display: none;\n",
              "      fill: #1967D2;\n",
              "      height: 32px;\n",
              "      padding: 0 0 0 0;\n",
              "      width: 32px;\n",
              "    }\n",
              "\n",
              "    .colab-df-convert:hover {\n",
              "      background-color: #E2EBFA;\n",
              "      box-shadow: 0px 1px 2px rgba(60, 64, 67, 0.3), 0px 1px 3px 1px rgba(60, 64, 67, 0.15);\n",
              "      fill: #174EA6;\n",
              "    }\n",
              "\n",
              "    [theme=dark] .colab-df-convert {\n",
              "      background-color: #3B4455;\n",
              "      fill: #D2E3FC;\n",
              "    }\n",
              "\n",
              "    [theme=dark] .colab-df-convert:hover {\n",
              "      background-color: #434B5C;\n",
              "      box-shadow: 0px 1px 3px 1px rgba(0, 0, 0, 0.15);\n",
              "      filter: drop-shadow(0px 1px 2px rgba(0, 0, 0, 0.3));\n",
              "      fill: #FFFFFF;\n",
              "    }\n",
              "  </style>\n",
              "\n",
              "      <script>\n",
              "        const buttonEl =\n",
              "          document.querySelector('#df-66860f67-a38b-434f-baa8-aa53e9e91e12 button.colab-df-convert');\n",
              "        buttonEl.style.display =\n",
              "          google.colab.kernel.accessAllowed ? 'block' : 'none';\n",
              "\n",
              "        async function convertToInteractive(key) {\n",
              "          const element = document.querySelector('#df-66860f67-a38b-434f-baa8-aa53e9e91e12');\n",
              "          const dataTable =\n",
              "            await google.colab.kernel.invokeFunction('convertToInteractive',\n",
              "                                                     [key], {});\n",
              "          if (!dataTable) return;\n",
              "\n",
              "          const docLinkHtml = 'Like what you see? Visit the ' +\n",
              "            '<a target=\"_blank\" href=https://colab.research.google.com/notebooks/data_table.ipynb>data table notebook</a>'\n",
              "            + ' to learn more about interactive tables.';\n",
              "          element.innerHTML = '';\n",
              "          dataTable['output_type'] = 'display_data';\n",
              "          await google.colab.output.renderOutput(dataTable, element);\n",
              "          const docLink = document.createElement('div');\n",
              "          docLink.innerHTML = docLinkHtml;\n",
              "          element.appendChild(docLink);\n",
              "        }\n",
              "      </script>\n",
              "    </div>\n",
              "  </div>\n",
              "  "
            ]
          },
          "metadata": {},
          "execution_count": 11
        }
      ],
      "source": [
        "data.tail(5)"
      ]
    },
    {
      "cell_type": "code",
      "execution_count": null,
      "metadata": {
        "id": "0e0z6QZdfPXK"
      },
      "outputs": [],
      "source": [
        "from sklearn.utils import shuffle\n",
        "data = shuffle(data)\n",
        "data = data.reset_index(drop=True)"
      ]
    },
    {
      "cell_type": "code",
      "execution_count": null,
      "metadata": {
        "id": "4ornTmJ6fYvf",
        "colab": {
          "base_uri": "https://localhost:8080/",
          "height": 206
        },
        "outputId": "52d7e719-dfd9-4fb6-a6b4-5eea1849a496"
      },
      "outputs": [
        {
          "output_type": "execute_result",
          "data": {
            "text/plain": [
              "                                               title  \\\n",
              "0  Dutchman put on trial for Ethiopian war crimes...   \n",
              "1  Trump softens immigration stance, takes measur...   \n",
              "2  Reporter files criminal charge of battery agai...   \n",
              "3   The HORRIFYING Reality Of Executions In This ...   \n",
              "4  Two Russian soldiers killed by shelling in Syr...   \n",
              "\n",
              "                                                text       subject  \\\n",
              "0  AMSTERDAM (Reuters) - A Dutch citizen will go ...     worldnews   \n",
              "1  WASHINGTON (Reuters) - President Donald Trump ...  politicsNews   \n",
              "2  (Reuters) - A reporter for the conservative we...  politicsNews   \n",
              "3  According to Reuters, a grand jury in Oklahoma...          News   \n",
              "4  MOSCOW (Reuters) - Two Russian servicemen have...     worldnews   \n",
              "\n",
              "                 date  target  \n",
              "0   October 24, 2017        1  \n",
              "1  February 28, 2017        1  \n",
              "2     March 11, 2016        1  \n",
              "3        May 20, 2016       0  \n",
              "4  September 4, 2017        1  "
            ],
            "text/html": [
              "\n",
              "  <div id=\"df-38920707-75d2-49df-a41a-43ace016cb6a\">\n",
              "    <div class=\"colab-df-container\">\n",
              "      <div>\n",
              "<style scoped>\n",
              "    .dataframe tbody tr th:only-of-type {\n",
              "        vertical-align: middle;\n",
              "    }\n",
              "\n",
              "    .dataframe tbody tr th {\n",
              "        vertical-align: top;\n",
              "    }\n",
              "\n",
              "    .dataframe thead th {\n",
              "        text-align: right;\n",
              "    }\n",
              "</style>\n",
              "<table border=\"1\" class=\"dataframe\">\n",
              "  <thead>\n",
              "    <tr style=\"text-align: right;\">\n",
              "      <th></th>\n",
              "      <th>title</th>\n",
              "      <th>text</th>\n",
              "      <th>subject</th>\n",
              "      <th>date</th>\n",
              "      <th>target</th>\n",
              "    </tr>\n",
              "  </thead>\n",
              "  <tbody>\n",
              "    <tr>\n",
              "      <th>0</th>\n",
              "      <td>Dutchman put on trial for Ethiopian war crimes...</td>\n",
              "      <td>AMSTERDAM (Reuters) - A Dutch citizen will go ...</td>\n",
              "      <td>worldnews</td>\n",
              "      <td>October 24, 2017</td>\n",
              "      <td>1</td>\n",
              "    </tr>\n",
              "    <tr>\n",
              "      <th>1</th>\n",
              "      <td>Trump softens immigration stance, takes measur...</td>\n",
              "      <td>WASHINGTON (Reuters) - President Donald Trump ...</td>\n",
              "      <td>politicsNews</td>\n",
              "      <td>February 28, 2017</td>\n",
              "      <td>1</td>\n",
              "    </tr>\n",
              "    <tr>\n",
              "      <th>2</th>\n",
              "      <td>Reporter files criminal charge of battery agai...</td>\n",
              "      <td>(Reuters) - A reporter for the conservative we...</td>\n",
              "      <td>politicsNews</td>\n",
              "      <td>March 11, 2016</td>\n",
              "      <td>1</td>\n",
              "    </tr>\n",
              "    <tr>\n",
              "      <th>3</th>\n",
              "      <td>The HORRIFYING Reality Of Executions In This ...</td>\n",
              "      <td>According to Reuters, a grand jury in Oklahoma...</td>\n",
              "      <td>News</td>\n",
              "      <td>May 20, 2016</td>\n",
              "      <td>0</td>\n",
              "    </tr>\n",
              "    <tr>\n",
              "      <th>4</th>\n",
              "      <td>Two Russian soldiers killed by shelling in Syr...</td>\n",
              "      <td>MOSCOW (Reuters) - Two Russian servicemen have...</td>\n",
              "      <td>worldnews</td>\n",
              "      <td>September 4, 2017</td>\n",
              "      <td>1</td>\n",
              "    </tr>\n",
              "  </tbody>\n",
              "</table>\n",
              "</div>\n",
              "      <button class=\"colab-df-convert\" onclick=\"convertToInteractive('df-38920707-75d2-49df-a41a-43ace016cb6a')\"\n",
              "              title=\"Convert this dataframe to an interactive table.\"\n",
              "              style=\"display:none;\">\n",
              "        \n",
              "  <svg xmlns=\"http://www.w3.org/2000/svg\" height=\"24px\"viewBox=\"0 0 24 24\"\n",
              "       width=\"24px\">\n",
              "    <path d=\"M0 0h24v24H0V0z\" fill=\"none\"/>\n",
              "    <path d=\"M18.56 5.44l.94 2.06.94-2.06 2.06-.94-2.06-.94-.94-2.06-.94 2.06-2.06.94zm-11 1L8.5 8.5l.94-2.06 2.06-.94-2.06-.94L8.5 2.5l-.94 2.06-2.06.94zm10 10l.94 2.06.94-2.06 2.06-.94-2.06-.94-.94-2.06-.94 2.06-2.06.94z\"/><path d=\"M17.41 7.96l-1.37-1.37c-.4-.4-.92-.59-1.43-.59-.52 0-1.04.2-1.43.59L10.3 9.45l-7.72 7.72c-.78.78-.78 2.05 0 2.83L4 21.41c.39.39.9.59 1.41.59.51 0 1.02-.2 1.41-.59l7.78-7.78 2.81-2.81c.8-.78.8-2.07 0-2.86zM5.41 20L4 18.59l7.72-7.72 1.47 1.35L5.41 20z\"/>\n",
              "  </svg>\n",
              "      </button>\n",
              "      \n",
              "  <style>\n",
              "    .colab-df-container {\n",
              "      display:flex;\n",
              "      flex-wrap:wrap;\n",
              "      gap: 12px;\n",
              "    }\n",
              "\n",
              "    .colab-df-convert {\n",
              "      background-color: #E8F0FE;\n",
              "      border: none;\n",
              "      border-radius: 50%;\n",
              "      cursor: pointer;\n",
              "      display: none;\n",
              "      fill: #1967D2;\n",
              "      height: 32px;\n",
              "      padding: 0 0 0 0;\n",
              "      width: 32px;\n",
              "    }\n",
              "\n",
              "    .colab-df-convert:hover {\n",
              "      background-color: #E2EBFA;\n",
              "      box-shadow: 0px 1px 2px rgba(60, 64, 67, 0.3), 0px 1px 3px 1px rgba(60, 64, 67, 0.15);\n",
              "      fill: #174EA6;\n",
              "    }\n",
              "\n",
              "    [theme=dark] .colab-df-convert {\n",
              "      background-color: #3B4455;\n",
              "      fill: #D2E3FC;\n",
              "    }\n",
              "\n",
              "    [theme=dark] .colab-df-convert:hover {\n",
              "      background-color: #434B5C;\n",
              "      box-shadow: 0px 1px 3px 1px rgba(0, 0, 0, 0.15);\n",
              "      filter: drop-shadow(0px 1px 2px rgba(0, 0, 0, 0.3));\n",
              "      fill: #FFFFFF;\n",
              "    }\n",
              "  </style>\n",
              "\n",
              "      <script>\n",
              "        const buttonEl =\n",
              "          document.querySelector('#df-38920707-75d2-49df-a41a-43ace016cb6a button.colab-df-convert');\n",
              "        buttonEl.style.display =\n",
              "          google.colab.kernel.accessAllowed ? 'block' : 'none';\n",
              "\n",
              "        async function convertToInteractive(key) {\n",
              "          const element = document.querySelector('#df-38920707-75d2-49df-a41a-43ace016cb6a');\n",
              "          const dataTable =\n",
              "            await google.colab.kernel.invokeFunction('convertToInteractive',\n",
              "                                                     [key], {});\n",
              "          if (!dataTable) return;\n",
              "\n",
              "          const docLinkHtml = 'Like what you see? Visit the ' +\n",
              "            '<a target=\"_blank\" href=https://colab.research.google.com/notebooks/data_table.ipynb>data table notebook</a>'\n",
              "            + ' to learn more about interactive tables.';\n",
              "          element.innerHTML = '';\n",
              "          dataTable['output_type'] = 'display_data';\n",
              "          await google.colab.output.renderOutput(dataTable, element);\n",
              "          const docLink = document.createElement('div');\n",
              "          docLink.innerHTML = docLinkHtml;\n",
              "          element.appendChild(docLink);\n",
              "        }\n",
              "      </script>\n",
              "    </div>\n",
              "  </div>\n",
              "  "
            ]
          },
          "metadata": {},
          "execution_count": 13
        }
      ],
      "source": [
        "data.head()"
      ]
    },
    {
      "cell_type": "code",
      "execution_count": null,
      "metadata": {
        "id": "HidI-mjKfi7W",
        "colab": {
          "base_uri": "https://localhost:8080/"
        },
        "outputId": "a376e61a-7e90-49b2-b7d9-8aa6f62453e1"
      },
      "outputs": [
        {
          "output_type": "stream",
          "name": "stdout",
          "text": [
            "<class 'pandas.core.frame.DataFrame'>\n",
            "RangeIndex: 44898 entries, 0 to 44897\n",
            "Data columns (total 5 columns):\n",
            " #   Column   Non-Null Count  Dtype \n",
            "---  ------   --------------  ----- \n",
            " 0   title    44898 non-null  object\n",
            " 1   text     44898 non-null  object\n",
            " 2   subject  44898 non-null  object\n",
            " 3   date     44898 non-null  object\n",
            " 4   target   44898 non-null  int64 \n",
            "dtypes: int64(1), object(4)\n",
            "memory usage: 1.7+ MB\n"
          ]
        }
      ],
      "source": [
        "data.info()"
      ]
    },
    {
      "cell_type": "code",
      "execution_count": null,
      "metadata": {
        "id": "AhXmZ-Lhfki9",
        "colab": {
          "base_uri": "https://localhost:8080/",
          "height": 206
        },
        "outputId": "851d6442-affb-4d74-c645-335942c87eba"
      },
      "outputs": [
        {
          "output_type": "execute_result",
          "data": {
            "text/plain": [
              "                                               title  \\\n",
              "0  Dutchman put on trial for Ethiopian war crimes...   \n",
              "1  Trump softens immigration stance, takes measur...   \n",
              "2  Reporter files criminal charge of battery agai...   \n",
              "3   The HORRIFYING Reality Of Executions In This ...   \n",
              "4  Two Russian soldiers killed by shelling in Syr...   \n",
              "\n",
              "                                                text       subject  target  \n",
              "0  AMSTERDAM (Reuters) - A Dutch citizen will go ...     worldnews       1  \n",
              "1  WASHINGTON (Reuters) - President Donald Trump ...  politicsNews       1  \n",
              "2  (Reuters) - A reporter for the conservative we...  politicsNews       1  \n",
              "3  According to Reuters, a grand jury in Oklahoma...          News       0  \n",
              "4  MOSCOW (Reuters) - Two Russian servicemen have...     worldnews       1  "
            ],
            "text/html": [
              "\n",
              "  <div id=\"df-a2127b54-716c-4af6-a32f-2cc35ca2dc37\">\n",
              "    <div class=\"colab-df-container\">\n",
              "      <div>\n",
              "<style scoped>\n",
              "    .dataframe tbody tr th:only-of-type {\n",
              "        vertical-align: middle;\n",
              "    }\n",
              "\n",
              "    .dataframe tbody tr th {\n",
              "        vertical-align: top;\n",
              "    }\n",
              "\n",
              "    .dataframe thead th {\n",
              "        text-align: right;\n",
              "    }\n",
              "</style>\n",
              "<table border=\"1\" class=\"dataframe\">\n",
              "  <thead>\n",
              "    <tr style=\"text-align: right;\">\n",
              "      <th></th>\n",
              "      <th>title</th>\n",
              "      <th>text</th>\n",
              "      <th>subject</th>\n",
              "      <th>target</th>\n",
              "    </tr>\n",
              "  </thead>\n",
              "  <tbody>\n",
              "    <tr>\n",
              "      <th>0</th>\n",
              "      <td>Dutchman put on trial for Ethiopian war crimes...</td>\n",
              "      <td>AMSTERDAM (Reuters) - A Dutch citizen will go ...</td>\n",
              "      <td>worldnews</td>\n",
              "      <td>1</td>\n",
              "    </tr>\n",
              "    <tr>\n",
              "      <th>1</th>\n",
              "      <td>Trump softens immigration stance, takes measur...</td>\n",
              "      <td>WASHINGTON (Reuters) - President Donald Trump ...</td>\n",
              "      <td>politicsNews</td>\n",
              "      <td>1</td>\n",
              "    </tr>\n",
              "    <tr>\n",
              "      <th>2</th>\n",
              "      <td>Reporter files criminal charge of battery agai...</td>\n",
              "      <td>(Reuters) - A reporter for the conservative we...</td>\n",
              "      <td>politicsNews</td>\n",
              "      <td>1</td>\n",
              "    </tr>\n",
              "    <tr>\n",
              "      <th>3</th>\n",
              "      <td>The HORRIFYING Reality Of Executions In This ...</td>\n",
              "      <td>According to Reuters, a grand jury in Oklahoma...</td>\n",
              "      <td>News</td>\n",
              "      <td>0</td>\n",
              "    </tr>\n",
              "    <tr>\n",
              "      <th>4</th>\n",
              "      <td>Two Russian soldiers killed by shelling in Syr...</td>\n",
              "      <td>MOSCOW (Reuters) - Two Russian servicemen have...</td>\n",
              "      <td>worldnews</td>\n",
              "      <td>1</td>\n",
              "    </tr>\n",
              "  </tbody>\n",
              "</table>\n",
              "</div>\n",
              "      <button class=\"colab-df-convert\" onclick=\"convertToInteractive('df-a2127b54-716c-4af6-a32f-2cc35ca2dc37')\"\n",
              "              title=\"Convert this dataframe to an interactive table.\"\n",
              "              style=\"display:none;\">\n",
              "        \n",
              "  <svg xmlns=\"http://www.w3.org/2000/svg\" height=\"24px\"viewBox=\"0 0 24 24\"\n",
              "       width=\"24px\">\n",
              "    <path d=\"M0 0h24v24H0V0z\" fill=\"none\"/>\n",
              "    <path d=\"M18.56 5.44l.94 2.06.94-2.06 2.06-.94-2.06-.94-.94-2.06-.94 2.06-2.06.94zm-11 1L8.5 8.5l.94-2.06 2.06-.94-2.06-.94L8.5 2.5l-.94 2.06-2.06.94zm10 10l.94 2.06.94-2.06 2.06-.94-2.06-.94-.94-2.06-.94 2.06-2.06.94z\"/><path d=\"M17.41 7.96l-1.37-1.37c-.4-.4-.92-.59-1.43-.59-.52 0-1.04.2-1.43.59L10.3 9.45l-7.72 7.72c-.78.78-.78 2.05 0 2.83L4 21.41c.39.39.9.59 1.41.59.51 0 1.02-.2 1.41-.59l7.78-7.78 2.81-2.81c.8-.78.8-2.07 0-2.86zM5.41 20L4 18.59l7.72-7.72 1.47 1.35L5.41 20z\"/>\n",
              "  </svg>\n",
              "      </button>\n",
              "      \n",
              "  <style>\n",
              "    .colab-df-container {\n",
              "      display:flex;\n",
              "      flex-wrap:wrap;\n",
              "      gap: 12px;\n",
              "    }\n",
              "\n",
              "    .colab-df-convert {\n",
              "      background-color: #E8F0FE;\n",
              "      border: none;\n",
              "      border-radius: 50%;\n",
              "      cursor: pointer;\n",
              "      display: none;\n",
              "      fill: #1967D2;\n",
              "      height: 32px;\n",
              "      padding: 0 0 0 0;\n",
              "      width: 32px;\n",
              "    }\n",
              "\n",
              "    .colab-df-convert:hover {\n",
              "      background-color: #E2EBFA;\n",
              "      box-shadow: 0px 1px 2px rgba(60, 64, 67, 0.3), 0px 1px 3px 1px rgba(60, 64, 67, 0.15);\n",
              "      fill: #174EA6;\n",
              "    }\n",
              "\n",
              "    [theme=dark] .colab-df-convert {\n",
              "      background-color: #3B4455;\n",
              "      fill: #D2E3FC;\n",
              "    }\n",
              "\n",
              "    [theme=dark] .colab-df-convert:hover {\n",
              "      background-color: #434B5C;\n",
              "      box-shadow: 0px 1px 3px 1px rgba(0, 0, 0, 0.15);\n",
              "      filter: drop-shadow(0px 1px 2px rgba(0, 0, 0, 0.3));\n",
              "      fill: #FFFFFF;\n",
              "    }\n",
              "  </style>\n",
              "\n",
              "      <script>\n",
              "        const buttonEl =\n",
              "          document.querySelector('#df-a2127b54-716c-4af6-a32f-2cc35ca2dc37 button.colab-df-convert');\n",
              "        buttonEl.style.display =\n",
              "          google.colab.kernel.accessAllowed ? 'block' : 'none';\n",
              "\n",
              "        async function convertToInteractive(key) {\n",
              "          const element = document.querySelector('#df-a2127b54-716c-4af6-a32f-2cc35ca2dc37');\n",
              "          const dataTable =\n",
              "            await google.colab.kernel.invokeFunction('convertToInteractive',\n",
              "                                                     [key], {});\n",
              "          if (!dataTable) return;\n",
              "\n",
              "          const docLinkHtml = 'Like what you see? Visit the ' +\n",
              "            '<a target=\"_blank\" href=https://colab.research.google.com/notebooks/data_table.ipynb>data table notebook</a>'\n",
              "            + ' to learn more about interactive tables.';\n",
              "          element.innerHTML = '';\n",
              "          dataTable['output_type'] = 'display_data';\n",
              "          await google.colab.output.renderOutput(dataTable, element);\n",
              "          const docLink = document.createElement('div');\n",
              "          docLink.innerHTML = docLinkHtml;\n",
              "          element.appendChild(docLink);\n",
              "        }\n",
              "      </script>\n",
              "    </div>\n",
              "  </div>\n",
              "  "
            ]
          },
          "metadata": {},
          "execution_count": 15
        }
      ],
      "source": [
        "data.drop([\"date\"],axis=1,inplace=True)\n",
        "data.head()"
      ]
    },
    {
      "cell_type": "code",
      "execution_count": null,
      "metadata": {
        "id": "8mKkkOUOhaMh",
        "colab": {
          "base_uri": "https://localhost:8080/",
          "height": 206
        },
        "outputId": "be5b93b7-51be-4fa6-b09c-ad136bec3092"
      },
      "outputs": [
        {
          "output_type": "execute_result",
          "data": {
            "text/plain": [
              "                                                text       subject  target\n",
              "0  AMSTERDAM (Reuters) - A Dutch citizen will go ...     worldnews       1\n",
              "1  WASHINGTON (Reuters) - President Donald Trump ...  politicsNews       1\n",
              "2  (Reuters) - A reporter for the conservative we...  politicsNews       1\n",
              "3  According to Reuters, a grand jury in Oklahoma...          News       0\n",
              "4  MOSCOW (Reuters) - Two Russian servicemen have...     worldnews       1"
            ],
            "text/html": [
              "\n",
              "  <div id=\"df-005e3c11-02fe-450d-b5b3-e8f7a0a42ddc\">\n",
              "    <div class=\"colab-df-container\">\n",
              "      <div>\n",
              "<style scoped>\n",
              "    .dataframe tbody tr th:only-of-type {\n",
              "        vertical-align: middle;\n",
              "    }\n",
              "\n",
              "    .dataframe tbody tr th {\n",
              "        vertical-align: top;\n",
              "    }\n",
              "\n",
              "    .dataframe thead th {\n",
              "        text-align: right;\n",
              "    }\n",
              "</style>\n",
              "<table border=\"1\" class=\"dataframe\">\n",
              "  <thead>\n",
              "    <tr style=\"text-align: right;\">\n",
              "      <th></th>\n",
              "      <th>text</th>\n",
              "      <th>subject</th>\n",
              "      <th>target</th>\n",
              "    </tr>\n",
              "  </thead>\n",
              "  <tbody>\n",
              "    <tr>\n",
              "      <th>0</th>\n",
              "      <td>AMSTERDAM (Reuters) - A Dutch citizen will go ...</td>\n",
              "      <td>worldnews</td>\n",
              "      <td>1</td>\n",
              "    </tr>\n",
              "    <tr>\n",
              "      <th>1</th>\n",
              "      <td>WASHINGTON (Reuters) - President Donald Trump ...</td>\n",
              "      <td>politicsNews</td>\n",
              "      <td>1</td>\n",
              "    </tr>\n",
              "    <tr>\n",
              "      <th>2</th>\n",
              "      <td>(Reuters) - A reporter for the conservative we...</td>\n",
              "      <td>politicsNews</td>\n",
              "      <td>1</td>\n",
              "    </tr>\n",
              "    <tr>\n",
              "      <th>3</th>\n",
              "      <td>According to Reuters, a grand jury in Oklahoma...</td>\n",
              "      <td>News</td>\n",
              "      <td>0</td>\n",
              "    </tr>\n",
              "    <tr>\n",
              "      <th>4</th>\n",
              "      <td>MOSCOW (Reuters) - Two Russian servicemen have...</td>\n",
              "      <td>worldnews</td>\n",
              "      <td>1</td>\n",
              "    </tr>\n",
              "  </tbody>\n",
              "</table>\n",
              "</div>\n",
              "      <button class=\"colab-df-convert\" onclick=\"convertToInteractive('df-005e3c11-02fe-450d-b5b3-e8f7a0a42ddc')\"\n",
              "              title=\"Convert this dataframe to an interactive table.\"\n",
              "              style=\"display:none;\">\n",
              "        \n",
              "  <svg xmlns=\"http://www.w3.org/2000/svg\" height=\"24px\"viewBox=\"0 0 24 24\"\n",
              "       width=\"24px\">\n",
              "    <path d=\"M0 0h24v24H0V0z\" fill=\"none\"/>\n",
              "    <path d=\"M18.56 5.44l.94 2.06.94-2.06 2.06-.94-2.06-.94-.94-2.06-.94 2.06-2.06.94zm-11 1L8.5 8.5l.94-2.06 2.06-.94-2.06-.94L8.5 2.5l-.94 2.06-2.06.94zm10 10l.94 2.06.94-2.06 2.06-.94-2.06-.94-.94-2.06-.94 2.06-2.06.94z\"/><path d=\"M17.41 7.96l-1.37-1.37c-.4-.4-.92-.59-1.43-.59-.52 0-1.04.2-1.43.59L10.3 9.45l-7.72 7.72c-.78.78-.78 2.05 0 2.83L4 21.41c.39.39.9.59 1.41.59.51 0 1.02-.2 1.41-.59l7.78-7.78 2.81-2.81c.8-.78.8-2.07 0-2.86zM5.41 20L4 18.59l7.72-7.72 1.47 1.35L5.41 20z\"/>\n",
              "  </svg>\n",
              "      </button>\n",
              "      \n",
              "  <style>\n",
              "    .colab-df-container {\n",
              "      display:flex;\n",
              "      flex-wrap:wrap;\n",
              "      gap: 12px;\n",
              "    }\n",
              "\n",
              "    .colab-df-convert {\n",
              "      background-color: #E8F0FE;\n",
              "      border: none;\n",
              "      border-radius: 50%;\n",
              "      cursor: pointer;\n",
              "      display: none;\n",
              "      fill: #1967D2;\n",
              "      height: 32px;\n",
              "      padding: 0 0 0 0;\n",
              "      width: 32px;\n",
              "    }\n",
              "\n",
              "    .colab-df-convert:hover {\n",
              "      background-color: #E2EBFA;\n",
              "      box-shadow: 0px 1px 2px rgba(60, 64, 67, 0.3), 0px 1px 3px 1px rgba(60, 64, 67, 0.15);\n",
              "      fill: #174EA6;\n",
              "    }\n",
              "\n",
              "    [theme=dark] .colab-df-convert {\n",
              "      background-color: #3B4455;\n",
              "      fill: #D2E3FC;\n",
              "    }\n",
              "\n",
              "    [theme=dark] .colab-df-convert:hover {\n",
              "      background-color: #434B5C;\n",
              "      box-shadow: 0px 1px 3px 1px rgba(0, 0, 0, 0.15);\n",
              "      filter: drop-shadow(0px 1px 2px rgba(0, 0, 0, 0.3));\n",
              "      fill: #FFFFFF;\n",
              "    }\n",
              "  </style>\n",
              "\n",
              "      <script>\n",
              "        const buttonEl =\n",
              "          document.querySelector('#df-005e3c11-02fe-450d-b5b3-e8f7a0a42ddc button.colab-df-convert');\n",
              "        buttonEl.style.display =\n",
              "          google.colab.kernel.accessAllowed ? 'block' : 'none';\n",
              "\n",
              "        async function convertToInteractive(key) {\n",
              "          const element = document.querySelector('#df-005e3c11-02fe-450d-b5b3-e8f7a0a42ddc');\n",
              "          const dataTable =\n",
              "            await google.colab.kernel.invokeFunction('convertToInteractive',\n",
              "                                                     [key], {});\n",
              "          if (!dataTable) return;\n",
              "\n",
              "          const docLinkHtml = 'Like what you see? Visit the ' +\n",
              "            '<a target=\"_blank\" href=https://colab.research.google.com/notebooks/data_table.ipynb>data table notebook</a>'\n",
              "            + ' to learn more about interactive tables.';\n",
              "          element.innerHTML = '';\n",
              "          dataTable['output_type'] = 'display_data';\n",
              "          await google.colab.output.renderOutput(dataTable, element);\n",
              "          const docLink = document.createElement('div');\n",
              "          docLink.innerHTML = docLinkHtml;\n",
              "          element.appendChild(docLink);\n",
              "        }\n",
              "      </script>\n",
              "    </div>\n",
              "  </div>\n",
              "  "
            ]
          },
          "metadata": {},
          "execution_count": 16
        }
      ],
      "source": [
        "# Removing the title\n",
        "data.drop([\"title\"],axis=1,inplace=True)\n",
        "data.head()"
      ]
    },
    {
      "cell_type": "code",
      "execution_count": null,
      "metadata": {
        "id": "50duJxb2fzo2",
        "colab": {
          "base_uri": "https://localhost:8080/",
          "height": 206
        },
        "outputId": "67d2aaa4-79e5-4588-dd89-5a3b13316dae"
      },
      "outputs": [
        {
          "output_type": "execute_result",
          "data": {
            "text/plain": [
              "                                                text       subject  target\n",
              "0  amsterdam (reuters) - a dutch citizen will go ...     worldnews       1\n",
              "1  washington (reuters) - president donald trump ...  politicsNews       1\n",
              "2  (reuters) - a reporter for the conservative we...  politicsNews       1\n",
              "3  according to reuters, a grand jury in oklahoma...          News       0\n",
              "4  moscow (reuters) - two russian servicemen have...     worldnews       1"
            ],
            "text/html": [
              "\n",
              "  <div id=\"df-2b2ddfd2-74c1-4f5c-9e85-30ac54e8b813\">\n",
              "    <div class=\"colab-df-container\">\n",
              "      <div>\n",
              "<style scoped>\n",
              "    .dataframe tbody tr th:only-of-type {\n",
              "        vertical-align: middle;\n",
              "    }\n",
              "\n",
              "    .dataframe tbody tr th {\n",
              "        vertical-align: top;\n",
              "    }\n",
              "\n",
              "    .dataframe thead th {\n",
              "        text-align: right;\n",
              "    }\n",
              "</style>\n",
              "<table border=\"1\" class=\"dataframe\">\n",
              "  <thead>\n",
              "    <tr style=\"text-align: right;\">\n",
              "      <th></th>\n",
              "      <th>text</th>\n",
              "      <th>subject</th>\n",
              "      <th>target</th>\n",
              "    </tr>\n",
              "  </thead>\n",
              "  <tbody>\n",
              "    <tr>\n",
              "      <th>0</th>\n",
              "      <td>amsterdam (reuters) - a dutch citizen will go ...</td>\n",
              "      <td>worldnews</td>\n",
              "      <td>1</td>\n",
              "    </tr>\n",
              "    <tr>\n",
              "      <th>1</th>\n",
              "      <td>washington (reuters) - president donald trump ...</td>\n",
              "      <td>politicsNews</td>\n",
              "      <td>1</td>\n",
              "    </tr>\n",
              "    <tr>\n",
              "      <th>2</th>\n",
              "      <td>(reuters) - a reporter for the conservative we...</td>\n",
              "      <td>politicsNews</td>\n",
              "      <td>1</td>\n",
              "    </tr>\n",
              "    <tr>\n",
              "      <th>3</th>\n",
              "      <td>according to reuters, a grand jury in oklahoma...</td>\n",
              "      <td>News</td>\n",
              "      <td>0</td>\n",
              "    </tr>\n",
              "    <tr>\n",
              "      <th>4</th>\n",
              "      <td>moscow (reuters) - two russian servicemen have...</td>\n",
              "      <td>worldnews</td>\n",
              "      <td>1</td>\n",
              "    </tr>\n",
              "  </tbody>\n",
              "</table>\n",
              "</div>\n",
              "      <button class=\"colab-df-convert\" onclick=\"convertToInteractive('df-2b2ddfd2-74c1-4f5c-9e85-30ac54e8b813')\"\n",
              "              title=\"Convert this dataframe to an interactive table.\"\n",
              "              style=\"display:none;\">\n",
              "        \n",
              "  <svg xmlns=\"http://www.w3.org/2000/svg\" height=\"24px\"viewBox=\"0 0 24 24\"\n",
              "       width=\"24px\">\n",
              "    <path d=\"M0 0h24v24H0V0z\" fill=\"none\"/>\n",
              "    <path d=\"M18.56 5.44l.94 2.06.94-2.06 2.06-.94-2.06-.94-.94-2.06-.94 2.06-2.06.94zm-11 1L8.5 8.5l.94-2.06 2.06-.94-2.06-.94L8.5 2.5l-.94 2.06-2.06.94zm10 10l.94 2.06.94-2.06 2.06-.94-2.06-.94-.94-2.06-.94 2.06-2.06.94z\"/><path d=\"M17.41 7.96l-1.37-1.37c-.4-.4-.92-.59-1.43-.59-.52 0-1.04.2-1.43.59L10.3 9.45l-7.72 7.72c-.78.78-.78 2.05 0 2.83L4 21.41c.39.39.9.59 1.41.59.51 0 1.02-.2 1.41-.59l7.78-7.78 2.81-2.81c.8-.78.8-2.07 0-2.86zM5.41 20L4 18.59l7.72-7.72 1.47 1.35L5.41 20z\"/>\n",
              "  </svg>\n",
              "      </button>\n",
              "      \n",
              "  <style>\n",
              "    .colab-df-container {\n",
              "      display:flex;\n",
              "      flex-wrap:wrap;\n",
              "      gap: 12px;\n",
              "    }\n",
              "\n",
              "    .colab-df-convert {\n",
              "      background-color: #E8F0FE;\n",
              "      border: none;\n",
              "      border-radius: 50%;\n",
              "      cursor: pointer;\n",
              "      display: none;\n",
              "      fill: #1967D2;\n",
              "      height: 32px;\n",
              "      padding: 0 0 0 0;\n",
              "      width: 32px;\n",
              "    }\n",
              "\n",
              "    .colab-df-convert:hover {\n",
              "      background-color: #E2EBFA;\n",
              "      box-shadow: 0px 1px 2px rgba(60, 64, 67, 0.3), 0px 1px 3px 1px rgba(60, 64, 67, 0.15);\n",
              "      fill: #174EA6;\n",
              "    }\n",
              "\n",
              "    [theme=dark] .colab-df-convert {\n",
              "      background-color: #3B4455;\n",
              "      fill: #D2E3FC;\n",
              "    }\n",
              "\n",
              "    [theme=dark] .colab-df-convert:hover {\n",
              "      background-color: #434B5C;\n",
              "      box-shadow: 0px 1px 3px 1px rgba(0, 0, 0, 0.15);\n",
              "      filter: drop-shadow(0px 1px 2px rgba(0, 0, 0, 0.3));\n",
              "      fill: #FFFFFF;\n",
              "    }\n",
              "  </style>\n",
              "\n",
              "      <script>\n",
              "        const buttonEl =\n",
              "          document.querySelector('#df-2b2ddfd2-74c1-4f5c-9e85-30ac54e8b813 button.colab-df-convert');\n",
              "        buttonEl.style.display =\n",
              "          google.colab.kernel.accessAllowed ? 'block' : 'none';\n",
              "\n",
              "        async function convertToInteractive(key) {\n",
              "          const element = document.querySelector('#df-2b2ddfd2-74c1-4f5c-9e85-30ac54e8b813');\n",
              "          const dataTable =\n",
              "            await google.colab.kernel.invokeFunction('convertToInteractive',\n",
              "                                                     [key], {});\n",
              "          if (!dataTable) return;\n",
              "\n",
              "          const docLinkHtml = 'Like what you see? Visit the ' +\n",
              "            '<a target=\"_blank\" href=https://colab.research.google.com/notebooks/data_table.ipynb>data table notebook</a>'\n",
              "            + ' to learn more about interactive tables.';\n",
              "          element.innerHTML = '';\n",
              "          dataTable['output_type'] = 'display_data';\n",
              "          await google.colab.output.renderOutput(dataTable, element);\n",
              "          const docLink = document.createElement('div');\n",
              "          docLink.innerHTML = docLinkHtml;\n",
              "          element.appendChild(docLink);\n",
              "        }\n",
              "      </script>\n",
              "    </div>\n",
              "  </div>\n",
              "  "
            ]
          },
          "metadata": {},
          "execution_count": 17
        }
      ],
      "source": [
        "# Convert to lowercase\n",
        "\n",
        "data['text'] = data['text'].apply(lambda x: x.lower())\n",
        "data.head()"
      ]
    },
    {
      "cell_type": "code",
      "execution_count": null,
      "metadata": {
        "id": "c-8X6ytugvMS"
      },
      "outputs": [],
      "source": [
        "# Remove punctuation\n",
        "\n",
        "import string\n",
        "\n",
        "def punctuation_removal(text):\n",
        "    all_list = [char for char in text if char not in string.punctuation]\n",
        "    clean_str = ''.join(all_list)\n",
        "    return clean_str\n",
        "\n",
        "data['text'] = data['text'].apply(punctuation_removal)"
      ]
    },
    {
      "cell_type": "code",
      "execution_count": null,
      "metadata": {
        "id": "aErwYQf08Prs",
        "colab": {
          "base_uri": "https://localhost:8080/",
          "height": 206
        },
        "outputId": "39f15117-4e51-45ee-b129-d0ef9fc4de4a"
      },
      "outputs": [
        {
          "output_type": "execute_result",
          "data": {
            "text/plain": [
              "                                                text       subject  target\n",
              "0  amsterdam reuters  a dutch citizen will go on ...     worldnews       1\n",
              "1  washington reuters  president donald trump tol...  politicsNews       1\n",
              "2  reuters  a reporter for the conservative websi...  politicsNews       1\n",
              "3  according to reuters a grand jury in oklahoma ...          News       0\n",
              "4  moscow reuters  two russian servicemen have be...     worldnews       1"
            ],
            "text/html": [
              "\n",
              "  <div id=\"df-17f4afa9-8c7c-49d2-a7d0-0aa70bf1853a\">\n",
              "    <div class=\"colab-df-container\">\n",
              "      <div>\n",
              "<style scoped>\n",
              "    .dataframe tbody tr th:only-of-type {\n",
              "        vertical-align: middle;\n",
              "    }\n",
              "\n",
              "    .dataframe tbody tr th {\n",
              "        vertical-align: top;\n",
              "    }\n",
              "\n",
              "    .dataframe thead th {\n",
              "        text-align: right;\n",
              "    }\n",
              "</style>\n",
              "<table border=\"1\" class=\"dataframe\">\n",
              "  <thead>\n",
              "    <tr style=\"text-align: right;\">\n",
              "      <th></th>\n",
              "      <th>text</th>\n",
              "      <th>subject</th>\n",
              "      <th>target</th>\n",
              "    </tr>\n",
              "  </thead>\n",
              "  <tbody>\n",
              "    <tr>\n",
              "      <th>0</th>\n",
              "      <td>amsterdam reuters  a dutch citizen will go on ...</td>\n",
              "      <td>worldnews</td>\n",
              "      <td>1</td>\n",
              "    </tr>\n",
              "    <tr>\n",
              "      <th>1</th>\n",
              "      <td>washington reuters  president donald trump tol...</td>\n",
              "      <td>politicsNews</td>\n",
              "      <td>1</td>\n",
              "    </tr>\n",
              "    <tr>\n",
              "      <th>2</th>\n",
              "      <td>reuters  a reporter for the conservative websi...</td>\n",
              "      <td>politicsNews</td>\n",
              "      <td>1</td>\n",
              "    </tr>\n",
              "    <tr>\n",
              "      <th>3</th>\n",
              "      <td>according to reuters a grand jury in oklahoma ...</td>\n",
              "      <td>News</td>\n",
              "      <td>0</td>\n",
              "    </tr>\n",
              "    <tr>\n",
              "      <th>4</th>\n",
              "      <td>moscow reuters  two russian servicemen have be...</td>\n",
              "      <td>worldnews</td>\n",
              "      <td>1</td>\n",
              "    </tr>\n",
              "  </tbody>\n",
              "</table>\n",
              "</div>\n",
              "      <button class=\"colab-df-convert\" onclick=\"convertToInteractive('df-17f4afa9-8c7c-49d2-a7d0-0aa70bf1853a')\"\n",
              "              title=\"Convert this dataframe to an interactive table.\"\n",
              "              style=\"display:none;\">\n",
              "        \n",
              "  <svg xmlns=\"http://www.w3.org/2000/svg\" height=\"24px\"viewBox=\"0 0 24 24\"\n",
              "       width=\"24px\">\n",
              "    <path d=\"M0 0h24v24H0V0z\" fill=\"none\"/>\n",
              "    <path d=\"M18.56 5.44l.94 2.06.94-2.06 2.06-.94-2.06-.94-.94-2.06-.94 2.06-2.06.94zm-11 1L8.5 8.5l.94-2.06 2.06-.94-2.06-.94L8.5 2.5l-.94 2.06-2.06.94zm10 10l.94 2.06.94-2.06 2.06-.94-2.06-.94-.94-2.06-.94 2.06-2.06.94z\"/><path d=\"M17.41 7.96l-1.37-1.37c-.4-.4-.92-.59-1.43-.59-.52 0-1.04.2-1.43.59L10.3 9.45l-7.72 7.72c-.78.78-.78 2.05 0 2.83L4 21.41c.39.39.9.59 1.41.59.51 0 1.02-.2 1.41-.59l7.78-7.78 2.81-2.81c.8-.78.8-2.07 0-2.86zM5.41 20L4 18.59l7.72-7.72 1.47 1.35L5.41 20z\"/>\n",
              "  </svg>\n",
              "      </button>\n",
              "      \n",
              "  <style>\n",
              "    .colab-df-container {\n",
              "      display:flex;\n",
              "      flex-wrap:wrap;\n",
              "      gap: 12px;\n",
              "    }\n",
              "\n",
              "    .colab-df-convert {\n",
              "      background-color: #E8F0FE;\n",
              "      border: none;\n",
              "      border-radius: 50%;\n",
              "      cursor: pointer;\n",
              "      display: none;\n",
              "      fill: #1967D2;\n",
              "      height: 32px;\n",
              "      padding: 0 0 0 0;\n",
              "      width: 32px;\n",
              "    }\n",
              "\n",
              "    .colab-df-convert:hover {\n",
              "      background-color: #E2EBFA;\n",
              "      box-shadow: 0px 1px 2px rgba(60, 64, 67, 0.3), 0px 1px 3px 1px rgba(60, 64, 67, 0.15);\n",
              "      fill: #174EA6;\n",
              "    }\n",
              "\n",
              "    [theme=dark] .colab-df-convert {\n",
              "      background-color: #3B4455;\n",
              "      fill: #D2E3FC;\n",
              "    }\n",
              "\n",
              "    [theme=dark] .colab-df-convert:hover {\n",
              "      background-color: #434B5C;\n",
              "      box-shadow: 0px 1px 3px 1px rgba(0, 0, 0, 0.15);\n",
              "      filter: drop-shadow(0px 1px 2px rgba(0, 0, 0, 0.3));\n",
              "      fill: #FFFFFF;\n",
              "    }\n",
              "  </style>\n",
              "\n",
              "      <script>\n",
              "        const buttonEl =\n",
              "          document.querySelector('#df-17f4afa9-8c7c-49d2-a7d0-0aa70bf1853a button.colab-df-convert');\n",
              "        buttonEl.style.display =\n",
              "          google.colab.kernel.accessAllowed ? 'block' : 'none';\n",
              "\n",
              "        async function convertToInteractive(key) {\n",
              "          const element = document.querySelector('#df-17f4afa9-8c7c-49d2-a7d0-0aa70bf1853a');\n",
              "          const dataTable =\n",
              "            await google.colab.kernel.invokeFunction('convertToInteractive',\n",
              "                                                     [key], {});\n",
              "          if (!dataTable) return;\n",
              "\n",
              "          const docLinkHtml = 'Like what you see? Visit the ' +\n",
              "            '<a target=\"_blank\" href=https://colab.research.google.com/notebooks/data_table.ipynb>data table notebook</a>'\n",
              "            + ' to learn more about interactive tables.';\n",
              "          element.innerHTML = '';\n",
              "          dataTable['output_type'] = 'display_data';\n",
              "          await google.colab.output.renderOutput(dataTable, element);\n",
              "          const docLink = document.createElement('div');\n",
              "          docLink.innerHTML = docLinkHtml;\n",
              "          element.appendChild(docLink);\n",
              "        }\n",
              "      </script>\n",
              "    </div>\n",
              "  </div>\n",
              "  "
            ]
          },
          "metadata": {},
          "execution_count": 19
        }
      ],
      "source": [
        "def remove_numbers(text):\n",
        "    numbers='0123456789'\n",
        "    all_list = [char for char in text if char not in numbers]\n",
        "    clean_str = ''.join(all_list)\n",
        "    return clean_str\n",
        "\n",
        "data['text'] = data['text'].apply(remove_numbers)\n",
        "data.head()"
      ]
    },
    {
      "cell_type": "code",
      "execution_count": null,
      "metadata": {
        "id": "YrWYpM6eh_tt",
        "colab": {
          "base_uri": "https://localhost:8080/",
          "height": 206
        },
        "outputId": "ae3a6132-f755-409d-cc1a-88bcb236b1ab"
      },
      "outputs": [
        {
          "output_type": "execute_result",
          "data": {
            "text/plain": [
              "                                                text       subject  target\n",
              "0  amsterdam reuters  a dutch citizen will go on ...     worldnews       1\n",
              "1  washington reuters  president donald trump tol...  politicsNews       1\n",
              "2  reuters  a reporter for the conservative websi...  politicsNews       1\n",
              "3  according to reuters a grand jury in oklahoma ...          News       0\n",
              "4  moscow reuters  two russian servicemen have be...     worldnews       1"
            ],
            "text/html": [
              "\n",
              "  <div id=\"df-88fafebf-7582-417f-a5a4-64e91a2f6e6f\">\n",
              "    <div class=\"colab-df-container\">\n",
              "      <div>\n",
              "<style scoped>\n",
              "    .dataframe tbody tr th:only-of-type {\n",
              "        vertical-align: middle;\n",
              "    }\n",
              "\n",
              "    .dataframe tbody tr th {\n",
              "        vertical-align: top;\n",
              "    }\n",
              "\n",
              "    .dataframe thead th {\n",
              "        text-align: right;\n",
              "    }\n",
              "</style>\n",
              "<table border=\"1\" class=\"dataframe\">\n",
              "  <thead>\n",
              "    <tr style=\"text-align: right;\">\n",
              "      <th></th>\n",
              "      <th>text</th>\n",
              "      <th>subject</th>\n",
              "      <th>target</th>\n",
              "    </tr>\n",
              "  </thead>\n",
              "  <tbody>\n",
              "    <tr>\n",
              "      <th>0</th>\n",
              "      <td>amsterdam reuters  a dutch citizen will go on ...</td>\n",
              "      <td>worldnews</td>\n",
              "      <td>1</td>\n",
              "    </tr>\n",
              "    <tr>\n",
              "      <th>1</th>\n",
              "      <td>washington reuters  president donald trump tol...</td>\n",
              "      <td>politicsNews</td>\n",
              "      <td>1</td>\n",
              "    </tr>\n",
              "    <tr>\n",
              "      <th>2</th>\n",
              "      <td>reuters  a reporter for the conservative websi...</td>\n",
              "      <td>politicsNews</td>\n",
              "      <td>1</td>\n",
              "    </tr>\n",
              "    <tr>\n",
              "      <th>3</th>\n",
              "      <td>according to reuters a grand jury in oklahoma ...</td>\n",
              "      <td>News</td>\n",
              "      <td>0</td>\n",
              "    </tr>\n",
              "    <tr>\n",
              "      <th>4</th>\n",
              "      <td>moscow reuters  two russian servicemen have be...</td>\n",
              "      <td>worldnews</td>\n",
              "      <td>1</td>\n",
              "    </tr>\n",
              "  </tbody>\n",
              "</table>\n",
              "</div>\n",
              "      <button class=\"colab-df-convert\" onclick=\"convertToInteractive('df-88fafebf-7582-417f-a5a4-64e91a2f6e6f')\"\n",
              "              title=\"Convert this dataframe to an interactive table.\"\n",
              "              style=\"display:none;\">\n",
              "        \n",
              "  <svg xmlns=\"http://www.w3.org/2000/svg\" height=\"24px\"viewBox=\"0 0 24 24\"\n",
              "       width=\"24px\">\n",
              "    <path d=\"M0 0h24v24H0V0z\" fill=\"none\"/>\n",
              "    <path d=\"M18.56 5.44l.94 2.06.94-2.06 2.06-.94-2.06-.94-.94-2.06-.94 2.06-2.06.94zm-11 1L8.5 8.5l.94-2.06 2.06-.94-2.06-.94L8.5 2.5l-.94 2.06-2.06.94zm10 10l.94 2.06.94-2.06 2.06-.94-2.06-.94-.94-2.06-.94 2.06-2.06.94z\"/><path d=\"M17.41 7.96l-1.37-1.37c-.4-.4-.92-.59-1.43-.59-.52 0-1.04.2-1.43.59L10.3 9.45l-7.72 7.72c-.78.78-.78 2.05 0 2.83L4 21.41c.39.39.9.59 1.41.59.51 0 1.02-.2 1.41-.59l7.78-7.78 2.81-2.81c.8-.78.8-2.07 0-2.86zM5.41 20L4 18.59l7.72-7.72 1.47 1.35L5.41 20z\"/>\n",
              "  </svg>\n",
              "      </button>\n",
              "      \n",
              "  <style>\n",
              "    .colab-df-container {\n",
              "      display:flex;\n",
              "      flex-wrap:wrap;\n",
              "      gap: 12px;\n",
              "    }\n",
              "\n",
              "    .colab-df-convert {\n",
              "      background-color: #E8F0FE;\n",
              "      border: none;\n",
              "      border-radius: 50%;\n",
              "      cursor: pointer;\n",
              "      display: none;\n",
              "      fill: #1967D2;\n",
              "      height: 32px;\n",
              "      padding: 0 0 0 0;\n",
              "      width: 32px;\n",
              "    }\n",
              "\n",
              "    .colab-df-convert:hover {\n",
              "      background-color: #E2EBFA;\n",
              "      box-shadow: 0px 1px 2px rgba(60, 64, 67, 0.3), 0px 1px 3px 1px rgba(60, 64, 67, 0.15);\n",
              "      fill: #174EA6;\n",
              "    }\n",
              "\n",
              "    [theme=dark] .colab-df-convert {\n",
              "      background-color: #3B4455;\n",
              "      fill: #D2E3FC;\n",
              "    }\n",
              "\n",
              "    [theme=dark] .colab-df-convert:hover {\n",
              "      background-color: #434B5C;\n",
              "      box-shadow: 0px 1px 3px 1px rgba(0, 0, 0, 0.15);\n",
              "      filter: drop-shadow(0px 1px 2px rgba(0, 0, 0, 0.3));\n",
              "      fill: #FFFFFF;\n",
              "    }\n",
              "  </style>\n",
              "\n",
              "      <script>\n",
              "        const buttonEl =\n",
              "          document.querySelector('#df-88fafebf-7582-417f-a5a4-64e91a2f6e6f button.colab-df-convert');\n",
              "        buttonEl.style.display =\n",
              "          google.colab.kernel.accessAllowed ? 'block' : 'none';\n",
              "\n",
              "        async function convertToInteractive(key) {\n",
              "          const element = document.querySelector('#df-88fafebf-7582-417f-a5a4-64e91a2f6e6f');\n",
              "          const dataTable =\n",
              "            await google.colab.kernel.invokeFunction('convertToInteractive',\n",
              "                                                     [key], {});\n",
              "          if (!dataTable) return;\n",
              "\n",
              "          const docLinkHtml = 'Like what you see? Visit the ' +\n",
              "            '<a target=\"_blank\" href=https://colab.research.google.com/notebooks/data_table.ipynb>data table notebook</a>'\n",
              "            + ' to learn more about interactive tables.';\n",
              "          element.innerHTML = '';\n",
              "          dataTable['output_type'] = 'display_data';\n",
              "          await google.colab.output.renderOutput(dataTable, element);\n",
              "          const docLink = document.createElement('div');\n",
              "          docLink.innerHTML = docLinkHtml;\n",
              "          element.appendChild(docLink);\n",
              "        }\n",
              "      </script>\n",
              "    </div>\n",
              "  </div>\n",
              "  "
            ]
          },
          "metadata": {},
          "execution_count": 20
        }
      ],
      "source": [
        "# Check\n",
        "data.head()"
      ]
    },
    {
      "cell_type": "code",
      "execution_count": null,
      "metadata": {
        "id": "_YZpHA2ViFIK",
        "colab": {
          "base_uri": "https://localhost:8080/"
        },
        "outputId": "a5b07d15-d870-468a-9acd-c43696e9db25"
      },
      "outputs": [
        {
          "output_type": "stream",
          "name": "stdout",
          "text": [
            "[nltk_data] Downloading package stopwords to /root/nltk_data...\n",
            "[nltk_data]   Package stopwords is already up-to-date!\n"
          ]
        }
      ],
      "source": [
        "# Removing stopwords\n",
        "import nltk\n",
        "nltk.download('stopwords')\n",
        "from nltk.corpus import stopwords\n",
        "stop = stopwords.words('english')\n",
        "\n",
        "data['text'] = data['text'].apply(lambda x: ' '.join([word for word in x.split() if word not in (stop)]))"
      ]
    },
    {
      "cell_type": "code",
      "execution_count": null,
      "metadata": {
        "id": "ftOKy2s0f4OC"
      },
      "outputs": [],
      "source": [
        "#Stemming\n",
        "from nltk.stem.porter import PorterStemmer\n",
        "porter=PorterStemmer()\n",
        "def stemSentence(txt):\n",
        "  token_words=txt.split()\n",
        "  filtered_txt=' '.join([porter.stem(word) for word in token_words])\n",
        "  return filtered_txt\n",
        "#df.features=df.features.apply(lambda x:stemSentence(x))\n",
        "data['text'] = data['text'].apply(lambda x:stemSentence(x))"
      ]
    },
    {
      "cell_type": "code",
      "execution_count": null,
      "metadata": {
        "id": "13VD5XGqTTw1"
      },
      "outputs": [],
      "source": [
        "#Lemmatization\n",
        "# import nltk\n",
        "# nltk.download('wordnet')\n",
        "# from nltk.stem import WordNetLemmatizer\n",
        "# w_tokenizer = nltk.tokenize.WhitespaceTokenizer()\n",
        "# lemmatizer = WordNetLemmatizer()\n",
        "# def lemmatize_text(text):\n",
        "#   return [lemmatizer.lemmatize(word,'v') for word in w_tokenizer.tokenize(text)]\n",
        "# data['text']=data['text'].apply(lambda x:lemmatize_text(x))"
      ]
    },
    {
      "cell_type": "code",
      "execution_count": null,
      "metadata": {
        "id": "5xp1nTCmip53",
        "colab": {
          "base_uri": "https://localhost:8080/",
          "height": 206
        },
        "outputId": "ad053cd8-205c-45b6-ecc0-e6859a85651b"
      },
      "outputs": [
        {
          "output_type": "execute_result",
          "data": {
            "text/plain": [
              "                                                text       subject  target\n",
              "0  amsterdam reuter dutch citizen go trial nether...     worldnews       1\n",
              "1  washington reuter presid donald trump told con...  politicsNews       1\n",
              "2  reuter report conserv websit breitbart news fi...  politicsNews       1\n",
              "3  accord reuter grand juri oklahoma found jail s...          News       0\n",
              "4  moscow reuter two russian servicemen kill deir...     worldnews       1"
            ],
            "text/html": [
              "\n",
              "  <div id=\"df-123b3f5c-d230-4387-afd6-45be141e6ed0\">\n",
              "    <div class=\"colab-df-container\">\n",
              "      <div>\n",
              "<style scoped>\n",
              "    .dataframe tbody tr th:only-of-type {\n",
              "        vertical-align: middle;\n",
              "    }\n",
              "\n",
              "    .dataframe tbody tr th {\n",
              "        vertical-align: top;\n",
              "    }\n",
              "\n",
              "    .dataframe thead th {\n",
              "        text-align: right;\n",
              "    }\n",
              "</style>\n",
              "<table border=\"1\" class=\"dataframe\">\n",
              "  <thead>\n",
              "    <tr style=\"text-align: right;\">\n",
              "      <th></th>\n",
              "      <th>text</th>\n",
              "      <th>subject</th>\n",
              "      <th>target</th>\n",
              "    </tr>\n",
              "  </thead>\n",
              "  <tbody>\n",
              "    <tr>\n",
              "      <th>0</th>\n",
              "      <td>amsterdam reuter dutch citizen go trial nether...</td>\n",
              "      <td>worldnews</td>\n",
              "      <td>1</td>\n",
              "    </tr>\n",
              "    <tr>\n",
              "      <th>1</th>\n",
              "      <td>washington reuter presid donald trump told con...</td>\n",
              "      <td>politicsNews</td>\n",
              "      <td>1</td>\n",
              "    </tr>\n",
              "    <tr>\n",
              "      <th>2</th>\n",
              "      <td>reuter report conserv websit breitbart news fi...</td>\n",
              "      <td>politicsNews</td>\n",
              "      <td>1</td>\n",
              "    </tr>\n",
              "    <tr>\n",
              "      <th>3</th>\n",
              "      <td>accord reuter grand juri oklahoma found jail s...</td>\n",
              "      <td>News</td>\n",
              "      <td>0</td>\n",
              "    </tr>\n",
              "    <tr>\n",
              "      <th>4</th>\n",
              "      <td>moscow reuter two russian servicemen kill deir...</td>\n",
              "      <td>worldnews</td>\n",
              "      <td>1</td>\n",
              "    </tr>\n",
              "  </tbody>\n",
              "</table>\n",
              "</div>\n",
              "      <button class=\"colab-df-convert\" onclick=\"convertToInteractive('df-123b3f5c-d230-4387-afd6-45be141e6ed0')\"\n",
              "              title=\"Convert this dataframe to an interactive table.\"\n",
              "              style=\"display:none;\">\n",
              "        \n",
              "  <svg xmlns=\"http://www.w3.org/2000/svg\" height=\"24px\"viewBox=\"0 0 24 24\"\n",
              "       width=\"24px\">\n",
              "    <path d=\"M0 0h24v24H0V0z\" fill=\"none\"/>\n",
              "    <path d=\"M18.56 5.44l.94 2.06.94-2.06 2.06-.94-2.06-.94-.94-2.06-.94 2.06-2.06.94zm-11 1L8.5 8.5l.94-2.06 2.06-.94-2.06-.94L8.5 2.5l-.94 2.06-2.06.94zm10 10l.94 2.06.94-2.06 2.06-.94-2.06-.94-.94-2.06-.94 2.06-2.06.94z\"/><path d=\"M17.41 7.96l-1.37-1.37c-.4-.4-.92-.59-1.43-.59-.52 0-1.04.2-1.43.59L10.3 9.45l-7.72 7.72c-.78.78-.78 2.05 0 2.83L4 21.41c.39.39.9.59 1.41.59.51 0 1.02-.2 1.41-.59l7.78-7.78 2.81-2.81c.8-.78.8-2.07 0-2.86zM5.41 20L4 18.59l7.72-7.72 1.47 1.35L5.41 20z\"/>\n",
              "  </svg>\n",
              "      </button>\n",
              "      \n",
              "  <style>\n",
              "    .colab-df-container {\n",
              "      display:flex;\n",
              "      flex-wrap:wrap;\n",
              "      gap: 12px;\n",
              "    }\n",
              "\n",
              "    .colab-df-convert {\n",
              "      background-color: #E8F0FE;\n",
              "      border: none;\n",
              "      border-radius: 50%;\n",
              "      cursor: pointer;\n",
              "      display: none;\n",
              "      fill: #1967D2;\n",
              "      height: 32px;\n",
              "      padding: 0 0 0 0;\n",
              "      width: 32px;\n",
              "    }\n",
              "\n",
              "    .colab-df-convert:hover {\n",
              "      background-color: #E2EBFA;\n",
              "      box-shadow: 0px 1px 2px rgba(60, 64, 67, 0.3), 0px 1px 3px 1px rgba(60, 64, 67, 0.15);\n",
              "      fill: #174EA6;\n",
              "    }\n",
              "\n",
              "    [theme=dark] .colab-df-convert {\n",
              "      background-color: #3B4455;\n",
              "      fill: #D2E3FC;\n",
              "    }\n",
              "\n",
              "    [theme=dark] .colab-df-convert:hover {\n",
              "      background-color: #434B5C;\n",
              "      box-shadow: 0px 1px 3px 1px rgba(0, 0, 0, 0.15);\n",
              "      filter: drop-shadow(0px 1px 2px rgba(0, 0, 0, 0.3));\n",
              "      fill: #FFFFFF;\n",
              "    }\n",
              "  </style>\n",
              "\n",
              "      <script>\n",
              "        const buttonEl =\n",
              "          document.querySelector('#df-123b3f5c-d230-4387-afd6-45be141e6ed0 button.colab-df-convert');\n",
              "        buttonEl.style.display =\n",
              "          google.colab.kernel.accessAllowed ? 'block' : 'none';\n",
              "\n",
              "        async function convertToInteractive(key) {\n",
              "          const element = document.querySelector('#df-123b3f5c-d230-4387-afd6-45be141e6ed0');\n",
              "          const dataTable =\n",
              "            await google.colab.kernel.invokeFunction('convertToInteractive',\n",
              "                                                     [key], {});\n",
              "          if (!dataTable) return;\n",
              "\n",
              "          const docLinkHtml = 'Like what you see? Visit the ' +\n",
              "            '<a target=\"_blank\" href=https://colab.research.google.com/notebooks/data_table.ipynb>data table notebook</a>'\n",
              "            + ' to learn more about interactive tables.';\n",
              "          element.innerHTML = '';\n",
              "          dataTable['output_type'] = 'display_data';\n",
              "          await google.colab.output.renderOutput(dataTable, element);\n",
              "          const docLink = document.createElement('div');\n",
              "          docLink.innerHTML = docLinkHtml;\n",
              "          element.appendChild(docLink);\n",
              "        }\n",
              "      </script>\n",
              "    </div>\n",
              "  </div>\n",
              "  "
            ]
          },
          "metadata": {},
          "execution_count": 24
        }
      ],
      "source": [
        "data.head()"
      ]
    },
    {
      "cell_type": "markdown",
      "metadata": {
        "id": "3TD8ZoTAmU4z"
      },
      "source": [
        "**INFERENCE :-**\n",
        "\n",
        "**Merged the two datasets Fake and True.As a part of data cleaning and preprocessing,we have dropped unneccessary columns and conversion of text to lowercase,removing numbers,punctuations,stopwords and stemming of text is done using natural language tool kit(nltk).**"
      ]
    },
    {
      "cell_type": "markdown",
      "metadata": {
        "id": "YoyZ5BVsi_rx"
      },
      "source": [
        "# **BASIC DATA EXPLORATION**"
      ]
    },
    {
      "cell_type": "markdown",
      "metadata": {
        "id": "H3eUPkVhO9QL"
      },
      "source": [
        "##**BAG OF WORDS**"
      ]
    },
    {
      "cell_type": "code",
      "execution_count": null,
      "metadata": {
        "id": "G7FVY5JqPLeo",
        "colab": {
          "base_uri": "https://localhost:8080/"
        },
        "outputId": "6026c171-590a-4ca5-b828-655f5fe30d9a"
      },
      "outputs": [
        {
          "output_type": "execute_result",
          "data": {
            "text/plain": [
              "{'amsterdam': 72,\n",
              " 'reuter': 28675,\n",
              " 'dutch': 287,\n",
              " 'citizen': 4780,\n",
              " 'go': 23501,\n",
              " 'trial': 1781,\n",
              " 'netherland': 218,\n",
              " 'next': 8690,\n",
              " 'monday': 9115,\n",
              " 'charg': 7259,\n",
              " 'commit': 4609,\n",
              " 'war': 9664,\n",
              " 'crime': 4651,\n",
              " 'ethiopia': 97,\n",
              " 'yearold': 4071,\n",
              " 'dutchman': 4,\n",
              " 'born': 1432,\n",
              " 'accus': 8246,\n",
              " 'incarcer': 170,\n",
              " 'tortur': 838,\n",
              " 'murder': 2894,\n",
              " 'oppon': 2090,\n",
              " 'former': 17684,\n",
              " 'ethiopian': 54,\n",
              " 'leader': 14629,\n",
              " 'mengistu': 16,\n",
              " 'hail': 388,\n",
              " 'mariam': 10,\n",
              " 'late': 3697,\n",
              " 'repres': 9462,\n",
              " 'provinc': 1481,\n",
              " 'gojjam': 2,\n",
              " 'man': 8034,\n",
              " 'order': 10866,\n",
              " 'kill': 9591,\n",
              " 'young': 3756,\n",
              " 'prison': 2979,\n",
              " 'respons': 8649,\n",
              " 'inhuman': 118,\n",
              " 'treatment': 1376,\n",
              " 'peopl': 40720,\n",
              " 'court': 15535,\n",
              " 'sentenc': 2365,\n",
              " 'death': 4999,\n",
              " 'absentia': 35,\n",
              " 'role': 4422,\n",
              " 'call': 24516,\n",
              " 'red': 1694,\n",
              " 'terror': 4368,\n",
              " 'communist': 1312,\n",
              " 'militari': 11564,\n",
              " 'junta': 97,\n",
              " 'conduct': 3122,\n",
              " 'ouster': 137,\n",
              " 'emperor': 122,\n",
              " 'selassi': 4,\n",
              " 'carri': 4191,\n",
              " 'make': 23011,\n",
              " 'new': 30874,\n",
              " 'best': 4098,\n",
              " 'option': 1735,\n",
              " 'hold': 6320,\n",
              " 'account': 5325,\n",
              " 'nation': 26577,\n",
              " 'prosecutor': 2742,\n",
              " 'offic': 18923,\n",
              " 'said': 130033,\n",
              " 'tuesday': 10250,\n",
              " 'hagu': 100,\n",
              " 'base': 5744,\n",
              " 'investig': 13795,\n",
              " 'intern': 8740,\n",
              " 'team': 5144,\n",
              " 'polic': 14851,\n",
              " 'contain': 1587,\n",
              " 'statement': 13270,\n",
              " 'sever': 7726,\n",
              " 'wit': 1853,\n",
              " 'present': 2752,\n",
              " 'held': 4945,\n",
              " 'provision': 108,\n",
              " 'custodi': 691,\n",
              " 'sinc': 14315,\n",
              " 'found': 6762,\n",
              " 'guilti': 1423,\n",
              " 'genocid': 364,\n",
              " 'top': 7140,\n",
              " 'member': 13440,\n",
              " 'govern': 29174,\n",
              " 'thousand': 3999,\n",
              " 'year': 33732,\n",
              " 'rule': 12350,\n",
              " 'oust': 639,\n",
              " 'fled': 910,\n",
              " 'zimbabw': 550,\n",
              " 'still': 10249,\n",
              " 'live': 10646,\n",
              " 'washington': 17571,\n",
              " 'presid': 55045,\n",
              " 'donald': 27513,\n",
              " 'trump': 116450,\n",
              " 'told': 23343,\n",
              " 'congress': 9851,\n",
              " 'open': 7036,\n",
              " 'immigr': 10464,\n",
              " 'reform': 4626,\n",
              " 'shift': 1487,\n",
              " 'harsh': 446,\n",
              " 'rhetor': 1891,\n",
              " 'illeg': 6367,\n",
              " 'speech': 7031,\n",
              " 'offer': 4898,\n",
              " 'restrain': 241,\n",
              " 'tone': 783,\n",
              " 'elect': 26849,\n",
              " 'campaign': 23145,\n",
              " 'first': 18374,\n",
              " 'month': 13341,\n",
              " 'white': 22675,\n",
              " 'hous': 28758,\n",
              " 'primetim': 81,\n",
              " 'address': 4234,\n",
              " 'countri': 23773,\n",
              " 'remain': 5944,\n",
              " 'divid': 1598,\n",
              " 'leadership': 2574,\n",
              " 'set': 6677,\n",
              " 'asid': 848,\n",
              " 'disput': 1896,\n",
              " 'democrat': 27699,\n",
              " 'news': 19999,\n",
              " 'media': 15338,\n",
              " 'deliv': 2272,\n",
              " 'presidenti': 13716,\n",
              " 'perform': 2017,\n",
              " 'date': 1924,\n",
              " 'seek': 5184,\n",
              " 'regain': 242,\n",
              " 'confid': 1788,\n",
              " 'american': 22617,\n",
              " 'rattl': 166,\n",
              " 'thu': 736,\n",
              " 'far': 6446,\n",
              " 'president’': 906,\n",
              " 'long': 6678,\n",
              " 'promis': 4531,\n",
              " 'short': 2453,\n",
              " 'specif': 2492,\n",
              " 'achiev': 1663,\n",
              " 'challeng': 4212,\n",
              " 'legisl': 6711,\n",
              " 'agenda': 2499,\n",
              " 'could': 23844,\n",
              " 'add': 1467,\n",
              " 'dramat': 732,\n",
              " 'budget': 4580,\n",
              " 'deficit': 1096,\n",
              " 'want': 19434,\n",
              " 'healthcar': 3412,\n",
              " 'overhaul': 1025,\n",
              " 'broad': 835,\n",
              " 'tax': 12931,\n",
              " 'cut': 5752,\n",
              " 'trillion': 974,\n",
              " 'publicpriv': 23,\n",
              " 'initi': 3405,\n",
              " 'rebuild': 567,\n",
              " 'degrad': 153,\n",
              " 'road': 1507,\n",
              " 'bridg': 764,\n",
              " 'built': 1221,\n",
              " 'support': 25280,\n",
              " 'behind': 4129,\n",
              " 'vow': 1586,\n",
              " 'fight': 7365,\n",
              " 'took': 7719,\n",
              " 'moder': 1439,\n",
              " 'appeal': 3250,\n",
              " 'republican': 37806,\n",
              " 'work': 19160,\n",
              " 'togeth': 3319,\n",
              " 'possibl': 7322,\n",
              " 'will': 1865,\n",
              " 'compromis': 1038,\n",
              " 'although': 2914,\n",
              " 'also': 31177,\n",
              " 'us': 62899,\n",
              " 'meritbas': 32,\n",
              " 'system': 6779,\n",
              " 'rather': 3314,\n",
              " 'reli': 980,\n",
              " 'lowerskil': 7,\n",
              " 'comprehens': 552,\n",
              " 'elud': 34,\n",
              " 'two': 19914,\n",
              " 'predecessor': 786,\n",
              " 'barack': 6040,\n",
              " 'obama': 25120,\n",
              " 'georg': 3185,\n",
              " 'w': 1719,\n",
              " 'bush': 3428,\n",
              " 'deep': 1683,\n",
              " 'divis': 1980,\n",
              " 'within': 4014,\n",
              " 'among': 6175,\n",
              " 'issu': 13614,\n",
              " 'would': 54845,\n",
              " 'rais': 5719,\n",
              " 'wage': 1904,\n",
              " 'help': 13130,\n",
              " 'struggl': 2015,\n",
              " 'famili': 9377,\n",
              " 'enter': 3077,\n",
              " 'middl': 3496,\n",
              " 'class': 2059,\n",
              " '“i': 4171,\n",
              " 'believ': 10095,\n",
              " 'real': 5257,\n",
              " 'posit': 6578,\n",
              " 'focu': 2118,\n",
              " 'follow': 9389,\n",
              " 'goal': 1981,\n",
              " 'improv': 2016,\n",
              " 'job': 8445,\n",
              " 'strengthen': 999,\n",
              " 'nation’': 448,\n",
              " 'secur': 17866,\n",
              " 'restor': 1216,\n",
              " 'respect': 3352,\n",
              " 'laws”': 33,\n",
              " 'trump’': 11628,\n",
              " 'domin': 1025,\n",
              " 'temporari': 988,\n",
              " 'travel': 4519,\n",
              " 'ban': 6146,\n",
              " 'seven': 2246,\n",
              " 'muslimmajor': 471,\n",
              " 'repeat': 1547,\n",
              " 'attack': 15499,\n",
              " 'person': 9448,\n",
              " 'critic': 10111,\n",
              " 'judg': 5791,\n",
              " 'block': 3627,\n",
              " 'appear': 8251,\n",
              " 'look': 11078,\n",
              " 'reset': 104,\n",
              " 'tri': 12645,\n",
              " 'move': 9602,\n",
              " 'past': 5444,\n",
              " 'chaotic': 202,\n",
              " 'period': 1967,\n",
              " 'sow': 194,\n",
              " 'doubt': 1816,\n",
              " 'abil': 1887,\n",
              " 'effect': 4051,\n",
              " '“the': 3899,\n",
              " 'time': 27193,\n",
              " 'trivial': 63,\n",
              " 'us”': 257,\n",
              " 'financi': 5061,\n",
              " 'market': 4249,\n",
              " 'show': 16106,\n",
              " 'mute': 87,\n",
              " 'reaction': 1148,\n",
              " 'gave': 3449,\n",
              " 'detail': 3931,\n",
              " 'earli': 4125,\n",
              " 'sign': 6671,\n",
              " 'drew': 1231,\n",
              " 'cnnorc': 22,\n",
              " 'poll': 7417,\n",
              " 'percent': 14202,\n",
              " 'viewer': 729,\n",
              " 'thought': 3818,\n",
              " 'felt': 1423,\n",
              " 'optimist': 294,\n",
              " 'futur': 4145,\n",
              " '“he’': 257,\n",
              " 'lost': 3365,\n",
              " 'foot': 567,\n",
              " 'mouth': 689,\n",
              " 'disease”': 3,\n",
              " 'tom': 1159,\n",
              " 'beckwith': 5,\n",
              " 'seminol': 9,\n",
              " 'florida': 3362,\n",
              " '“thi': 1341,\n",
              " 'tremend': 426,\n",
              " 'he’': 650,\n",
              " 'cured”': 1,\n",
              " 'plenti': 390,\n",
              " 'evid': 4807,\n",
              " 'ongo': 1160,\n",
              " 'partisan': 661,\n",
              " 'chamber': 1203,\n",
              " 'spoke': 2761,\n",
              " 'sometim': 1325,\n",
              " 'sat': 554,\n",
              " 'silenc': 769,\n",
              " 'turn': 6916,\n",
              " 'thumb': 157,\n",
              " 'remark': 3196,\n",
              " 'mani': 16370,\n",
              " 'women': 9659,\n",
              " 'lawmak': 5890,\n",
              " 'wore': 272,\n",
              " 'subtl': 89,\n",
              " 'protest': 8950,\n",
              " 'senat': 22387,\n",
              " 'christoph': 544,\n",
              " 'coon': 81,\n",
              " 'delawar': 136,\n",
              " 'one': 36388,\n",
              " 'coher': 90,\n",
              " 'public': 12729,\n",
              " 'given': 4687,\n",
              " 'month”': 11,\n",
              " 'view': 5074,\n",
              " 'forthcom': 156,\n",
              " 'propos': 6144,\n",
              " '“grave': 21,\n",
              " 'concerning”': 9,\n",
              " 'cite': 3184,\n",
              " 'plan': 15358,\n",
              " 'pay': 6393,\n",
              " 'defens': 5797,\n",
              " 'buildup': 150,\n",
              " 'foreign': 11925,\n",
              " 'aid': 5539,\n",
              " 'program': 8400,\n",
              " 'much': 10023,\n",
              " 'focus': 1996,\n",
              " 'solv': 694,\n",
              " 'problem': 5467,\n",
              " 'home': 7032,\n",
              " 'line': 4981,\n",
              " '“america': 154,\n",
              " 'first”': 159,\n",
              " 'apart': 1266,\n",
              " 'increas': 5017,\n",
              " 'debt': 2449,\n",
              " 'mention': 2495,\n",
              " 'feder': 12259,\n",
              " 'limit': 3253,\n",
              " 'spend': 4509,\n",
              " 'pledg': 2293,\n",
              " 'build': 5713,\n",
              " 'wall': 5264,\n",
              " 'usmexico': 211,\n",
              " 'border': 7335,\n",
              " 'made': 14801,\n",
              " 'mexico': 4178,\n",
              " '“shortli': 3,\n",
              " 'take': 18762,\n",
              " 'step': 5122,\n",
              " 'keep': 7138,\n",
              " 'safe”': 47,\n",
              " 'refer': 4208,\n",
              " 'execut': 7088,\n",
              " 'replac': 3365,\n",
              " 'embroil': 155,\n",
              " 'part': 11681,\n",
              " 'polici': 12535,\n",
              " 'stress': 863,\n",
              " 'nato': 1983,\n",
              " 'insist': 1965,\n",
              " 'alli': 5147,\n",
              " 'nod': 197,\n",
              " 'bid': 1509,\n",
              " 'warm': 952,\n",
              " 'relat': 5776,\n",
              " 'russia': 12360,\n",
              " 'name': 7342,\n",
              " 'find': 5857,\n",
              " 'friend': 4004,\n",
              " 'forg': 318,\n",
              " 'partnership': 913,\n",
              " 'share': 4624,\n",
              " 'interest': 6345,\n",
              " 'align”': 1,\n",
              " 'prais': 1856,\n",
              " 'russian': 11139,\n",
              " 'vladimir': 1639,\n",
              " 'putin': 4022,\n",
              " 'congression': 3816,\n",
              " 'committe': 9532,\n",
              " 'contact': 2329,\n",
              " 'see': 12434,\n",
              " 'inappropri': 646,\n",
              " 'commun': 9011,\n",
              " '“we': 2967,\n",
              " 'harmoni': 95,\n",
              " 'stabil': 1210,\n",
              " 'conflict”': 25,\n",
              " 'howev': 6182,\n",
              " 'embark': 96,\n",
              " 'big': 5145,\n",
              " 'provid': 7549,\n",
              " '“massiv': 19,\n",
              " 'relief”': 21,\n",
              " 'corpor': 3004,\n",
              " 'rate': 4917,\n",
              " 'fail': 5483,\n",
              " 'comment': 10286,\n",
              " 'press': 6794,\n",
              " 'face': 8363,\n",
              " 'adjust': 469,\n",
              " 'boost': 1463,\n",
              " 'export': 1428,\n",
              " 'import': 6235,\n",
              " 'america': 12316,\n",
              " 'republicanl': 334,\n",
              " 'repeal': 2512,\n",
              " 'obamacar': 3341,\n",
              " 'expand': 2054,\n",
              " 'choic': 2268,\n",
              " 'access': 3726,\n",
              " 'lower': 2491,\n",
              " 'cost': 4274,\n",
              " 'accomplish': 757,\n",
              " 'vehement': 154,\n",
              " 'oppos': 3733,\n",
              " 'tamper': 133,\n",
              " 'health': 6184,\n",
              " 'insur': 3650,\n",
              " 'million': 14492,\n",
              " 'lowincom': 413,\n",
              " 'lack': 2274,\n",
              " 'publicli': 1721,\n",
              " 'credit': 2174,\n",
              " 'purchas': 1216,\n",
              " 'coverag': 1971,\n",
              " 'say': 36395,\n",
              " 'necessari': 1607,\n",
              " 'kentucki': 581,\n",
              " 'governor': 5394,\n",
              " 'steve': 1486,\n",
              " 'beshear': 19,\n",
              " '“you': 411,\n",
              " 'seem': 5681,\n",
              " 'determin': 2370,\n",
              " 'rip': 670,\n",
              " 'afford': 2048,\n",
              " 'away': 5210,\n",
              " 'need': 15029,\n",
              " 'it”': 688,\n",
              " 'emot': 732,\n",
              " 'moment': 2500,\n",
              " 'night': 4759,\n",
              " 'singl': 2482,\n",
              " 'carryn': 8,\n",
              " 'owen': 125,\n",
              " 'widow': 156,\n",
              " 'navi': 1047,\n",
              " 'seal': 525,\n",
              " 'william': 1466,\n",
              " '“ryan”': 4,\n",
              " 'raid': 886,\n",
              " 'al': 2396,\n",
              " 'qaeda': 752,\n",
              " 'yemen': 1553,\n",
              " 'tear': 864,\n",
              " 'stream': 523,\n",
              " 'clasp': 6,\n",
              " 'hand': 5921,\n",
              " 'upward': 94,\n",
              " 'spot': 914,\n",
              " 'balconi': 65,\n",
              " 'applaud': 305,\n",
              " 'longest': 211,\n",
              " 'ovat': 99,\n",
              " 'hourlong': 74,\n",
              " 'mission': 1614,\n",
              " 'husband': 1964,\n",
              " 'particip': 2106,\n",
              " 'obtain': 1726,\n",
              " 'vital': 634,\n",
              " 'intellig': 7460,\n",
              " 'use': 20417,\n",
              " 'islamist': 1419,\n",
              " 'milit': 3709,\n",
              " 'report': 28006,\n",
              " 'quot': 1784,\n",
              " 'offici': 21708,\n",
              " 'littl': 5397,\n",
              " 'gain': 2383,\n",
              " 'conserv': 9537,\n",
              " 'websit': 2830,\n",
              " 'breitbart': 2080,\n",
              " 'file': 4419,\n",
              " 'crimin': 4448,\n",
              " 'complaint': 1210,\n",
              " 'friday': 9527,\n",
              " 'frontrunn': 1248,\n",
              " 'manag': 4887,\n",
              " 'grab': 938,\n",
              " 'arm': 4882,\n",
              " 'ralli': 4529,\n",
              " 'forc': 13393,\n",
              " 'left': 7404,\n",
              " 'bruis': 163,\n",
              " 'releas': 8650,\n",
              " 'michel': 1428,\n",
              " 'field': 1763,\n",
              " 'victim': 3576,\n",
              " 'batteri': 182,\n",
              " 'golf': 1056,\n",
              " 'club': 1178,\n",
              " 'jupit': 61,\n",
              " 'day’': 19,\n",
              " 'contest': 1726,\n",
              " 'race': 4719,\n",
              " 'nomin': 4998,\n",
              " 'party’': 1104,\n",
              " 'candid': 11258,\n",
              " 'nov': 2771,\n",
              " 'prompt': 1576,\n",
              " 'flurri': 107,\n",
              " 'exchang': 2407,\n",
              " 'corey': 224,\n",
              " 'lewandowski': 358,\n",
              " 'deni': 5443,\n",
              " 'dismiss': 1831,\n",
              " '“attent': 1,\n",
              " 'seeker”': 1,\n",
              " 'twitter': 7066,\n",
              " 'publish': 3039,\n",
              " 'thursday': 9559,\n",
              " 'happen': 7275,\n",
              " 'gather': 1800,\n",
              " 'around': 8114,\n",
              " 'ask': 14524,\n",
              " 'addit': 3387,\n",
              " 'question': 9777,\n",
              " 'confer': 4462,\n",
              " 'affirm': 366,\n",
              " 'action': 7553,\n",
              " '“trump': 200,\n",
              " 'acknowledg': 1600,\n",
              " 'answer': 3082,\n",
              " 'jolt': 44,\n",
              " 'backward': 180,\n",
              " 'someon': 4017,\n",
              " 'tightli': 58,\n",
              " 'yank': 62,\n",
              " 'almost': 3272,\n",
              " 'fell': 1015,\n",
              " 'ground': 2691,\n",
              " 'abl': 4253,\n",
              " 'maintain': 1916,\n",
              " 'balanc': 1006,\n",
              " 'nonetheless': 215,\n",
              " 'shaken”': 1,\n",
              " 'wrote': 4606,\n",
              " 'spokeswoman': 2189,\n",
              " 'hope': 7323,\n",
              " 'hick': 138,\n",
              " 'fields’': 5,\n",
              " 'stori': 7895,\n",
              " 'seen': 5797,\n",
              " 'encount': 513,\n",
              " 'camera': 962,\n",
              " 'captur': 2736,\n",
              " 'incid': 3048,\n",
              " 'post': 10187,\n",
              " 'photo': 2657,\n",
              " 'know': 14860,\n",
              " 'caus': 5057,\n",
              " 'stumbl': 180,\n",
              " 'ben': 1130,\n",
              " 'terri': 258,\n",
              " 'seiz': 1153,\n",
              " 'newspap': 2101,\n",
              " 'polit': 19854,\n",
              " 'site': 2397,\n",
              " 'politico': 913,\n",
              " 'transcript': 442,\n",
              " 'audio': 462,\n",
              " 'record': 5547,\n",
              " 'includ': 19928,\n",
              " '“yeah': 13,\n",
              " 'threw': 630,\n",
              " 'down”': 103,\n",
              " 'repli': 1210,\n",
              " 'can’t': 534,\n",
              " 'hard': 3855,\n",
              " 'corey”': 2,\n",
              " 'later': 5703,\n",
              " 'chief': 6303,\n",
              " 'larri': 305,\n",
              " 'solov': 11,\n",
              " 'suggest': 4860,\n",
              " 'may': 15370,\n",
              " 'invent': 235,\n",
              " 'episod': 840,\n",
              " 'contradict': 446,\n",
              " '“breitbart': 2,\n",
              " 'stand': 6027,\n",
              " 'fields”': 1,\n",
              " 'hour': 4143,\n",
              " 'terris’': 1,\n",
              " 'footag': 872,\n",
              " 'event': 5784,\n",
              " 'flank': 115,\n",
              " 'men': 4783,\n",
              " 'bore': 178,\n",
              " 'resembl': 226,\n",
              " 'like': 29355,\n",
              " 'lewandowski”': 1,\n",
              " 'stood': 1094,\n",
              " 'blog': 552,\n",
              " 'erik': 47,\n",
              " 'wempl': 3,\n",
              " 'saw': 2476,\n",
              " 'saw”': 4,\n",
              " 'immedi': 4512,\n",
              " 'respond': 5513,\n",
              " 'email': 8130,\n",
              " 'request': 5061,\n",
              " 'reach': 4191,\n",
              " 'across': 4905,\n",
              " 'unit': 25156,\n",
              " 'state': 58589,\n",
              " 'mark': 3533,\n",
              " 'rowdi': 38,\n",
              " 'physic': 920,\n",
              " 'either': 2815,\n",
              " 'personnel': 937,\n",
              " 'virginia': 2007,\n",
              " 'feb': 691,\n",
              " 'magazin': 1097,\n",
              " 'photograph': 760,\n",
              " 'document': 4602,\n",
              " 'exit': 884,\n",
              " 'dozen': 2217,\n",
              " 'black': 9259,\n",
              " 'neck': 267,\n",
              " 'shove': 191,\n",
              " 'secret': 2798,\n",
              " 'servic': 7202,\n",
              " 'agent': 2982,\n",
              " 'spokesman': 5497,\n",
              " 'josh': 559,\n",
              " 'earnest': 490,\n",
              " 'weigh': 792,\n",
              " 'tell': 6756,\n",
              " '“there': 718,\n",
              " 'excus': 790,\n",
              " 'justif': 200,\n",
              " 'act': 8657,\n",
              " 'violenc': 5205,\n",
              " 'cover': 3544,\n",
              " 'event”': 17,\n",
              " 'joseph': 685,\n",
              " 'ax': 29,\n",
              " 'colleen': 19,\n",
              " 'jenkin': 53,\n",
              " 'jeff': 1592,\n",
              " 'mason': 156,\n",
              " 'edit': 913,\n",
              " 'grant': 2275,\n",
              " 'mccool': 11,\n",
              " 'articl': 2934,\n",
              " 'fund': 8863,\n",
              " 'sap': 637,\n",
              " 'independ': 5616,\n",
              " 'creat': 5650,\n",
              " 'editori': 1015,\n",
              " 'staff': 4339,\n",
              " 'involv': 5971,\n",
              " 'creation': 791,\n",
              " 'product': 3013,\n",
              " 'accord': 13494,\n",
              " 'grand': 1208,\n",
              " 'juri': 724,\n",
              " 'oklahoma': 567,\n",
              " 'jail': 1969,\n",
              " 'verifi': 693,\n",
              " 'drug': 2973,\n",
              " 'lethal': 193,\n",
              " 'inject': 237,\n",
              " 'unawar': 290,\n",
              " 'wrong': 2722,\n",
              " 'administ': 173,\n",
              " 'anoth': 9943,\n",
              " 'damn': 794,\n",
              " 'piec': 1633,\n",
              " 'flaw': 403,\n",
              " 'supposedli': 580,\n",
              " 'human': 5654,\n",
              " 'place': 8343,\n",
              " 'capit': 4029,\n",
              " 'punishmentsin': 1,\n",
              " 'broke': 1414,\n",
              " 'inmat': 313,\n",
              " 'clayton': 160,\n",
              " 'lockett': 5,\n",
              " 'execution': 19,\n",
              " 'properli': 444,\n",
              " 'put': 9520,\n",
              " 'iv': 35,\n",
              " 'needl': 65,\n",
              " 'began': 3568,\n",
              " 'spray': 225,\n",
              " 'die': 3377,\n",
              " 'minut': 2022,\n",
              " 'agoni': 12,\n",
              " 'toxin': 15,\n",
              " 'pump': 258,\n",
              " 'bodi': 2559,\n",
              " 'intend': 1859,\n",
              " 'heart': 1649,\n",
              " 'attackaft': 1,\n",
              " 'massiv': 1878,\n",
              " 'outcri': 212,\n",
              " 'scath': 191,\n",
              " 'condemn': 2041,\n",
              " 'amnesti': 691,\n",
              " 'minor': 3158,\n",
              " 'chang': 11314,\n",
              " 'regard': 2854,\n",
              " 'botch': 144,\n",
              " 'charl': 730,\n",
              " 'werner': 24,\n",
              " 'final': 4708,\n",
              " 'word': 5237,\n",
              " 'fire': 7010,\n",
              " 'major': 10371,\n",
              " 'factor': 726,\n",
              " 'contribut': 2033,\n",
              " 'due': 4045,\n",
              " 'absenc': 345,\n",
              " 'sodium': 7,\n",
              " 'thiopent': 2,\n",
              " 'taken': 4635,\n",
              " 'regul': 3543,\n",
              " 'yet': 5471,\n",
              " 'abolish': 233,\n",
              " 'punish': 1380,\n",
              " 'scrambl': 284,\n",
              " 'alternativesthat': 1,\n",
              " 'mean': 6900,\n",
              " 'histori': 4544,\n",
              " 'desper': 1224,\n",
              " 'cling': 103,\n",
              " 'practic': 2262,\n",
              " 'rest': 2015,\n",
              " 'world': 11139,\n",
              " 'toward': 4252,\n",
              " 'good': 8269,\n",
              " 'reason': 5513,\n",
              " 'penalti': 721,\n",
              " 'particular': 1326,\n",
              " 'even': 18693,\n",
              " 'staunchest': 37,\n",
              " 'advoc': 1963,\n",
              " 'deathli': 6,\n",
              " 'must': 6116,\n",
              " 'admit': 2483,\n",
              " 'terrifi': 462,\n",
              " 'recent': 9247,\n",
              " 'studi': 2317,\n",
              " 'actual': 6696,\n",
              " 'innocentno': 1,\n",
              " 'matter': 6783,\n",
              " 'protocol': 275,\n",
              " 'never': 8167,\n",
              " 'sure': 4294,\n",
              " 'truli': 1090,\n",
              " 'innoc': 1206,\n",
              " 'stanc': 1216,\n",
              " 'abolitionist': 18,\n",
              " 'alway': 3129,\n",
              " 'whether': 8460,\n",
              " 'convict': 1944,\n",
              " 'individu': 3990,\n",
              " 'idea': 4048,\n",
              " 'might': 5965,\n",
              " 'subject': 2075,\n",
              " 'increasingli': 1130,\n",
              " 'becom': 7888,\n",
              " 'hell': 1121,\n",
              " 'unconscionableoklahoma': 1,\n",
              " 'alreadi': 6622,\n",
              " 'proven': 610,\n",
              " 'facad': 53,\n",
              " 'give': 8817,\n",
              " 'barbar': 86,\n",
              " 'practiceright': 1,\n",
              " 'sound': 1661,\n",
              " 'perfect': 863,\n",
              " 'solut': 1679,\n",
              " 'permanentfeatur': 2,\n",
              " 'imag': 14455,\n",
              " 'joe': 1947,\n",
              " 'raedlenewsmak': 1,\n",
              " 'moscow': 3208,\n",
              " 'servicemen': 69,\n",
              " 'deir': 428,\n",
              " 'alzor': 363,\n",
              " 'islam': 7209,\n",
              " 'shell': 251,\n",
              " 'convoy': 328,\n",
              " 'escort': 347,\n",
              " 'defenc': 614,\n",
              " 'ministri': 3388,\n",
              " 'interfax': 129,\n",
              " 'agenc': 9307,\n",
              " 'transport': 1153,\n",
              " 'ceasefir': 486,\n",
              " 'monitor': 1242,\n",
              " 'came': 5980,\n",
              " 'mortar': 85,\n",
              " 'soldier': 2176,\n",
              " 'hospit': 2038,\n",
              " 'sustain': 704,\n",
              " 'seriou': 2715,\n",
              " 'injuri': 759,\n",
              " 'award': 1200,\n",
              " 'posthum': 17,\n",
              " 'earlier': 5455,\n",
              " 'air': 4797,\n",
              " 'syrian': 4545,\n",
              " 'armi': 3693,\n",
              " 'push': 5108,\n",
              " 'ahead': 3109,\n",
              " 'offens': 1765,\n",
              " 'euphrat': 217,\n",
              " 'citi': 11228,\n",
              " 'besieg': 125,\n",
              " 'civilian': 1863,\n",
              " 'garrison': 74,\n",
              " 'stepfath': 35,\n",
              " 'beat': 1476,\n",
              " 'mother': 2288,\n",
              " 'sixyearold': 75,\n",
              " 'child': 2391,\n",
              " 'rush': 801,\n",
              " 'phone': 2777,\n",
              " 'helpthrough': 1,\n",
              " 'hyster': 177,\n",
              " 'sob': 46,\n",
              " 'emerg': 3017,\n",
              " 'dispatch': 258,\n",
              " 'worker': 4081,\n",
              " 'mommi': 39,\n",
              " 'daddi': 128,\n",
              " 'get': 20322,\n",
              " 'inform': 8771,\n",
              " 'lisa': 335,\n",
              " 'plead': 697,\n",
              " 'pleas': 1642,\n",
              " 'send': 3119,\n",
              " 'forev': 273,\n",
              " 'ever': 5005,\n",
              " 'girl': 2213,\n",
              " 'heard': 2374,\n",
              " 'scream': 705,\n",
              " 'stop': 7179,\n",
              " 'hear': 5441,\n",
              " 'anguish': 48,\n",
              " 'voic': 2395,\n",
              " 'beg': 481,\n",
              " 'oper': 7022,\n",
              " 'hurt': 1923,\n",
              " 'criesaft': 1,\n",
              " 'instruct': 691,\n",
              " 'unlock': 121,\n",
              " 'door': 1592,\n",
              " 'return': 5420,\n",
              " 'phoneat': 1,\n",
              " 'point': 9980,\n",
              " 'knock': 482,\n",
              " 'sister': 745,\n",
              " 'thefouryearold': 1,\n",
              " 'oh': 1084,\n",
              " 'god': 1897,\n",
              " 'got': 5849,\n",
              " 'babi': 1412,\n",
              " 'listen': 1975,\n",
              " 'heartbreak': 115,\n",
              " 'via': 11777,\n",
              " 'facesofchildabus': 1,\n",
              " 'youtub': 992,\n",
              " 'known': 5068,\n",
              " 'tape': 870,\n",
              " 'educ': 3153,\n",
              " 'impact': 2190,\n",
              " 'domest': 1903,\n",
              " 'childrenaft': 3,\n",
              " 'familyi': 3,\n",
              " 'mom': 445,\n",
              " 'sibl': 84,\n",
              " 'situat': 3328,\n",
              " 'alivetoday': 1,\n",
              " 'floyd': 28,\n",
              " 'survivor': 429,\n",
              " 'violencesadli': 1,\n",
              " 'kind': 3534,\n",
              " 'happi': 1308,\n",
              " 'end': 10246,\n",
              " 'doeseveri': 1,\n",
              " 'nine': 1300,\n",
              " 'second': 4692,\n",
              " 'woman': 4829,\n",
              " 'target': 5031,\n",
              " 'boyfriend': 152,\n",
              " 'intim': 132,\n",
              " 'partner': 2502,\n",
              " 'result': 5386,\n",
              " 'annuallyw': 1,\n",
              " 'everi': 7547,\n",
              " 'least': 5865,\n",
              " 'children': 5874,\n",
              " 'homeslik': 1,\n",
              " 'younger': 478,\n",
              " 'occur': 1323,\n",
              " 'abuseaccord': 1,\n",
              " 'center': 4742,\n",
              " 'engag': 2256,\n",
              " 'abus': 2375,\n",
              " 'childrenyet': 1,\n",
              " 'perpetr': 372,\n",
              " 'shamelessli': 59,\n",
              " 'lenient': 56,\n",
              " 'exampl': 2763,\n",
              " 'minimum': 1034,\n",
              " 'california': 2901,\n",
              " 'probat': 194,\n",
              " 'five': 3987,\n",
              " 'day': 16639,\n",
              " 'counti': 3331,\n",
              " 'louisiana': 569,\n",
              " 'four': 5291,\n",
              " 'serv': 5557,\n",
              " 'without': 7455,\n",
              " 'benefit': 2898,\n",
              " 'parol': 85,\n",
              " 'suspens': 357,\n",
              " 'sentenceeven': 1,\n",
              " 'shock': 1681,\n",
              " 'averag': 1426,\n",
              " 'spous': 203,\n",
              " 'six': 3188,\n",
              " 'yearsi': 4,\n",
              " 'wonder': 1941,\n",
              " 'violent': 2399,\n",
              " 'behaviorwhen': 1,\n",
              " 'statist': 516,\n",
              " 'suffer': 2072,\n",
              " 'horribl': 754,\n",
              " 'compar': 2034,\n",
              " 'thing': 10890,\n",
              " 'consequ': 1167,\n",
              " 'societi': 2032,\n",
              " 'consid': 6304,\n",
              " 'noth': 5141,\n",
              " 'less': 4092,\n",
              " 'shamefuldomest': 1,\n",
              " 'lead': 7424,\n",
              " 'number': 7897,\n",
              " 'homeless': 295,\n",
              " 'statesthos': 5,\n",
              " 'let': 6090,\n",
              " 'hook': 338,\n",
              " 'slap': 422,\n",
              " 'wristimag': 1,\n",
              " 'wikimedia': 207,\n",
              " 'common': 2050,\n",
              " 'santiago': 151,\n",
              " 'billionair': 1584,\n",
              " 'sebastian': 172,\n",
              " 'pinera': 167,\n",
              " 'centrist': 252,\n",
              " 'chile': 229,\n",
              " 'surpris': 2418,\n",
              " 'surg': 680,\n",
              " 'leftist': 1498,\n",
              " 'sunday': 5832,\n",
              " 'firstround': 24,\n",
              " 'vote': 22223,\n",
              " 'tight': 360,\n",
              " 'dec': 1170,\n",
              " 'runoff': 207,\n",
              " 'centerleft': 243,\n",
              " 'alejandro': 118,\n",
              " 'guillier': 95,\n",
              " 'deal': 11080,\n",
              " 'opposit': 5385,\n",
              " 'break': 2920,\n",
              " 'leftlean': 183,\n",
              " 'triumph': 128,\n",
              " 'ran': 1441,\n",
              " 'main': 3195,\n",
              " 'rival': 2367,\n",
              " 'strongerthanexpect': 9,\n",
              " 'garner': 404,\n",
              " 'combin': 794,\n",
              " 'leftofcent': 12,\n",
              " 'outnumb': 104,\n",
              " ...}"
            ]
          },
          "metadata": {},
          "execution_count": 25
        }
      ],
      "source": [
        "all_words = ' '.join([text for text in data.text])\n",
        "def word_count(str):\n",
        "    counts = dict()\n",
        "    words = str.split()\n",
        "\n",
        "    for word in words:\n",
        "        if word in counts:\n",
        "            counts[word] += 1\n",
        "        else:\n",
        "            counts[word] = 1\n",
        "\n",
        "    return counts\n",
        "word_count(all_words)"
      ]
    },
    {
      "cell_type": "code",
      "execution_count": null,
      "metadata": {
        "id": "Agb1rt5Zi7QU",
        "colab": {
          "base_uri": "https://localhost:8080/",
          "height": 535
        },
        "outputId": "0c573663-d3bb-4ffa-f2aa-6146bfbdc6ec"
      },
      "outputs": [
        {
          "output_type": "stream",
          "name": "stdout",
          "text": [
            "subject\n",
            "Government News     1570\n",
            "Middle-east          778\n",
            "News                9050\n",
            "US_News              783\n",
            "left-news           4459\n",
            "politics            6841\n",
            "politicsNews       11272\n",
            "worldnews          10145\n",
            "Name: text, dtype: int64\n"
          ]
        },
        {
          "output_type": "display_data",
          "data": {
            "text/plain": [
              "<Figure size 432x288 with 1 Axes>"
            ],
            "image/png": "[encoded data removed]"
          },
          "metadata": {
            "needs_background": "light"
          }
        }
      ],
      "source": [
        "# How many articles per subject?\n",
        "print(data.groupby(['subject'])['text'].count())\n",
        "data.groupby(['subject'])['text'].count().plot(kind=\"bar\")\n",
        "plt.show()"
      ]
    },
    {
      "cell_type": "code",
      "execution_count": null,
      "metadata": {
        "id": "oJfMZoIQkS0Q",
        "colab": {
          "base_uri": "https://localhost:8080/",
          "height": 346
        },
        "outputId": "81959f27-89a4-4f44-ed43-0bc04d25ea5d"
      },
      "outputs": [
        {
          "output_type": "stream",
          "name": "stdout",
          "text": [
            "target\n",
            "0    23481\n",
            "1    21417\n",
            "Name: text, dtype: int64\n"
          ]
        },
        {
          "output_type": "display_data",
          "data": {
            "text/plain": [
              "<Figure size 432x288 with 1 Axes>"
            ],
            "image/png": "[encoded data removed]"
          },
          "metadata": {
            "needs_background": "light"
          }
        }
      ],
      "source": [
        "# How many fake and real articles?\n",
        "print(data.groupby(['target'])['text'].count())\n",
        "data.groupby(['target'])['text'].count().plot(kind=\"bar\")\n",
        "plt.show()"
      ]
    },
    {
      "cell_type": "markdown",
      "metadata": {
        "id": "pC65foV5i_So"
      },
      "source": [
        "## **WORD CLOUD**"
      ]
    },
    {
      "cell_type": "code",
      "execution_count": null,
      "metadata": {
        "id": "jSJCKk90kYUr",
        "colab": {
          "base_uri": "https://localhost:8080/"
        },
        "outputId": "29c1746c-66d4-4361-fac4-0585da26a873"
      },
      "outputs": [
        {
          "output_type": "stream",
          "name": "stdout",
          "text": [
            "Requirement already satisfied: wordcloud in /usr/local/lib/python3.7/dist-packages (1.5.0)\n",
            "Requirement already satisfied: pillow in /usr/local/lib/python3.7/dist-packages (from wordcloud) (7.1.2)\n",
            "Requirement already satisfied: numpy>=1.6.1 in /usr/local/lib/python3.7/dist-packages (from wordcloud) (1.21.5)\n"
          ]
        }
      ],
      "source": [
        "!pip install wordcloud"
      ]
    },
    {
      "cell_type": "markdown",
      "metadata": {
        "id": "St145ywXA7GI"
      },
      "source": [
        "### Word cloud for fake news"
      ]
    },
    {
      "cell_type": "code",
      "execution_count": null,
      "metadata": {
        "id": "nFLrnm4Hk41B",
        "colab": {
          "base_uri": "https://localhost:8080/",
          "height": 380
        },
        "outputId": "080f8999-c279-4233-b78c-8d96ff4923b4"
      },
      "outputs": [
        {
          "output_type": "display_data",
          "data": {
            "text/plain": [
              "<Figure size 720x504 with 1 Axes>"
            ],
            "image/png": "[encoded data removed]"
          },
          "metadata": {
            "needs_background": "light"
          }
        }
      ],
      "source": [
        "# Word cloud for fake news\n",
        "from wordcloud import WordCloud\n",
        "\n",
        "fake_data = data[data[\"target\"] == 0]\n",
        "all_words = ' '.join([text for text in fake_data.text])\n",
        "\n",
        "wordcloud = WordCloud(width= 800, height= 500,\n",
        "                          max_font_size = 110,\n",
        "                          collocations = False).generate(all_words)\n",
        "\n",
        "plt.figure(figsize=(10,7))\n",
        "plt.imshow(wordcloud, interpolation='bilinear')\n",
        "plt.axis(\"off\")\n",
        "plt.show()"
      ]
    },
    {
      "cell_type": "markdown",
      "metadata": {
        "id": "5FJGShWwBIpI"
      },
      "source": [
        "### Word cloud for real news"
      ]
    },
    {
      "cell_type": "code",
      "execution_count": null,
      "metadata": {
        "id": "nb5S-fHlk8IU",
        "colab": {
          "base_uri": "https://localhost:8080/",
          "height": 380
        },
        "outputId": "640bdab7-1d60-4b5e-b7bf-a6449f515118"
      },
      "outputs": [
        {
          "output_type": "display_data",
          "data": {
            "text/plain": [
              "<Figure size 720x504 with 1 Axes>"
            ],
            "image/png": "[encoded data removed]"
          },
          "metadata": {
            "needs_background": "light"
          }
        }
      ],
      "source": [
        "# Word cloud for real news\n",
        "from wordcloud import WordCloud\n",
        "\n",
        "real_data = data[data[\"target\"] == 1]\n",
        "all_words = ' '.join([text for text in fake_data.text])\n",
        "\n",
        "wordcloud = WordCloud(width= 800, height= 500,\n",
        "                          max_font_size = 110,\n",
        "                          collocations = False).generate(all_words)\n",
        "\n",
        "plt.figure(figsize=(10,7))\n",
        "plt.imshow(wordcloud, interpolation='bilinear')\n",
        "plt.axis(\"off\")\n",
        "plt.show()"
      ]
    },
    {
      "cell_type": "markdown",
      "metadata": {
        "id": "zBLbx3JNKiGb"
      },
      "source": [
        "##**FREQUENCY**"
      ]
    },
    {
      "cell_type": "code",
      "execution_count": null,
      "metadata": {
        "id": "4LhX53jqlGBQ"
      },
      "outputs": [],
      "source": [
        "# Most frequent words counter   \n",
        "from nltk import tokenize\n",
        "\n",
        "token_space = tokenize.WhitespaceTokenizer()\n",
        "\n",
        "def counter(text, column_text, quantity):\n",
        "    all_words = ' '.join([text for text in text[column_text]])\n",
        "    token_phrase = token_space.tokenize(all_words)\n",
        "    frequency = nltk.FreqDist(token_phrase)\n",
        "    df_frequency = pd.DataFrame({\"Word\": list(frequency.keys()),\n",
        "                                   \"Frequency\": list(frequency.values())})\n",
        "    df_frequency = df_frequency.nlargest(columns = \"Frequency\", n = quantity)\n",
        "    plt.figure(figsize=(12,8))\n",
        "    ax = sns.barplot(data = df_frequency, x = \"Word\", y = \"Frequency\", color = 'blue')\n",
        "    ax.set(ylabel = \"Count\")\n",
        "    plt.xticks(rotation='vertical')\n",
        "    plt.show()"
      ]
    },
    {
      "cell_type": "markdown",
      "metadata": {
        "id": "J7bWsD53LafX"
      },
      "source": [
        "###Most frequent words in fake news"
      ]
    },
    {
      "cell_type": "code",
      "execution_count": null,
      "metadata": {
        "id": "6AfadufbmdD0",
        "colab": {
          "base_uri": "https://localhost:8080/",
          "height": 539
        },
        "outputId": "f808e923-fba8-423a-d765-2b0628c37117"
      },
      "outputs": [
        {
          "output_type": "display_data",
          "data": {
            "text/plain": [
              "<Figure size 864x576 with 1 Axes>"
            ],
            "image/png": "[encoded data removed]"
          },
          "metadata": {
            "needs_background": "light"
          }
        }
      ],
      "source": [
        "# Most frequent words in fake news\n",
        "counter(data[data[\"target\"] == 0], \"text\", 20)"
      ]
    },
    {
      "cell_type": "markdown",
      "metadata": {
        "id": "Cd2SJND3LdDi"
      },
      "source": [
        "### Most frequent words in real news"
      ]
    },
    {
      "cell_type": "code",
      "execution_count": null,
      "metadata": {
        "id": "dJcCGxadmgUz",
        "colab": {
          "base_uri": "https://localhost:8080/",
          "height": 539
        },
        "outputId": "14faa53b-4080-45cc-e34b-ff809fb8975e"
      },
      "outputs": [
        {
          "output_type": "display_data",
          "data": {
            "text/plain": [
              "<Figure size 864x576 with 1 Axes>"
            ],
            "image/png": "[encoded data removed]"
          },
          "metadata": {
            "needs_background": "light"
          }
        }
      ],
      "source": [
        "# Most frequent words in real news\n",
        "counter(data[data[\"target\"] == 1], \"text\", 20)"
      ]
    },
    {
      "cell_type": "markdown",
      "metadata": {
        "id": "s7ROo5k5mf5Q"
      },
      "source": [
        "**INFERENCE :-**\n",
        "\n",
        "**In the EDA,we have printed the bag of words,some bar graphs based on frequent words and to show the class labels count.Word cloud of all words are printed by importing Wordcloud library.**"
      ]
    },
    {
      "cell_type": "markdown",
      "metadata": {
        "id": "pOFT5ywIdj6p"
      },
      "source": [
        "# **MODELLING**"
      ]
    },
    {
      "cell_type": "code",
      "execution_count": null,
      "metadata": {
        "id": "ttViDbfcmlxD"
      },
      "outputs": [],
      "source": [
        "from sklearn import metrics\n",
        "import itertools\n",
        "\n",
        "def plot_confusion_matrix(cm, classes,\n",
        "                          normalize=False,\n",
        "                          title='Confusion matrix',\n",
        "                          cmap=plt.cm.Blues):\n",
        "    \n",
        "    plt.imshow(cm, interpolation='nearest', cmap=cmap)\n",
        "    plt.title(title)\n",
        "    plt.colorbar()\n",
        "    tick_marks = np.arange(len(classes))\n",
        "    plt.xticks(tick_marks, classes, rotation=45)\n",
        "    plt.yticks(tick_marks, classes)\n",
        "\n",
        "    if normalize:\n",
        "        cm = cm.astype('float') / cm.sum(axis=1)[:, np.newaxis]\n",
        "        print(\"Normalized confusion matrix\")\n",
        "    else:\n",
        "        print('Confusion matrix, without normalization')\n",
        "\n",
        "    thresh = cm.max() / 2.\n",
        "    for i, j in itertools.product(range(cm.shape[0]), range(cm.shape[1])):\n",
        "        plt.text(j, i, cm[i, j],\n",
        "                 horizontalalignment=\"center\",\n",
        "                 color=\"white\" if cm[i, j] > thresh else \"black\")\n",
        "\n",
        "    plt.tight_layout()\n",
        "    plt.ylabel('True label')\n",
        "    plt.xlabel('Predicted label')"
      ]
    },
    {
      "cell_type": "markdown",
      "metadata": {
        "id": "1k79GDTggCS0"
      },
      "source": [
        "## **SPLIT DATA**"
      ]
    },
    {
      "cell_type": "code",
      "execution_count": null,
      "metadata": {
        "id": "TwvXAj7UgHkT"
      },
      "outputs": [],
      "source": [
        "# Split the data\n",
        "X_train,X_test,y_train,y_test = train_test_split(data['text'], data.target, test_size=0.2, random_state=42)"
      ]
    },
    {
      "cell_type": "code",
      "execution_count": null,
      "metadata": {
        "id": "MgzF-laWgfr1",
        "colab": {
          "base_uri": "https://localhost:8080/"
        },
        "outputId": "95c08ce4-d0b6-494f-be44-9eed59cbb9ee"
      },
      "outputs": [
        {
          "output_type": "execute_result",
          "data": {
            "text/plain": [
              "36335    pure gold ultim racebaiterinchief got call pho...\n",
              "12384    washington reuter presid donald trump’ call us...\n",
              "24419                                         spirit debat\n",
              "24740    secret team trump tizzi jill stein recount att...\n",
              "27039    new york reuter republican presidenti candid d...\n",
              "Name: text, dtype: object"
            ]
          },
          "metadata": {},
          "execution_count": 36
        }
      ],
      "source": [
        "X_train.head()"
      ]
    },
    {
      "cell_type": "code",
      "execution_count": null,
      "metadata": {
        "id": "DSFguT79guA3",
        "colab": {
          "base_uri": "https://localhost:8080/"
        },
        "outputId": "25ae79fd-917e-4fef-db9a-ec37e0e1e48f"
      },
      "outputs": [
        {
          "output_type": "execute_result",
          "data": {
            "text/plain": [
              "36335    0\n",
              "12384    1\n",
              "24419    0\n",
              "24740    0\n",
              "27039    1\n",
              "Name: target, dtype: int64"
            ]
          },
          "metadata": {},
          "execution_count": 37
        }
      ],
      "source": [
        "y_train.head()"
      ]
    },
    {
      "cell_type": "code",
      "execution_count": null,
      "metadata": {
        "id": "CLCsn7CoOZNs"
      },
      "outputs": [],
      "source": [
        "accuracies = {}"
      ]
    },
    {
      "cell_type": "markdown",
      "metadata": {
        "id": "kkmmUuNDmtsd"
      },
      "source": [
        "Dataset split is in the ratio of train set(80) and test set(20) using the hold out method."
      ]
    },
    {
      "cell_type": "markdown",
      "metadata": {
        "id": "o78dVxdQwgQU"
      },
      "source": [
        "## **LOGISTIC REGRESSION**"
      ]
    },
    {
      "cell_type": "code",
      "execution_count": null,
      "metadata": {
        "id": "Bk9BdF2cwfmc",
        "colab": {
          "base_uri": "https://localhost:8080/"
        },
        "outputId": "44ab878f-1c9a-4081-9448-5ffb5ba5b418"
      },
      "outputs": [
        {
          "output_type": "stream",
          "name": "stdout",
          "text": [
            "accuracy: 98.83%\n"
          ]
        }
      ],
      "source": [
        "from sklearn.linear_model import LogisticRegression\n",
        "\n",
        "pipe = Pipeline([('vect', CountVectorizer()),\n",
        "                 ('tfidf', TfidfTransformer()),\n",
        "                 ('model', LogisticRegression())])\n",
        "# Fitting the model\n",
        "model = pipe.fit(X_train, y_train)\n",
        "\n",
        "# Accuracy\n",
        "prediction = model.predict(X_test)\n",
        "print(\"accuracy: {}%\".format(round(accuracy_score(y_test, prediction)*100,2)))\n",
        "accuracies['logistic regression'] = round(accuracy_score(y_test, prediction)*100,2)"
      ]
    },
    {
      "cell_type": "code",
      "execution_count": null,
      "metadata": {
        "id": "UHkH4Y22R1fM",
        "colab": {
          "base_uri": "https://localhost:8080/"
        },
        "outputId": "c9fba4ee-40a0-4db9-fa3b-3458b2d8fca9"
      },
      "outputs": [
        {
          "output_type": "stream",
          "name": "stdout",
          "text": [
            "              precision    recall  f1-score   support\n",
            "\n",
            "           0       0.99      0.99      0.99      4599\n",
            "           1       0.99      0.99      0.99      4381\n",
            "\n",
            "    accuracy                           0.99      8980\n",
            "   macro avg       0.99      0.99      0.99      8980\n",
            "weighted avg       0.99      0.99      0.99      8980\n",
            "\n"
          ]
        }
      ],
      "source": [
        "print(classification_report(prediction,y_test))"
      ]
    },
    {
      "cell_type": "code",
      "execution_count": null,
      "metadata": {
        "id": "TXEDlrflEaQq",
        "colab": {
          "base_uri": "https://localhost:8080/",
          "height": 328
        },
        "outputId": "d7afe9b8-2c0d-48e4-8774-cfe0fa01dbb1"
      },
      "outputs": [
        {
          "output_type": "stream",
          "name": "stdout",
          "text": [
            "Confusion matrix, without normalization\n"
          ]
        },
        {
          "output_type": "display_data",
          "data": {
            "text/plain": [
              "<Figure size 432x288 with 2 Axes>"
            ],
            "image/png": "[encoded data removed]"
          },
          "metadata": {
            "needs_background": "light"
          }
        }
      ],
      "source": [
        "cm = metrics.confusion_matrix(y_test, prediction)\n",
        "plot_confusion_matrix(cm, classes=['Fake', 'Real'])"
      ]
    },
    {
      "cell_type": "code",
      "execution_count": null,
      "metadata": {
        "id": "h1MX6c1JX4YH",
        "colab": {
          "base_uri": "https://localhost:8080/",
          "height": 282
        },
        "outputId": "3ed376b2-3bde-4304-e18a-b162b0e82226"
      },
      "outputs": [
        {
          "output_type": "execute_result",
          "data": {
            "text/plain": [
              "[<matplotlib.lines.Line2D at 0x7fc7c6675950>]"
            ]
          },
          "metadata": {},
          "execution_count": 42
        },
        {
          "output_type": "display_data",
          "data": {
            "text/plain": [
              "<Figure size 432x288 with 1 Axes>"
            ],
            "image/png": "[encoded data removed]"
          },
          "metadata": {
            "needs_background": "light"
          }
        }
      ],
      "source": [
        "fpr,tpr,thresholds=roc_curve(prediction,y_test)\n",
        "plt.plot(fpr,tpr)"
      ]
    },
    {
      "cell_type": "code",
      "execution_count": null,
      "metadata": {
        "id": "ODa7qdImX5jN",
        "colab": {
          "base_uri": "https://localhost:8080/"
        },
        "outputId": "3b06c42e-a4cd-4cbf-b109-fe93e8303fd9"
      },
      "outputs": [
        {
          "output_type": "execute_result",
          "data": {
            "text/plain": [
              "0.9882761101613994"
            ]
          },
          "metadata": {},
          "execution_count": 43
        }
      ],
      "source": [
        "roc_auc_score(prediction,y_test)"
      ]
    },
    {
      "cell_type": "markdown",
      "metadata": {
        "id": "WKuhIovTmxT6"
      },
      "source": [
        "**INFERENCE :-**\n",
        "\n",
        "**Logistic Regression algorithm gave an accuracy,precision,recall,f1 score,auc score of 98.84%,0.99,0.99,0.99,0.988 respectively.**"
      ]
    },
    {
      "cell_type": "markdown",
      "metadata": {
        "id": "3RsdNWkm___P"
      },
      "source": [
        "## **KNN CLASSIFIER**\n",
        "\n"
      ]
    },
    {
      "cell_type": "code",
      "execution_count": null,
      "metadata": {
        "id": "I3GUUogjUu3c",
        "colab": {
          "base_uri": "https://localhost:8080/"
        },
        "outputId": "e750cdbb-5ffc-4997-95fd-b49f9abf56fd"
      },
      "outputs": [
        {
          "output_type": "stream",
          "name": "stdout",
          "text": [
            "accuracy: [79.14, 72.58, 68.65, 66.27, 64.61, 63.3, 61.98, 60.98, 60.48, 59.73]%\n"
          ]
        }
      ],
      "source": [
        "from sklearn.neighbors import KNeighborsClassifier\n",
        "maxacc=[]\n",
        "for i in range(1,20,2):\n",
        "  pipe = Pipeline([('vect', CountVectorizer()),\n",
        "                 ('tfidf', TfidfTransformer()),\n",
        "                 ('model', KNeighborsClassifier(n_neighbors = i))])  \n",
        "  # Fitting the model\n",
        "  model = pipe.fit(X_train, y_train)\n",
        "\n",
        "  # Accuracy\n",
        "  prediction = model.predict(X_test)\n",
        "  maxacc.append(round(accuracy_score(y_test, prediction)*100,2))\n",
        "\n",
        "print(\"accuracy: {}%\".format(maxacc))\n",
        "\n"
      ]
    },
    {
      "cell_type": "code",
      "execution_count": null,
      "metadata": {
        "id": "kOa5hvRY6dhA",
        "colab": {
          "base_uri": "https://localhost:8080/"
        },
        "outputId": "5097d202-3193-4853-8fe7-f9a57e799b89"
      },
      "outputs": [
        {
          "output_type": "stream",
          "name": "stdout",
          "text": [
            "Best hyperparameter(K-value) 1\n"
          ]
        }
      ],
      "source": [
        "print(\"Best hyperparameter(K-value)\",np.argmax(maxacc)+1)"
      ]
    },
    {
      "cell_type": "code",
      "execution_count": null,
      "metadata": {
        "id": "kZ8p-mdL7QdL",
        "colab": {
          "base_uri": "https://localhost:8080/"
        },
        "outputId": "517f5384-dbb9-4c63-df83-5868b4692a8f"
      },
      "outputs": [
        {
          "output_type": "stream",
          "name": "stdout",
          "text": [
            "[79.14, 72.58, 68.65, 66.27, 64.61, 63.3, 61.98, 60.98, 60.48, 59.73]\n"
          ]
        }
      ],
      "source": [
        "print(maxacc)"
      ]
    },
    {
      "cell_type": "code",
      "execution_count": null,
      "metadata": {
        "id": "dwzFAh3o4eFL",
        "colab": {
          "base_uri": "https://localhost:8080/"
        },
        "outputId": "317d5c6d-3200-419f-87e3-0f0892922abb"
      },
      "outputs": [
        {
          "output_type": "stream",
          "name": "stdout",
          "text": [
            "accuracy: 79.14%\n"
          ]
        }
      ],
      "source": [
        "#After finding best K-value\n",
        "\n",
        "pipe = Pipeline([('vect', CountVectorizer()),\n",
        "                 ('tfidf', TfidfTransformer()),\n",
        "                 ('model', KNeighborsClassifier(n_neighbors = np.argmax(maxacc)+1))])  \n",
        "# Fitting the model\n",
        "model = pipe.fit(X_train, y_train)\n",
        "\n",
        "# Accuracy\n",
        "prediction = model.predict(X_test)\n",
        "print(\"accuracy: {}%\".format(round(accuracy_score(y_test, prediction)*100,2)))  \n",
        "\n",
        "accuracies['KNN'] = round(accuracy_score(y_test, prediction)*100,2)"
      ]
    },
    {
      "cell_type": "code",
      "execution_count": null,
      "metadata": {
        "id": "MqlvrRZ7d1n-",
        "colab": {
          "base_uri": "https://localhost:8080/"
        },
        "outputId": "76b0f4e8-0d56-4c39-da20-74e3f6157730"
      },
      "outputs": [
        {
          "output_type": "stream",
          "name": "stdout",
          "text": [
            "              precision    recall  f1-score   support\n",
            "\n",
            "           0       0.96      0.73      0.83      6253\n",
            "           1       0.60      0.94      0.73      2727\n",
            "\n",
            "    accuracy                           0.79      8980\n",
            "   macro avg       0.78      0.83      0.78      8980\n",
            "weighted avg       0.85      0.79      0.80      8980\n",
            "\n"
          ]
        }
      ],
      "source": [
        "print(classification_report(prediction,y_test))"
      ]
    },
    {
      "cell_type": "code",
      "execution_count": null,
      "metadata": {
        "id": "wPasy4_cgRgv",
        "colab": {
          "base_uri": "https://localhost:8080/",
          "height": 328
        },
        "outputId": "71f80f09-a032-4af5-f194-37f9f6895e4d"
      },
      "outputs": [
        {
          "output_type": "stream",
          "name": "stdout",
          "text": [
            "Confusion matrix, without normalization\n"
          ]
        },
        {
          "output_type": "display_data",
          "data": {
            "text/plain": [
              "<Figure size 432x288 with 2 Axes>"
            ],
            "image/png": "[encoded data removed]"
          },
          "metadata": {
            "needs_background": "light"
          }
        }
      ],
      "source": [
        "cm = metrics.confusion_matrix(y_test, prediction)\n",
        "plot_confusion_matrix(cm, classes=['Fake', 'Real'])"
      ]
    },
    {
      "cell_type": "code",
      "execution_count": null,
      "metadata": {
        "id": "0vVsz4FJgU8y",
        "colab": {
          "base_uri": "https://localhost:8080/",
          "height": 282
        },
        "outputId": "915fb7a3-a6ba-494e-b21a-a3f0766d7dbc"
      },
      "outputs": [
        {
          "output_type": "execute_result",
          "data": {
            "text/plain": [
              "[<matplotlib.lines.Line2D at 0x7f55bb0e3f10>]"
            ]
          },
          "metadata": {},
          "execution_count": 50
        },
        {
          "output_type": "display_data",
          "data": {
            "text/plain": [
              "<Figure size 432x288 with 1 Axes>"
            ],
            "image/png": "[encoded data removed]"
          },
          "metadata": {
            "needs_background": "light"
          }
        }
      ],
      "source": [
        "fpr,tpr,thresholds=roc_curve(prediction,y_test)\n",
        "plt.plot(fpr,tpr)"
      ]
    },
    {
      "cell_type": "code",
      "execution_count": null,
      "metadata": {
        "id": "6LC0CJwCga3G",
        "colab": {
          "base_uri": "https://localhost:8080/"
        },
        "outputId": "17704b9f-e841-48c5-f88b-14327c2a986b"
      },
      "outputs": [
        {
          "output_type": "execute_result",
          "data": {
            "text/plain": [
              "0.8321386299299476"
            ]
          },
          "metadata": {},
          "execution_count": 51
        }
      ],
      "source": [
        "roc_auc_score(prediction,y_test)"
      ]
    },
    {
      "cell_type": "markdown",
      "metadata": {
        "id": "GRl_pQmzm2EI"
      },
      "source": [
        "**INFERENCE :-**\n",
        "\n",
        "**Knn classifier algorithm gave an accuracy,precision,recall,f1 score,auc score of 79.44%,0.78,0.84,0.78,0.83  respectively.**"
      ]
    },
    {
      "cell_type": "markdown",
      "metadata": {
        "id": "xYItTnmVgx2y"
      },
      "source": [
        "## **DECISION TREE CLASSIFIER**"
      ]
    },
    {
      "cell_type": "code",
      "execution_count": null,
      "metadata": {
        "id": "JNQTTaROgwnt",
        "colab": {
          "base_uri": "https://localhost:8080/"
        },
        "outputId": "beb42212-c438-4335-a401-acbad03513ae"
      },
      "outputs": [
        {
          "output_type": "stream",
          "name": "stdout",
          "text": [
            "accuracy: 99.63%\n"
          ]
        }
      ],
      "source": [
        "from sklearn.tree import DecisionTreeClassifier\n",
        "\n",
        "# Vectorizing and applying TF-IDF\n",
        "pipe = Pipeline([('vect', CountVectorizer()),\n",
        "                 ('tfidf', TfidfTransformer()),\n",
        "                 ('model', DecisionTreeClassifier(criterion= 'entropy',\n",
        "                                           max_depth = 20, \n",
        "                                           splitter='best', \n",
        "                                           random_state=42))])\n",
        "# Fitting the model\n",
        "model = pipe.fit(X_train, y_train)\n",
        "\n",
        "# Accuracy\n",
        "prediction = model.predict(X_test)\n",
        "print(\"accuracy: {}%\".format(round(accuracy_score(y_test, prediction)*100,2)))\n",
        "\n",
        "accuracies['Decision Tree Classifier'] = round(accuracy_score(y_test, prediction)*100,2)"
      ]
    },
    {
      "cell_type": "code",
      "execution_count": null,
      "metadata": {
        "id": "EyJ_7DF6oZHe"
      },
      "outputs": [],
      "source": [
        "#from sklearn.tree import export_graphviz \n",
        "  \n",
        "#export_graphviz(model, out_file ='tree.dot',feature_names = X_train[\"subject\"])"
      ]
    },
    {
      "cell_type": "code",
      "execution_count": null,
      "metadata": {
        "id": "gkORHi2mTdHP",
        "colab": {
          "base_uri": "https://localhost:8080/"
        },
        "outputId": "3c4c8eea-cc86-46b8-df01-b97876e7fb79"
      },
      "outputs": [
        {
          "output_type": "stream",
          "name": "stdout",
          "text": [
            "              precision    recall  f1-score   support\n",
            "\n",
            "           0       1.00      1.00      1.00      4741\n",
            "           1       0.99      1.00      1.00      4239\n",
            "\n",
            "    accuracy                           1.00      8980\n",
            "   macro avg       1.00      1.00      1.00      8980\n",
            "weighted avg       1.00      1.00      1.00      8980\n",
            "\n"
          ]
        }
      ],
      "source": [
        "print(classification_report(prediction,y_test))"
      ]
    },
    {
      "cell_type": "code",
      "execution_count": null,
      "metadata": {
        "id": "LEvKmffenwbz",
        "colab": {
          "base_uri": "https://localhost:8080/",
          "height": 328
        },
        "outputId": "372a3235-f10c-4bd5-96cd-c595bf59b674"
      },
      "outputs": [
        {
          "output_type": "stream",
          "name": "stdout",
          "text": [
            "Confusion matrix, without normalization\n"
          ]
        },
        {
          "output_type": "display_data",
          "data": {
            "text/plain": [
              "<Figure size 432x288 with 2 Axes>"
            ],
            "image/png": "[encoded data removed]"
          },
          "metadata": {
            "needs_background": "light"
          }
        }
      ],
      "source": [
        "cm = metrics.confusion_matrix(y_test, prediction)\n",
        "plot_confusion_matrix(cm, classes=['Fake', 'Real'])"
      ]
    },
    {
      "cell_type": "code",
      "execution_count": null,
      "metadata": {
        "id": "3ul5e4pNY5PB",
        "colab": {
          "base_uri": "https://localhost:8080/",
          "height": 282
        },
        "outputId": "8465e751-25b9-443b-a54b-9638f1e1605d"
      },
      "outputs": [
        {
          "output_type": "execute_result",
          "data": {
            "text/plain": [
              "[<matplotlib.lines.Line2D at 0x7f55bb1b56d0>]"
            ]
          },
          "metadata": {},
          "execution_count": 56
        },
        {
          "output_type": "display_data",
          "data": {
            "text/plain": [
              "<Figure size 432x288 with 1 Axes>"
            ],
            "image/png": "[encoded data removed]"
          },
          "metadata": {
            "needs_background": "light"
          }
        }
      ],
      "source": [
        "fpr,tpr,thresholds=roc_curve(prediction,y_test)\n",
        "plt.plot(fpr,tpr)"
      ]
    },
    {
      "cell_type": "code",
      "execution_count": null,
      "metadata": {
        "id": "CMXgMn0mZAaz",
        "colab": {
          "base_uri": "https://localhost:8080/"
        },
        "outputId": "156be56b-059f-4f7c-81ca-4484505565cc"
      },
      "outputs": [
        {
          "output_type": "execute_result",
          "data": {
            "text/plain": [
              "0.996382338565382"
            ]
          },
          "metadata": {},
          "execution_count": 57
        }
      ],
      "source": [
        "roc_auc_score(prediction,y_test)"
      ]
    },
    {
      "cell_type": "markdown",
      "metadata": {
        "id": "79AhejuKm7i3"
      },
      "source": [
        "**INFERENCE :-**\n",
        "\n",
        "**Decision Tree classifier algorithm gave an accuracy,precision,recall,f1 score,auc score of 99.73%,1.0,1.0,1.0,0.997 respectively.**"
      ]
    },
    {
      "cell_type": "markdown",
      "metadata": {
        "id": "cXm8uHY__WD9"
      },
      "source": [
        "## **RANDOM FOREST CLASSIFIER**"
      ]
    },
    {
      "cell_type": "code",
      "execution_count": null,
      "metadata": {
        "id": "LZCAahB1r8Bs",
        "colab": {
          "base_uri": "https://localhost:8080/"
        },
        "outputId": "360aaeac-f52b-4ffc-aa1f-6bdd16420e53"
      },
      "outputs": [
        {
          "output_type": "stream",
          "name": "stdout",
          "text": [
            "accuracy: 99.31%\n"
          ]
        }
      ],
      "source": [
        "from sklearn.ensemble import RandomForestClassifier\n",
        "\n",
        "pipe = Pipeline([('vect', CountVectorizer()),\n",
        "                 ('tfidf', TfidfTransformer()),\n",
        "                 ('model', RandomForestClassifier(random_state=0))])\n",
        "# Fitting the model\n",
        "model = pipe.fit(X_train, y_train)\n",
        "\n",
        "# Accuracy\n",
        "prediction = model.predict(X_test)\n",
        "print(\"accuracy: {}%\".format(round(accuracy_score(y_test, prediction)*100,2)))\n",
        "\n",
        "accuracies['Random Forest Classifier'] = round(accuracy_score(y_test, prediction)*100,2)"
      ]
    },
    {
      "cell_type": "code",
      "execution_count": null,
      "metadata": {
        "id": "CDboAZCKTuX9",
        "colab": {
          "base_uri": "https://localhost:8080/"
        },
        "outputId": "f3340b3f-1f33-484b-84f3-33c6e00dc497"
      },
      "outputs": [
        {
          "output_type": "stream",
          "name": "stdout",
          "text": [
            "              precision    recall  f1-score   support\n",
            "\n",
            "           0       0.99      0.99      0.99      4716\n",
            "           1       0.99      0.99      0.99      4264\n",
            "\n",
            "    accuracy                           0.99      8980\n",
            "   macro avg       0.99      0.99      0.99      8980\n",
            "weighted avg       0.99      0.99      0.99      8980\n",
            "\n"
          ]
        }
      ],
      "source": [
        "print(classification_report(prediction,y_test))"
      ]
    },
    {
      "cell_type": "code",
      "execution_count": null,
      "metadata": {
        "id": "22uZpVMlvEIf",
        "colab": {
          "base_uri": "https://localhost:8080/",
          "height": 328
        },
        "outputId": "6e4a2d9a-2312-44e8-ca8c-6e55af489c05"
      },
      "outputs": [
        {
          "output_type": "stream",
          "name": "stdout",
          "text": [
            "Confusion matrix, without normalization\n"
          ]
        },
        {
          "output_type": "display_data",
          "data": {
            "text/plain": [
              "<Figure size 432x288 with 2 Axes>"
            ],
            "image/png": "[encoded data removed]"
          },
          "metadata": {
            "needs_background": "light"
          }
        }
      ],
      "source": [
        "cm = metrics.confusion_matrix(y_test, prediction)\n",
        "plot_confusion_matrix(cm, classes=['Fake', 'Real'])"
      ]
    },
    {
      "cell_type": "code",
      "execution_count": null,
      "metadata": {
        "id": "9_1AwN7nY7_h",
        "colab": {
          "base_uri": "https://localhost:8080/",
          "height": 282
        },
        "outputId": "35be4872-6fbb-43ea-8ab1-78c13f5b00e7"
      },
      "outputs": [
        {
          "output_type": "execute_result",
          "data": {
            "text/plain": [
              "[<matplotlib.lines.Line2D at 0x7f55b98e8910>]"
            ]
          },
          "metadata": {},
          "execution_count": 61
        },
        {
          "output_type": "display_data",
          "data": {
            "text/plain": [
              "<Figure size 432x288 with 1 Axes>"
            ],
            "image/png": "[encoded data removed]"
          },
          "metadata": {
            "needs_background": "light"
          }
        }
      ],
      "source": [
        "fpr,tpr,thresholds=roc_curve(prediction,y_test)\n",
        "plt.plot(fpr,tpr)"
      ]
    },
    {
      "cell_type": "code",
      "execution_count": null,
      "metadata": {
        "id": "hLdsw5aT9Uhj",
        "colab": {
          "base_uri": "https://localhost:8080/"
        },
        "outputId": "fcf09e6f-df53-43cd-a55d-069736ec701b"
      },
      "outputs": [
        {
          "output_type": "execute_result",
          "data": {
            "text/plain": [
              "0.9929995607941986"
            ]
          },
          "metadata": {},
          "execution_count": 62
        }
      ],
      "source": [
        "roc_auc_score(prediction,y_test)"
      ]
    },
    {
      "cell_type": "markdown",
      "metadata": {
        "id": "4kPbG5zcnAc_"
      },
      "source": [
        "**INFERENCE :-**\n",
        "\n",
        "**Random Forest Classifier algorithm gave an accuracy,precision,recall,f1 score,auc score of 98.91%,0.99,0.99,0.99,0.988 respectively.**"
      ]
    },
    {
      "cell_type": "markdown",
      "metadata": {
        "id": "1ql7xcqUgp6K"
      },
      "source": [
        "## **NAIVE BAYES CLASSIFIER**"
      ]
    },
    {
      "cell_type": "markdown",
      "metadata": {
        "id": "2uMnXWqSRyEs"
      },
      "source": [
        "###**MULTINOMIAL**"
      ]
    },
    {
      "cell_type": "code",
      "execution_count": null,
      "metadata": {
        "id": "FbQO1kFAg173",
        "colab": {
          "base_uri": "https://localhost:8080/"
        },
        "outputId": "4c1fa00f-eb0f-4732-a91e-c02672ad8dec"
      },
      "outputs": [
        {
          "output_type": "stream",
          "name": "stdout",
          "text": [
            "accuracy: 95.59%\n"
          ]
        }
      ],
      "source": [
        "from sklearn.naive_bayes import MultinomialNB\n",
        "\n",
        "pipe = Pipeline([('vect', CountVectorizer()),\n",
        "                 ('tfidf', TfidfTransformer()),\n",
        "                 ('model', MultinomialNB())])  \n",
        "# Fitting the model\n",
        "model = pipe.fit(X_train, y_train)\n",
        "\n",
        "# Accuracy\n",
        "prediction = model.predict(X_test)\n",
        "print(\"accuracy: {}%\".format(round(accuracy_score(y_test, prediction)*100,2)))\n",
        "\n",
        "accuracies['Multinomial Naive Bayes'] = round(accuracy_score(y_test, prediction)*100,2)"
      ]
    },
    {
      "cell_type": "code",
      "execution_count": null,
      "metadata": {
        "id": "ECqP2FZokULw",
        "colab": {
          "base_uri": "https://localhost:8080/"
        },
        "outputId": "3df14805-8213-47ee-c88f-ecf996c02370"
      },
      "outputs": [
        {
          "output_type": "stream",
          "name": "stdout",
          "text": [
            "              precision    recall  f1-score   support\n",
            "\n",
            "           0       0.94      0.97      0.96      4590\n",
            "           1       0.97      0.94      0.95      4390\n",
            "\n",
            "    accuracy                           0.96      8980\n",
            "   macro avg       0.96      0.96      0.96      8980\n",
            "weighted avg       0.96      0.96      0.96      8980\n",
            "\n"
          ]
        }
      ],
      "source": [
        "print(classification_report(prediction,y_test))"
      ]
    },
    {
      "cell_type": "code",
      "execution_count": null,
      "metadata": {
        "id": "Q6w5UV-qkeZi",
        "colab": {
          "base_uri": "https://localhost:8080/",
          "height": 328
        },
        "outputId": "02e78c1a-dcd9-426c-fb8f-b16ada3acbab"
      },
      "outputs": [
        {
          "output_type": "stream",
          "name": "stdout",
          "text": [
            "Confusion matrix, without normalization\n"
          ]
        },
        {
          "output_type": "display_data",
          "data": {
            "text/plain": [
              "<Figure size 432x288 with 2 Axes>"
            ],
            "image/png": "[encoded data removed]"
          },
          "metadata": {
            "needs_background": "light"
          }
        }
      ],
      "source": [
        "cm = metrics.confusion_matrix(y_test, prediction)\n",
        "plot_confusion_matrix(cm, classes=['Fake', 'Real'])"
      ]
    },
    {
      "cell_type": "code",
      "execution_count": null,
      "metadata": {
        "id": "7XaTMb7NkhUe",
        "colab": {
          "base_uri": "https://localhost:8080/",
          "height": 282
        },
        "outputId": "67836c67-fa9d-4a47-f3e0-6a216e78d665"
      },
      "outputs": [
        {
          "output_type": "execute_result",
          "data": {
            "text/plain": [
              "[<matplotlib.lines.Line2D at 0x7f55bb1852d0>]"
            ]
          },
          "metadata": {},
          "execution_count": 66
        },
        {
          "output_type": "display_data",
          "data": {
            "text/plain": [
              "<Figure size 432x288 with 1 Axes>"
            ],
            "image/png": "[encoded data removed]"
          },
          "metadata": {
            "needs_background": "light"
          }
        }
      ],
      "source": [
        "fpr,tpr,thresholds=roc_curve(prediction,y_test)\n",
        "plt.plot(fpr,tpr)"
      ]
    },
    {
      "cell_type": "code",
      "execution_count": null,
      "metadata": {
        "id": "MVX149a8kiEq",
        "colab": {
          "base_uri": "https://localhost:8080/"
        },
        "outputId": "5e6c9009-c1e7-4ff6-bde0-e3cc28b8189f"
      },
      "outputs": [
        {
          "output_type": "execute_result",
          "data": {
            "text/plain": [
              "0.9555327268847301"
            ]
          },
          "metadata": {},
          "execution_count": 67
        }
      ],
      "source": [
        "roc_auc_score(prediction,y_test)"
      ]
    },
    {
      "cell_type": "markdown",
      "metadata": {
        "id": "YnbclpshnM8O"
      },
      "source": [
        "**INFERENCE :-**\n",
        "\n",
        "**Multinomial Naive Bayes algorithm gave an accuracy,precision,recall,f1 score,auc score of 95.17%,0.95,0.95,0.95,0.952 respectively.**\n"
      ]
    },
    {
      "cell_type": "markdown",
      "metadata": {
        "id": "05jODEVLJwLb"
      },
      "source": [
        "### **BERNOULII**"
      ]
    },
    {
      "cell_type": "code",
      "execution_count": null,
      "metadata": {
        "id": "_VgvalfdJi4_",
        "colab": {
          "base_uri": "https://localhost:8080/"
        },
        "outputId": "f064c3bd-ca0b-497d-fedd-97133df35ba3"
      },
      "outputs": [
        {
          "output_type": "stream",
          "name": "stdout",
          "text": [
            "accuracy: 98.24%\n"
          ]
        }
      ],
      "source": [
        "from sklearn.naive_bayes import BernoulliNB\n",
        "\n",
        "pipe = Pipeline([('vect', CountVectorizer()),\n",
        "                 ('tfidf', TfidfTransformer()),\n",
        "                 ('model', BernoulliNB())])  \n",
        "# Fitting the model\n",
        "model = pipe.fit(X_train, y_train)\n",
        "\n",
        "# Accuracy\n",
        "prediction = model.predict(X_test)\n",
        "print(\"accuracy: {}%\".format(round(accuracy_score(y_test, prediction)*100,2)))\n",
        "\n",
        "accuracies['Bernoulli Naive Bayes'] = round(accuracy_score(y_test, prediction)*100,2)"
      ]
    },
    {
      "cell_type": "code",
      "execution_count": null,
      "metadata": {
        "id": "8LrQWriaJ7Vv",
        "colab": {
          "base_uri": "https://localhost:8080/"
        },
        "outputId": "4fbfd35b-2f66-49eb-8536-cb0b313dc9bd"
      },
      "outputs": [
        {
          "output_type": "stream",
          "name": "stdout",
          "text": [
            "              precision    recall  f1-score   support\n",
            "\n",
            "           0       0.97      0.99      0.98      4628\n",
            "           1       0.99      0.97      0.98      4352\n",
            "\n",
            "    accuracy                           0.98      8980\n",
            "   macro avg       0.98      0.98      0.98      8980\n",
            "weighted avg       0.98      0.98      0.98      8980\n",
            "\n"
          ]
        }
      ],
      "source": [
        "print(classification_report(prediction,y_test))"
      ]
    },
    {
      "cell_type": "code",
      "execution_count": null,
      "metadata": {
        "id": "HBabFfN8KBTW",
        "colab": {
          "base_uri": "https://localhost:8080/",
          "height": 328
        },
        "outputId": "157b2d63-b755-4c1b-ced7-300a8c0285eb"
      },
      "outputs": [
        {
          "output_type": "stream",
          "name": "stdout",
          "text": [
            "Confusion matrix, without normalization\n"
          ]
        },
        {
          "output_type": "display_data",
          "data": {
            "text/plain": [
              "<Figure size 432x288 with 2 Axes>"
            ],
            "image/png": "[encoded data removed]"
          },
          "metadata": {
            "needs_background": "light"
          }
        }
      ],
      "source": [
        "cm = metrics.confusion_matrix(y_test, prediction)\n",
        "plot_confusion_matrix(cm, classes=['Fake', 'Real'])"
      ]
    },
    {
      "cell_type": "code",
      "execution_count": null,
      "metadata": {
        "id": "ewTarZOXKEXm",
        "colab": {
          "base_uri": "https://localhost:8080/",
          "height": 282
        },
        "outputId": "512a8196-9eb1-4f04-c34a-1e013548e04c"
      },
      "outputs": [
        {
          "output_type": "execute_result",
          "data": {
            "text/plain": [
              "[<matplotlib.lines.Line2D at 0x7f55bb1a9a10>]"
            ]
          },
          "metadata": {},
          "execution_count": 71
        },
        {
          "output_type": "display_data",
          "data": {
            "text/plain": [
              "<Figure size 432x288 with 1 Axes>"
            ],
            "image/png": "[encoded data removed]"
          },
          "metadata": {
            "needs_background": "light"
          }
        }
      ],
      "source": [
        "fpr,tpr,thresholds=roc_curve(prediction,y_test)\n",
        "plt.plot(fpr,tpr)"
      ]
    },
    {
      "cell_type": "code",
      "execution_count": null,
      "metadata": {
        "id": "fsGrx2tfKIXB",
        "colab": {
          "base_uri": "https://localhost:8080/"
        },
        "outputId": "c2951bfa-151f-4250-9ca7-196676242abc"
      },
      "outputs": [
        {
          "output_type": "execute_result",
          "data": {
            "text/plain": [
              "0.9820392734124765"
            ]
          },
          "metadata": {},
          "execution_count": 72
        }
      ],
      "source": [
        "roc_auc_score(prediction,y_test)"
      ]
    },
    {
      "cell_type": "markdown",
      "metadata": {
        "id": "Qz23olLNnQmC"
      },
      "source": [
        "**INFERENCE :-**\n",
        "\n",
        "**Bernoulli Naive Bayes algorithm gave an accuracy,precision,recall,f1 score,auc score of 97.81%,0.98,0.98,0.98,0.977  respectively.**"
      ]
    },
    {
      "cell_type": "markdown",
      "metadata": {
        "id": "Si_1JKnB0x14"
      },
      "source": [
        "## **SVM(Support Vector Machine)**"
      ]
    },
    {
      "cell_type": "markdown",
      "metadata": {
        "id": "pj0FNO7VO7H4"
      },
      "source": [
        "###**LINEAR**"
      ]
    },
    {
      "cell_type": "code",
      "execution_count": null,
      "metadata": {
        "id": "EMtI2XV20-1e",
        "colab": {
          "base_uri": "https://localhost:8080/"
        },
        "outputId": "1df423ea-aee5-46a7-e2fe-5605cd21389b"
      },
      "outputs": [
        {
          "output_type": "stream",
          "name": "stdout",
          "text": [
            "accuracy: 99.58%\n"
          ]
        }
      ],
      "source": [
        "from sklearn.svm import SVC  \n",
        "\n",
        "pipe = Pipeline([('vect', CountVectorizer()),\n",
        "                 ('tfidf', TfidfTransformer()),\n",
        "                 ('model',SVC(kernel='linear'))])  \n",
        "# Fitting the model\n",
        "model = pipe.fit(X_train, y_train)\n",
        "\n",
        "# Accuracy\n",
        "prediction = model.predict(X_test)\n",
        "print(\"accuracy: {}%\".format(round(accuracy_score(y_test, prediction)*100,2)))\n",
        "\n",
        "accuracies['SVM(Linear)'] = round(accuracy_score(y_test, prediction)*100,2)\n"
      ]
    },
    {
      "cell_type": "code",
      "execution_count": null,
      "metadata": {
        "id": "M3RgkCVA1tDW",
        "colab": {
          "base_uri": "https://localhost:8080/"
        },
        "outputId": "cdf2412f-5817-4b8d-c169-aebcb72a6250"
      },
      "outputs": [
        {
          "output_type": "stream",
          "name": "stdout",
          "text": [
            "              precision    recall  f1-score   support\n",
            "\n",
            "           0       0.99      1.00      1.00      4718\n",
            "           1       1.00      0.99      1.00      4262\n",
            "\n",
            "    accuracy                           1.00      8980\n",
            "   macro avg       1.00      1.00      1.00      8980\n",
            "weighted avg       1.00      1.00      1.00      8980\n",
            "\n"
          ]
        }
      ],
      "source": [
        "print(classification_report(prediction,y_test))"
      ]
    },
    {
      "cell_type": "code",
      "execution_count": null,
      "metadata": {
        "id": "H1bwczTt1wBs",
        "colab": {
          "base_uri": "https://localhost:8080/",
          "height": 328
        },
        "outputId": "3b71b700-e840-45f1-92f0-7ab61ce54c6a"
      },
      "outputs": [
        {
          "output_type": "stream",
          "name": "stdout",
          "text": [
            "Confusion matrix, without normalization\n"
          ]
        },
        {
          "output_type": "display_data",
          "data": {
            "text/plain": [
              "<Figure size 432x288 with 2 Axes>"
            ],
            "image/png": "[encoded data removed]"
          },
          "metadata": {
            "needs_background": "light"
          }
        }
      ],
      "source": [
        "cm = metrics.confusion_matrix(y_test, prediction)\n",
        "plot_confusion_matrix(cm, classes=['Fake', 'Real'])"
      ]
    },
    {
      "cell_type": "code",
      "execution_count": null,
      "metadata": {
        "id": "ncZ5XIQ412NA",
        "colab": {
          "base_uri": "https://localhost:8080/",
          "height": 282
        },
        "outputId": "bfb776da-32f5-4ab2-c1f6-d5253eeb39e4"
      },
      "outputs": [
        {
          "output_type": "execute_result",
          "data": {
            "text/plain": [
              "[<matplotlib.lines.Line2D at 0x7f55b9825110>]"
            ]
          },
          "metadata": {},
          "execution_count": 76
        },
        {
          "output_type": "display_data",
          "data": {
            "text/plain": [
              "<Figure size 432x288 with 1 Axes>"
            ],
            "image/png": "[encoded data removed]"
          },
          "metadata": {
            "needs_background": "light"
          }
        }
      ],
      "source": [
        "fpr,tpr,thresholds=roc_curve(prediction,y_test)\n",
        "plt.plot(fpr,tpr)"
      ]
    },
    {
      "cell_type": "code",
      "execution_count": null,
      "metadata": {
        "id": "1LZ8d6z712Tp",
        "colab": {
          "base_uri": "https://localhost:8080/"
        },
        "outputId": "40803375-0c64-471a-907a-aad53e3b83f2"
      },
      "outputs": [
        {
          "output_type": "execute_result",
          "data": {
            "text/plain": [
              "0.9956894022294281"
            ]
          },
          "metadata": {},
          "execution_count": 77
        }
      ],
      "source": [
        "roc_auc_score(prediction,y_test)"
      ]
    },
    {
      "cell_type": "markdown",
      "metadata": {
        "id": "zy-pXrjynXMa"
      },
      "source": [
        "**INFERENCE :-**\n",
        "\n",
        "**SVM linear algorithm gave an accuracy,precision,recall,f1 score,auc score of 99.52%,1.0,1.0,1.0,0.995 respectively.**"
      ]
    },
    {
      "cell_type": "markdown",
      "metadata": {
        "id": "lUl062DlPCwY"
      },
      "source": [
        "###**POLYNOMIAL**"
      ]
    },
    {
      "cell_type": "code",
      "execution_count": null,
      "metadata": {
        "id": "z4fyy7sxPYzg"
      },
      "outputs": [],
      "source": [
        "from sklearn.svm import SVC  \n",
        "\n",
        "pipe = Pipeline([('vect', CountVectorizer()),\n",
        "                 ('tfidf', TfidfTransformer()),\n",
        "                 ('model',SVC(kernel='poly'))])  \n",
        "# Fitting the model\n",
        "model = pipe.fit(X_train, y_train)\n",
        "\n",
        "# Accuracy\n",
        "prediction = model.predict(X_test)\n",
        "print(\"accuracy: {}%\".format(round(accuracy_score(y_test, prediction)*100,2)))\n",
        "\n",
        "accuracies['SVM(Polynomial)'] = round(accuracy_score(y_test, prediction)*100,2)\n"
      ]
    },
    {
      "cell_type": "code",
      "execution_count": null,
      "metadata": {
        "colab": {
          "background_save": true
        },
        "id": "hoY_pTVePZvq"
      },
      "outputs": [],
      "source": [
        "print(classification_report(prediction,y_test))"
      ]
    },
    {
      "cell_type": "code",
      "execution_count": null,
      "metadata": {
        "colab": {
          "background_save": true
        },
        "id": "xh197JWlPaNm"
      },
      "outputs": [],
      "source": [
        "cm = metrics.confusion_matrix(y_test, prediction)\n",
        "plot_confusion_matrix(cm, classes=['Fake', 'Real'])"
      ]
    },
    {
      "cell_type": "code",
      "execution_count": null,
      "metadata": {
        "colab": {
          "background_save": true
        },
        "id": "9Goinkq-PaaV"
      },
      "outputs": [],
      "source": [
        "fpr,tpr,thresholds=roc_curve(prediction,y_test)\n",
        "plt.plot(fpr,tpr)"
      ]
    },
    {
      "cell_type": "code",
      "execution_count": null,
      "metadata": {
        "colab": {
          "background_save": true
        },
        "id": "SeghiK74PaoO"
      },
      "outputs": [],
      "source": [
        "roc_auc_score(prediction,y_test)"
      ]
    },
    {
      "cell_type": "markdown",
      "metadata": {
        "id": "PAR3XlAGnb8x"
      },
      "source": [
        "**INFERENCE :-**\n",
        "\n",
        "**SVM polynomial algorithm gave an accuracy,precision,recall,f1 score,auc score of 95.5%,0.95,0.96,0.95,0.958 respectively.**\n"
      ]
    },
    {
      "cell_type": "markdown",
      "metadata": {
        "id": "4HSJrRCFPkyl"
      },
      "source": [
        "###**SIGMOID**"
      ]
    },
    {
      "cell_type": "code",
      "execution_count": null,
      "metadata": {
        "id": "XorMd0DcPyLA"
      },
      "outputs": [],
      "source": [
        "from sklearn.svm import SVC  \n",
        "\n",
        "pipe = Pipeline([('vect', CountVectorizer()),\n",
        "                 ('tfidf', TfidfTransformer()),\n",
        "                 ('model',SVC(kernel='sigmoid'))])  \n",
        "# Fitting the model\n",
        "model = pipe.fit(X_train, y_train)\n",
        "\n",
        "# Accuracy\n",
        "prediction = model.predict(X_test)\n",
        "print(\"accuracy: {}%\".format(round(accuracy_score(y_test, prediction)*100,2)))\n",
        "\n",
        "accuracies['SVM(Sigmoid)'] = round(accuracy_score(y_test, prediction)*100,2)\n"
      ]
    },
    {
      "cell_type": "code",
      "execution_count": null,
      "metadata": {
        "id": "cICL1SxfPyUD"
      },
      "outputs": [],
      "source": [
        "print(classification_report(prediction,y_test))"
      ]
    },
    {
      "cell_type": "code",
      "execution_count": null,
      "metadata": {
        "id": "w4d1287gPybF"
      },
      "outputs": [],
      "source": [
        "cm = metrics.confusion_matrix(y_test, prediction)\n",
        "plot_confusion_matrix(cm, classes=['Fake', 'Real'])"
      ]
    },
    {
      "cell_type": "code",
      "execution_count": null,
      "metadata": {
        "id": "1lPwlx-ZPyie"
      },
      "outputs": [],
      "source": [
        "fpr,tpr,thresholds=roc_curve(prediction,y_test)\n",
        "plt.plot(fpr,tpr)"
      ]
    },
    {
      "cell_type": "code",
      "execution_count": null,
      "metadata": {
        "id": "oB7wER35PypQ"
      },
      "outputs": [],
      "source": [
        "roc_auc_score(prediction,y_test)"
      ]
    },
    {
      "cell_type": "markdown",
      "metadata": {
        "id": "ewTrL9nSnf9K"
      },
      "source": [
        "**INFERENCE :-**\n",
        "\n",
        "**SVM sigmoid algorithm gave an accuracy,precision,recall,f1 score,auc score of 99.44%,0.99,0.99,0.99,0.994  respectively.**"
      ]
    },
    {
      "cell_type": "markdown",
      "metadata": {
        "id": "fXmZj9-9Qu3a"
      },
      "source": [
        "###**RBF(Radial Basis Function)**"
      ]
    },
    {
      "cell_type": "code",
      "execution_count": null,
      "metadata": {
        "id": "yuvevf3PRMjh"
      },
      "outputs": [],
      "source": [
        "from sklearn.svm import SVC  \n",
        "\n",
        "pipe = Pipeline([('vect', CountVectorizer()),\n",
        "                 ('tfidf', TfidfTransformer()),\n",
        "                 ('model',SVC(kernel='rbf'))])  \n",
        "# Fitting the model\n",
        "model = pipe.fit(X_train, y_train)\n",
        "\n",
        "# Accuracy\n",
        "prediction = model.predict(X_test)\n",
        "print(\"accuracy: {}%\".format(round(accuracy_score(y_test, prediction)*100,2)))\n",
        "\n",
        "accuracies['RBF'] = round(accuracy_score(y_test, prediction)*100,2)"
      ]
    },
    {
      "cell_type": "code",
      "execution_count": null,
      "metadata": {
        "id": "HBYrzWuBRMrP"
      },
      "outputs": [],
      "source": [
        "print(classification_report(prediction,y_test))"
      ]
    },
    {
      "cell_type": "code",
      "execution_count": null,
      "metadata": {
        "id": "sXVamb38RMvA"
      },
      "outputs": [],
      "source": [
        "cm = metrics.confusion_matrix(y_test, prediction)\n",
        "plot_confusion_matrix(cm, classes=['Fake', 'Real'])"
      ]
    },
    {
      "cell_type": "code",
      "execution_count": null,
      "metadata": {
        "id": "s_AMC29xRM0a"
      },
      "outputs": [],
      "source": [
        "fpr,tpr,thresholds=roc_curve(prediction,y_test)\n",
        "plt.plot(fpr,tpr)"
      ]
    },
    {
      "cell_type": "code",
      "execution_count": null,
      "metadata": {
        "id": "oIvytn91RM_H"
      },
      "outputs": [],
      "source": [
        "roc_auc_score(prediction,y_test)"
      ]
    },
    {
      "cell_type": "markdown",
      "metadata": {
        "id": "dH8QmxSSnkBv"
      },
      "source": [
        "**INFERENCE :-**\n",
        "\n",
        "**SVM radial basis function(RBF) algorithm gave an accuracy,precision,recall,f1 score,auc score of 99.47%,0.99,0.99,0.99,0.994 respectively.**"
      ]
    },
    {
      "cell_type": "markdown",
      "metadata": {
        "id": "H9cHzidvzBE_"
      },
      "source": [
        "#**CONCLUSION**"
      ]
    },
    {
      "cell_type": "code",
      "execution_count": null,
      "metadata": {
        "id": "w8P3tMDRC-qA"
      },
      "outputs": [],
      "source": [
        "sort_accuracies = sorted(accuracies.items(), key=lambda x: x[1], reverse=True)\n",
        "\n",
        "for i,j in sort_accuracies:\n",
        "  print(i,\":\",j)"
      ]
    },
    {
      "cell_type": "markdown",
      "metadata": {
        "id": "aOPQBBD3nw1f"
      },
      "source": [
        "**INFERENCE :-**\n",
        "\n",
        "**After applying all the possible algorithms for the Fake news detection dataset Decision Tree classifier with accuracy 99.73%,SVM linear with accuracy 99.52%, SVM RBF with accuracy 99.47% and SVM sigmoid with accuracy 99.44%are the best algorithms for this fake news dataset with good accuracies.**"
      ]
    },
    {
      "cell_type": "markdown",
      "source": [
        "#Streamlit"
      ],
      "metadata": {
        "id": "5-X6xyH1kChT"
      }
    },
    {
      "cell_type": "code",
      "source": [
        "import pickle"
      ],
      "metadata": {
        "id": "Vl1r9YmSkA__"
      },
      "execution_count": null,
      "outputs": []
    },
    {
      "cell_type": "code",
      "source": [
        "data = {\"model\": model}"
      ],
      "metadata": {
        "id": "Vu7v2s6ekPRm"
      },
      "execution_count": null,
      "outputs": []
    },
    {
      "cell_type": "code",
      "source": [
        "with open('fake_news_classifier.pkl', 'wb') as file:\n",
        "  pickle.dump(data,file)"
      ],
      "metadata": {
        "id": "DgvjUcMRpRcU"
      },
      "execution_count": null,
      "outputs": []
    },
    {
      "cell_type": "code",
      "source": [
        "with open('fake_news_classifier.pkl', 'rb') as file:\n",
        "  data = pickle.load(file)"
      ],
      "metadata": {
        "id": "asG5Tcz_pgDF"
      },
      "execution_count": null,
      "outputs": []
    },
    {
      "cell_type": "code",
      "source": [
        "l=list(X_test)\n",
        "l[0]"
      ],
      "metadata": {
        "colab": {
          "base_uri": "https://localhost:8080/",
          "height": 140
        },
        "id": "hjriKaGIpxE6",
        "outputId": "c7d830fc-fa8f-4a41-b4ce-78d7b360eb6d"
      },
      "execution_count": null,
      "outputs": [
        {
          "output_type": "execute_result",
          "data": {
            "text/plain": [
              "'jr smith st centuri wiremuch made democrat hillari clinton white hous accus russia tri influenc us elect although neither present real evid back extraordinari claim hand plenti evid document cia interf alter numer foreign elect throughout histori rais interest question would cia ever tri interfer us elect evan mcmullin yearold selfdescrib conserv mormon former cia oper enjoy grey man said mcmullin year ciaon wall salt lake citi campaign offic poster read presid bit worri inde mcmullin fanci jame bond charact way realli sum presidenti run work grey area back room meet gop establish luminari color privat public decept cia special decad manipul pervert hundr oversea elect interest transnat corpor elit like mitt romney seem insid man nest anoth key posit oddli media often introduc conserv columnist seemingli effort distract total insid pedigre mcmullin newcom fresh face career oper insert special nich includ recent stint congression director gop polici come shadow play key role us elect behalf power interestsaccord real clear polit mcmullin describ work clandestin oper cia iraq afghanistan war zone post hostil environ admit job penetr insurg terrorist group well foreign govern recruit agent pass inform take peopl battlefield either captur kill interest skill set penetr govern safe assum also entail subvert elect oversea mayb use saudi arabian cash buy weapon jihadi terrorist rebel syrianot surprisingli mcmullin trumpet loud antiputin antiassad rhetor almost perfectli synchron hillari clinton like clinton mcmullin reli campaign fear set russia syria attempt tri bracket trump togther oversea leader current demon order washington dc establish donald trump authoritarian like vladimir putin like bashar alassad like communist regim china work around authoritarian oversea know see donald trump one would bring kind econom stagnat intern turmoil discord countri dictat bring sure kremlin consid donald trump far success intellig oper ever clear vladimir putin regim control donald trump trump support putin thing consist follow straight mcmullin campaign websit head america role world evan impos tougher sanction russia increas america militari presenc baltic order deter revers putin aggress rather pretend partner peac syria evan stand right american alli ship sail freeli intern water rather let china domin western pacif statement could well written cia offic forward inform plan offic hillari take pickth next line r sum also throw big red flag also former oper goldman sach invest bank cia goldman sach asid bankrol bill hillari clinton polit machin better part last year goldman also back mitt romney fail presidenti runth connect establish player undeni mcmullin sit comfort cia grey areast utah hillari send strong messag utah chang discuss washington across countri said mcmullinthi problem contriv mcmullin campaign impact nation polit discussionsinc announc candidaci three month ago august campaign realli exist insid utah conveni amplifi us corpor mainstream media media outlet demonstr proclinton antisand antitrump sinc begin presidenti raceevan mcmullin primari direct seem steal utah elector vote away republican candid donald trump current enjoy comfort lead hillari clinton utah recent poll show trump mcmullin run neck neck utah respect alreadi tight nation race trump clinton elector vote could easili decid nation elect favor hillari clintonasid utah mcmullin also hope steal away republ vote key state substanti mormon popul like arizona idaho wyom mcmullin hope exploit mormon voter block issu donald trump bolshi demeanor alleg past sex scandal neg reson conserv mormon voter place like utahbas incred amount nation media access given across top establish broadcast tv network pretti clear mcmullin campaign engin highest level candid appear nowher last two month enjoy cart blanch airtim includ softbal interview meet press chuck todd week georg stephanopoulo well primetim slot proclinton media outlet cnn cb nbc cours democrat parti channel msnbchere debut spot morn joe mcmullin wax georg bush kept countri safe familiar platitud mcmullin speak almost hear voic mitt romney old gop establish republican parti make chang abl conserv movement need new polit vehicl said mcmullin stephanopoulosfrom sort statement see object mcmullin campaign romney keep republican candid win novemb thestablish scion mitt romney photo left wall street partner desper deathli frighten donald trump win build new gop power base one base tight elit wall street invest bank circl use men like romney intermediari control govemn affair fix market rather real peopl power base grassroot work class middl class votersth subtl piec mcmullin decept constantli spin mainstream media clinton victori alreadi fait accompli word trump alreadi lost cast vote protest vote winner hillari clinton appli subtl spin mcmullin hope avoid finger mitt romney nevertrump toolget enough ballot enough state requir money polit machin enter team romney mcmullin abil get ballot state also writein access other financ run c profit organ like mcmullin suddenli pop year call better america said found gop oper john kingston joel searbywhen ask whether back mitt romney mcmullin alway say fact say otherwis see clearli mcmullin creation mitt romney socal nevertrump movement mcmullin primari backer project appear kingston happen former gop deleg massachusett donor former massachusett governor mitt romney well execut produc documentari mittin addit mcmullin run mate former mitt romney campaign staffer mindi finn asid work bush administr finn also work twitter googl specif build tech network washington beltway anoth total insidermcmullin also work former mitt romney campaign strategist stuart stevensbehind patriot rhetor better america market spin wellfinanc laser focus oper steal utah republican parti public organ claim deserv better two candid deepli unfavor among major peopl claim repres togeth give voic million american cannot good conscienc vote either donald trump hillari clinton third parti candid emerg need know support ground among nearli twothird american said will support independ candid better america claim disingenu best outright decept least alreadi third fourth parti candid gari johnson libertarian parti jill stein green parti organ state casual ignor altern candid indic attempt total manipul elector conversationveri underhand ye someth cia oper would oversea thrawrt elect destabl fledgl democraci target nation romney goldman sach end gamebeyond engin narrow victori hillari clinton mitt romney nevertrump conclav last option steal elect nov th goe like final play would neither trump clinton receiv elector colleg vote requir outright victori would send elect hous repres happen sinc point republican hous repres mani nevertrump support would choos top three candid state mcmullin win utah would theoret chanc good chanc hillari clinton wouldregardless either scenario although clinton scenario real predic evan mcmullin role spoiler mcmullin admit openli depend race hillari clinton donald trump close close clinton friend campaign backer like goldman sach ceo lloyd blankfein fellow wall street elit donald trump victori could mean interrupt profit slow financi organ crime fiat paper fraud enrich clinton soon obama ever sinc bill clinton gave goldman co ultim blank check outgo us presid repeal glass steagal act one stroke pen clinton set stage financi collaps bailout recipi blankfein goldman syndic romney made vast fortun peopl miseri notic goldman wall street stuf money clinton pocket ever sinc speak fee job invest also bankrol chelsea clinton husband mark mezvinski hedg fundblankfein ilk brought us economi knee paid handsom effortit incestu ring financi skullduggeri hear righteou selfstyl liberti advoc evan mcmullin much mention let alon bad mouth former employ crimin financi institut yet real stori everyon realli talk elect seedi relationship like goldman sach establish favor polit candidatesread elect news st centuri wire filessupport wire subscrib becom member wiretv'"
            ],
            "application/vnd.google.colaboratory.intrinsic+json": {
              "type": "string"
            }
          },
          "metadata": {},
          "execution_count": 55
        }
      ]
    },
    {
      "cell_type": "code",
      "source": [
        "data['model'].predict([l[0]])[0]"
      ],
      "metadata": {
        "colab": {
          "base_uri": "https://localhost:8080/"
        },
        "id": "U437xMFkpk94",
        "outputId": "d96376b4-68b2-4418-a1c1-575bceb3e99b"
      },
      "execution_count": null,
      "outputs": [
        {
          "output_type": "execute_result",
          "data": {
            "text/plain": [
              "0"
            ]
          },
          "metadata": {},
          "execution_count": 58
        }
      ]
    }
  ],
  "metadata": {
    "colab": {
      "collapsed_sections": [],
      "name": "Fake news detection.ipynb",
      "provenance": []
    },
    "kernelspec": {
      "display_name": "Python 3",
      "name": "python3"
    },
    "language_info": {
      "name": "python"
    }
  },
  "nbformat": 4,
  "nbformat_minor": 0
}